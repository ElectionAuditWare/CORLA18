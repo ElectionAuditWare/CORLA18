{
 "cells": [
  {
   "cell_type": "markdown",
   "metadata": {},
   "source": [
    "# Hybrid audit examples"
   ]
  },
  {
   "cell_type": "code",
   "execution_count": 1,
   "metadata": {
    "collapsed": true
   },
   "outputs": [],
   "source": [
    "from __future__ import division, print_function\n",
    "%matplotlib inline\n",
    "import matplotlib\n",
    "import matplotlib.pyplot as plt\n",
    "\n",
    "import math\n",
    "import numpy as np\n",
    "import numpy.random\n",
    "import scipy as sp\n",
    "import scipy.stats\n",
    "\n",
    "from ballot_comparison import findNmin_ballot_comparison_rates\n",
    "from hypergeometric import trihypergeometric_optim, simulate_ballot_polling_power"
   ]
  },
  {
   "cell_type": "markdown",
   "metadata": {},
   "source": [
    "# Example 1 - medium sized election, close race\n",
    "\n",
    "There are two strata. One contains every CVR county and the other contains every no-CVR county.\n",
    "There were 110,000 ballots cast in the election, 100,000 in the CVR stratum and 10,000 in the no-CVR stratum.\n",
    "\n",
    "In the CVR stratum, there were 45,500 votes reported for A, 49,500 votes for candidate B, and 5,000 invalid ballots.\n",
    "In the no-CVR stratum, there were 7,500 votes reported for A, 1,500 votes for B, and 1000 invalid ballots.\n",
    "A won overall, with 53,000 votes to B's 51,000, but not in the CVR stratum.\n",
    "The reported vote margin between A and B is 2,000 votes, a \"diluted margin\" of $2,000/110,000 = 1.8\\%$.\n",
    "\n",
    "\n",
    "Candidate | Stratum 1 | Stratum 2 | total \n",
    "---|---|---|---\n",
    "A | 45,500 | 7,500 | 53,000\n",
    "B | 49,500 | 1,500 | 51,000\n",
    "Ballots | 100,000 | 10,000 | 110,000\n",
    "Diluted margin | -4% | 60% | 1.8%\n",
    "\n",
    "\n",
    "\n",
    "\n",
    "For any $\\lambda$, the reported outcome of the election is correct if the overstatement of the margin in the CVR stratum is less than $2000\\lambda$ votes and if the overstatement of the margin in the no-CVR stratum is less than $2000(1-\\lambda)$ votes. \n",
    "For this example, we set $\\lambda = 0.1$, which allocates most overstatement error to the no-CVR stratum.\n",
    "\n",
    "We want to limit the risk of certifying an incorrect outcome to at most $\\alpha=10\\%$. \n",
    "We allocate risk unequally between the two strata: $\\alpha_1 = 3\\%$ in the CVR stratum and $\\alpha_2 = 7\\%$ in the no-CVR stratum; this gives an overall risk limit of $1-(1-.03)(1-.07) < 9.8\\%$.\n",
    "\n",
    "We test the following pair of null hypotheses, using independent samples from the two strata:\n",
    "\n",
    "* the overstatment in the CVR stratum is less than $2000\\lambda$. We test at significance level\n",
    "(risk limit) $\\alpha_1$ using a ballot-level comparison audit\n",
    "\n",
    "* the overstatment in the no-CVR stratum is less than $2000(1-\\lambda)$. We test this at significance level (risk limit) $\\alpha_2$ using a ballot-polling audit\n",
    "\n",
    "If either null is not rejected, we hand count the corresponding stratum completely, adjust the null\n",
    "in the other stratum to reflect the known tally in the other stratum, and then determine whether there needs to be\n",
    "more auditing in the stratum that was not fully hand counted.\n",
    "\n"
   ]
  },
  {
   "cell_type": "code",
   "execution_count": 2,
   "metadata": {
    "collapsed": true
   },
   "outputs": [],
   "source": [
    "lambda1 = 0.3\n",
    "lambda2 = 1-lambda1\n",
    "alpha1 = 0.03\n",
    "alpha2 = 0.07\n",
    "N1 = 100000\n",
    "N2 = 10000\n",
    "N_w1 = 45500\n",
    "N_l1 = 49500\n",
    "N_w2 = 7500\n",
    "N_l2= 1500\n",
    "margin = (N_w1 + N_w2 - N_l1 - N_l2)"
   ]
  },
  {
   "cell_type": "markdown",
   "metadata": {},
   "source": [
    "# CVR stratum\n",
    "\n",
    "We compute the sample size needed to confirm the election outcome, for a number of assumed rates of error in the population of ballots.\n",
    "\n",
    "We take the chosen $\\lambda$ from above and plug it in as the parameter `null_lambda` in the function below.\n",
    "\n",
    "We set $\\gamma = 1.03905$ as in \"A Gentle Introduction to Risk-limiting Audits.\""
   ]
  },
  {
   "cell_type": "code",
   "execution_count": 3,
   "metadata": {
    "collapsed": false
   },
   "outputs": [
    {
     "data": {
      "text/plain": [
       "1213.0"
      ]
     },
     "execution_count": 3,
     "metadata": {},
     "output_type": "execute_result"
    }
   ],
   "source": [
    "# Assuming that the audit will find no errors\n",
    "findNmin_ballot_comparison_rates(alpha=alpha1, gamma=1.03905, \n",
    "                                r1=0, s1=0, r2=0, s2=0,\n",
    "                                reported_margin=margin, N=N1, null_lambda=lambda1)"
   ]
  },
  {
   "cell_type": "code",
   "execution_count": 4,
   "metadata": {
    "collapsed": false
   },
   "outputs": [
    {
     "data": {
      "text/plain": [
       "1569.0"
      ]
     },
     "execution_count": 4,
     "metadata": {},
     "output_type": "execute_result"
    }
   ],
   "source": [
    "# Assuming that the audit will find 1-vote overstatements at rate 0.1%\n",
    "findNmin_ballot_comparison_rates(alpha=alpha1, gamma=1.03905, \n",
    "                                r1=0.001, s1=0, r2=0, s2=0,\n",
    "                                reported_margin=margin, N=N1, null_lambda=lambda1)"
   ]
  },
  {
   "cell_type": "markdown",
   "metadata": {},
   "source": [
    "# No-CVR stratum\n",
    "\n",
    "Below, we compute the sample size $n$ needed to confirm the election outcome.\n",
    "\n",
    "Define\n",
    "$$\n",
    "    c = \\text{reported margin in the stratum } - \\lambda_2 \\text{overall reported margin}.\n",
    "$$\n",
    "\n",
    "The reported margin in the stratum could be large or small, but it is known. \n",
    "\n",
    "$c$ defines the null hypothesis. We test the null that the actual margin in the stratum is less than or equal to $c$: $A_{w, 2} - A_{\\ell, 2} \\leq c$. Here, $A_{w, 2}+A_{\\ell,2}$ is an unknown nuisance parameter.\n",
    "\n",
    "In practice, we will maximize the $p$-value over all possible pairs $(A_{w,2}, A_{\\ell, 2})$ in the null."
   ]
  },
  {
   "cell_type": "code",
   "execution_count": 5,
   "metadata": {
    "collapsed": false
   },
   "outputs": [
    {
     "name": "stdout",
     "output_type": "stream",
     "text": [
      "margin adjusted for allowable overstatement is  4600.0\n",
      "The critical value of the test is  136\n",
      "In 10,000 simulations with a sample size of 250 ballots, the rate of stopping the audit is  0.8933\n"
     ]
    }
   ],
   "source": [
    "c = (N_w2-N_l2) - lambda2*margin\n",
    "print(\"margin adjusted for allowable overstatement is \", c)\n",
    "power = simulate_ballot_polling_power(N_w=N_w2, N_l=N_l2, N=N2, \n",
    "                              null_margin=c, n=250, alpha=alpha2,\n",
    "                              reps=10000, verbose=False)\n",
    "print(\"In 10,000 simulations with a sample size of 250 ballots, the rate of stopping the audit is \", power)"
   ]
  },
  {
   "cell_type": "code",
   "execution_count": 6,
   "metadata": {
    "collapsed": false
   },
   "outputs": [
    {
     "name": "stdout",
     "output_type": "stream",
     "text": [
      "margin adjusted for allowable overstatement is  4600.0\n",
      "The critical value of the test is  235\n",
      "In 10,000 simulations with a sample size of 450 ballots, the rate of stopping the audit is  0.9872\n"
     ]
    }
   ],
   "source": [
    "c = (N_w2-N_l2) - lambda2*margin\n",
    "print(\"margin adjusted for allowable overstatement is \", c)\n",
    "power = simulate_ballot_polling_power(N_w=N_w2, N_l=N_l2, N=N2, \n",
    "                              null_margin=c, n=450, alpha=alpha2,\n",
    "                              reps=10000, verbose=False)\n",
    "print(\"In 10,000 simulations with a sample size of 450 ballots, the rate of stopping the audit is \", power)"
   ]
  },
  {
   "cell_type": "markdown",
   "metadata": {},
   "source": [
    "# What if we could do a ballot-comparison audit for the entire contest?\n",
    "\n",
    "With current technology, this isn't possible. We'll use a risk limit of 10% to be consistent with the example above."
   ]
  },
  {
   "cell_type": "code",
   "execution_count": 7,
   "metadata": {
    "collapsed": true
   },
   "outputs": [],
   "source": [
    "alpha = 0.1"
   ]
  },
  {
   "cell_type": "code",
   "execution_count": 8,
   "metadata": {
    "collapsed": false
   },
   "outputs": [
    {
     "data": {
      "text/plain": [
       "263.0"
      ]
     },
     "execution_count": 8,
     "metadata": {},
     "output_type": "execute_result"
    }
   ],
   "source": [
    "# Assuming that the audit will find no errors\n",
    "findNmin_ballot_comparison_rates(alpha=alpha, gamma=1.03905, \n",
    "                                r1=0, s1=0, r2=0, s2=0,\n",
    "                                reported_margin=margin, N=N1+N2, \n",
    "                                null_lambda=1)"
   ]
  },
  {
   "cell_type": "code",
   "execution_count": 9,
   "metadata": {
    "collapsed": false
   },
   "outputs": [
    {
     "data": {
      "text/plain": [
       "284.0"
      ]
     },
     "execution_count": 9,
     "metadata": {},
     "output_type": "execute_result"
    }
   ],
   "source": [
    "# Assuming that the audit will find 1-vote overstatements at rate 0.1%\n",
    "findNmin_ballot_comparison_rates(alpha=alpha, gamma=1.03905, \n",
    "                                r1=0.001, s1=0, r2=0, s2=0,\n",
    "                                reported_margin=margin, N=N1+N2, \n",
    "                                null_lambda=1)"
   ]
  },
  {
   "cell_type": "markdown",
   "metadata": {},
   "source": [
    "# Instead, what if we did an inefficient approach?\n",
    "\n",
    "In Section 2.3 of the paper, we suggest a simple-but-pessimistic approach: sample uniformly from all counties as if one were performing a ballot-level comparison audit everywhere, but to treat any ballot selected from a legacy county as a two-vote overstatement.\n",
    "\n",
    "In this example, $10,000/1,100,000 \\approx 9\\%$ of ballots come from the no-CVR stratum. We find that we'd proceed to a full hand count."
   ]
  },
  {
   "cell_type": "code",
   "execution_count": 10,
   "metadata": {
    "collapsed": false
   },
   "outputs": [
    {
     "data": {
      "text/plain": [
       "nan"
      ]
     },
     "execution_count": 10,
     "metadata": {},
     "output_type": "execute_result"
    }
   ],
   "source": [
    "# Assuming that the audit will find no errors\n",
    "findNmin_ballot_comparison_rates(alpha=alpha, gamma=1.03905, \n",
    "                                r1=0, s1=0, r2=N1/(N1+N2), s2=0,\n",
    "                                reported_margin=margin, N=N1+N2, null_lambda=1)"
   ]
  },
  {
   "cell_type": "markdown",
   "metadata": {},
   "source": [
    "If, instead, the margin were a bit larger (in this example, let's say 10,000 votes) and the no-CVR counties made up only 1.2% of total ballots, things would be more favorable."
   ]
  },
  {
   "cell_type": "code",
   "execution_count": 11,
   "metadata": {
    "collapsed": false
   },
   "outputs": [
    {
     "data": {
      "text/plain": [
       "430.0"
      ]
     },
     "execution_count": 11,
     "metadata": {},
     "output_type": "execute_result"
    }
   ],
   "source": [
    "# Assuming that the audit will find no errors\n",
    "findNmin_ballot_comparison_rates(alpha=alpha, gamma=1.03905, \n",
    "                                r1=0, s1=0, r2=0.012, s2=0,\n",
    "                                reported_margin=10000, N=N1+N2, null_lambda=1)"
   ]
  },
  {
   "cell_type": "markdown",
   "metadata": {
    "collapsed": true
   },
   "source": [
    "# Example 2 - large election, large margin\n",
    "\n",
    "There are two strata. One contains every CVR county and the other contains every no-CVR county.\n",
    "There were 2 million ballots cast in the election, 1.9 million in the CVR stratum and 100,000 in the no-CVR stratum.\n",
    "\n",
    "In the CVR stratum, the diluted margin was $21\\%$: there were 1,102,000 votes reported for A, 703,000 votes reported for candidate B, and 76,000 invalid ballots.\n",
    "In the no-CVR stratum, the diluted margin was $-10\\%$: there were 42,500 votes reported for A, 52,500 votes for B, and 5,000 invalid ballots.\n",
    "A won overall, with 1,144,500 votes to B's 755,500, but not in the CVR stratum.\n",
    "The reported vote margin between A and B is 389,000 votes, a \"diluted margin\" of $389,000/2,000,000 = 19.45\\%$.\n",
    "\n",
    "\n",
    "Candidate | Stratum 1 | Stratum 2 | total \n",
    "---|---|---|---\n",
    "A | 1,102,000 | 42,500 | 1,144,500\n",
    "B | 703,000 |  52,500 | 755,500\n",
    "Ballots | 1,900,000 | 100,000 | 2,000,000\n",
    "Diluted margin | 21% | -10% | 19.45%\n",
    "\n",
    "\n",
    "\n",
    "For any $\\lambda$, the reported outcome of the election is correct if the overstatement of the margin in the CVR stratum is less than $389000\\lambda$ votes and if the overstatement of the margin in the no-CVR stratum is less than $389000(1-\\lambda)$ votes. \n",
    "For this example, we set $\\lambda = 0.1$, which allocates most overstatement error to the no-CVR stratum.\n",
    "\n",
    "We want to limit the risk of certifying an incorrect outcome to at most $\\alpha=5\\%$. \n",
    "We allocate risk unequally between the two strata.\n",
    "The total risk is at most $1 - (1-\\alpha_1)(1-\\alpha_2)$.\n",
    "One choice is to set $\\alpha_1 = 1\\%$ and to solve for the value of $\\alpha_2$\n",
    "which makes $1 - (1-\\alpha_1)(1-\\alpha_2) = \\alpha$.\n",
    "In this case, $\\alpha_1=1\\%$ and $\\alpha_2 = 4.04\\%$ achieve the desired risk limit.\n",
    "\n",
    "We test the following pair of null hypotheses, using independent samples from the two strata:\n",
    "\n",
    "* the overstatment in the CVR stratum is less than $389000\\lambda$. We test at significance level\n",
    "(risk limit) $\\alpha_1$ using a ballot-level comparison audit\n",
    "\n",
    "* the overstatment in the no-CVR stratum is less than $389000(1-\\lambda)$. We test this at significance level (risk limit) $\\alpha_2$ using a ballot-polling audit\n",
    "\n",
    "If either null is not rejected, we hand count the corresponding stratum completely, adjust the null\n",
    "in the other stratum to reflect the known tally in the other stratum, and then determine whether there needs to be\n",
    "more auditing in the stratum that was not fully hand counted.\n",
    "\n"
   ]
  },
  {
   "cell_type": "code",
   "execution_count": 12,
   "metadata": {
    "collapsed": true
   },
   "outputs": [],
   "source": [
    "lambda1 = 0.9\n",
    "lambda2 = 1-lambda1\n",
    "alpha1 = 0.01\n",
    "alpha2 = 0.0404\n",
    "N1 = 1900000\n",
    "N2 = 100000\n",
    "N_w1 = 1102000\n",
    "N_l1 = 703000\n",
    "N_w2 = 42500\n",
    "N_l2= 52500\n",
    "margin = (N_w1 + N_w2 - N_l1 - N_l2)"
   ]
  },
  {
   "cell_type": "markdown",
   "metadata": {},
   "source": [
    "# CVR stratum\n",
    "\n",
    "We compute the sample size needed to confirm the election outcome, for a number of assumed rates of error in the population of ballots.\n",
    "\n",
    "We take the chosen $\\lambda$ from above and plug it in as the parameter `null_lambda` in the function below.\n",
    "\n",
    "We set $\\gamma = 1.03905$ as in \"A Gentle Introduction to Risk-limiting Audits.\""
   ]
  },
  {
   "cell_type": "code",
   "execution_count": 13,
   "metadata": {
    "collapsed": false
   },
   "outputs": [
    {
     "data": {
      "text/plain": [
       "50.0"
      ]
     },
     "execution_count": 13,
     "metadata": {},
     "output_type": "execute_result"
    }
   ],
   "source": [
    "# Assuming that the audit will find no errors\n",
    "findNmin_ballot_comparison_rates(alpha=alpha1, gamma=1.03905, \n",
    "                                r1=0, s1=0, r2=0, s2=0,\n",
    "                                reported_margin=margin, N=N1, null_lambda=lambda1)"
   ]
  },
  {
   "cell_type": "code",
   "execution_count": 14,
   "metadata": {
    "collapsed": false
   },
   "outputs": [
    {
     "data": {
      "text/plain": [
       "50.0"
      ]
     },
     "execution_count": 14,
     "metadata": {},
     "output_type": "execute_result"
    }
   ],
   "source": [
    "# Assuming that the audit will find 1-vote overstatements at rate 0.1%\n",
    "findNmin_ballot_comparison_rates(alpha=alpha1, gamma=1.03905, \n",
    "                                r1=0.001, s1=0, r2=0, s2=0,\n",
    "                                reported_margin=margin, N=N1, null_lambda=lambda1)"
   ]
  },
  {
   "cell_type": "markdown",
   "metadata": {},
   "source": [
    "# No-CVR stratum\n",
    "\n",
    "Below, we compute the sample size $n$ needed to confirm the election outcome.\n",
    "\n",
    "Define\n",
    "$$\n",
    "    c = \\text{reported margin in the stratum } - \\lambda_2 \\text{overall reported margin}.\n",
    "$$\n",
    "\n",
    "The reported margin in the stratum could be large or small, but it is known. \n",
    "\n",
    "$c$ defines the null hypothesis. We test the null that the actual margin in the stratum is less than or equal to $c$: $A_{w, 2} - A_{\\ell, 2} \\leq c$. Here, $A_{w, 2}+A_{\\ell,2}$ is an unknown nuisance parameter.\n",
    "\n",
    "In practice, we will maximize the $p$-value over all possible pairs $(A_{w,2}, A_{\\ell, 2})$ in the null."
   ]
  },
  {
   "cell_type": "code",
   "execution_count": 15,
   "metadata": {
    "collapsed": false
   },
   "outputs": [
    {
     "name": "stdout",
     "output_type": "stream",
     "text": [
      "Margin that must be exceeded given the allowable overstatement is  -48899\n",
      "The critical value of the test is  -13\n",
      "In 10,000 simulations with a sample size of 50 ballots, the rate of stopping the audit is  0.8955\n"
     ]
    }
   ],
   "source": [
    "# Assuming that the stratum reported margin is accurate\n",
    "\n",
    "# We don't know N_w, N_\\ell so maximize the p-value over all possibilities.\n",
    "c = int((N_w2-N_l2) - lambda2*margin)\n",
    "print(\"Margin that must be exceeded given the allowable overstatement is \", c)\n",
    "power = simulate_ballot_polling_power(N_w=N_w2, N_l=N_l2, N=N2, \n",
    "                              null_margin=c, n=50, alpha=alpha2,\n",
    "                              reps=10000, verbose=False)\n",
    "print(\"In 10,000 simulations with a sample size of 50 ballots, the rate of stopping the audit is \", power)"
   ]
  },
  {
   "cell_type": "code",
   "execution_count": 16,
   "metadata": {
    "collapsed": false
   },
   "outputs": [
    {
     "name": "stdout",
     "output_type": "stream",
     "text": [
      "Margin that must be exceeded given the allowable overstatement is  -48899\n",
      "The critical value of the test is  -33\n",
      "In 10,000 simulations with a sample size of 100 ballots, the rate of stopping the audit is  0.993\n"
     ]
    }
   ],
   "source": [
    "c = int((N_w2-N_l2) - lambda2*margin)\n",
    "print(\"Margin that must be exceeded given the allowable overstatement is \", c)\n",
    "power = simulate_ballot_polling_power(N_w=N_w2, N_l=N_l2, N=N2, \n",
    "                              null_margin=c, n=100, alpha=alpha2,\n",
    "                              reps=10000, verbose=False)\n",
    "print(\"In 10,000 simulations with a sample size of 100 ballots, the rate of stopping the audit is \", power)"
   ]
  },
  {
   "cell_type": "markdown",
   "metadata": {},
   "source": [
    "# What if we could do a ballot-comparison audit for the entire contest?\n",
    "\n",
    "With current technology, this isn't possible. We'll use a risk limit of 10% to be consistent with the example above."
   ]
  },
  {
   "cell_type": "code",
   "execution_count": 17,
   "metadata": {
    "collapsed": true
   },
   "outputs": [],
   "source": [
    "alpha = 0.1"
   ]
  },
  {
   "cell_type": "code",
   "execution_count": 18,
   "metadata": {
    "collapsed": false
   },
   "outputs": [
    {
     "data": {
      "text/plain": [
       "24.0"
      ]
     },
     "execution_count": 18,
     "metadata": {},
     "output_type": "execute_result"
    }
   ],
   "source": [
    "# Assuming that the audit will find no errors\n",
    "findNmin_ballot_comparison_rates(alpha=alpha, gamma=1.03905, \n",
    "                                r1=0, s1=0, r2=0, s2=0,\n",
    "                                reported_margin=margin, N=N1+N2, null_lambda=1)"
   ]
  },
  {
   "cell_type": "code",
   "execution_count": 19,
   "metadata": {
    "collapsed": false
   },
   "outputs": [
    {
     "data": {
      "text/plain": [
       "24.0"
      ]
     },
     "execution_count": 19,
     "metadata": {},
     "output_type": "execute_result"
    }
   ],
   "source": [
    "# Assuming that the audit will find 1-vote overstatements at rate 0.1%\n",
    "findNmin_ballot_comparison_rates(alpha=alpha, gamma=1.03905, \n",
    "                                r1=0.001, s1=0, r2=0, s2=0,\n",
    "                                reported_margin=margin, N=N1+N2, null_lambda=1)"
   ]
  },
  {
   "cell_type": "markdown",
   "metadata": {},
   "source": [
    "# Instead, what if we did an inefficient approach?\n",
    "\n",
    "In Section 2.3 of the paper, we suggest a simple-but-pessimistic approach: sample uniformly from all counties as if one were performing a ballot-level comparison audit everywhere, but to treat any ballot selected from a legacy county as a two-vote overstatement.\n",
    "\n",
    "In this example, $100,000/2,000,000 = 5\\%$ of ballots come from the no-CVR stratum. We find that we'd proceed to a full hand count."
   ]
  },
  {
   "cell_type": "code",
   "execution_count": 20,
   "metadata": {
    "collapsed": false
   },
   "outputs": [
    {
     "data": {
      "text/plain": [
       "nan"
      ]
     },
     "execution_count": 20,
     "metadata": {},
     "output_type": "execute_result"
    }
   ],
   "source": [
    "# Assuming that the audit will find no errors\n",
    "findNmin_ballot_comparison_rates(alpha=alpha, gamma=1.03905, \n",
    "                                r1=0, s1=0, r2=N1/(N1+N2), s2=0,\n",
    "                                reported_margin=margin, N=N1+N2, null_lambda=1)"
   ]
  }
 ],
 "metadata": {
  "kernelspec": {
   "display_name": "Python 3",
   "language": "python",
   "name": "python3"
  },
  "language_info": {
   "codemirror_mode": {
    "name": "ipython",
    "version": 3
   },
   "file_extension": ".py",
   "mimetype": "text/x-python",
   "name": "python",
   "nbconvert_exporter": "python",
   "pygments_lexer": "ipython3",
   "version": "3.4.3"
  }
 },
 "nbformat": 4,
 "nbformat_minor": 2
}
