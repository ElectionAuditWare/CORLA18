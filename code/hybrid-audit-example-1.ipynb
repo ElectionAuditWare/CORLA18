{
 "cells": [
  {
   "cell_type": "code",
   "execution_count": 1,
   "metadata": {},
   "outputs": [],
   "source": [
    "from __future__ import division, print_function\n",
    "%matplotlib inline\n",
    "import matplotlib\n",
    "import matplotlib.pyplot as plt\n",
    "\n",
    "import math\n",
    "import numpy as np\n",
    "import numpy.random\n",
    "import scipy as sp\n",
    "import scipy.stats\n",
    "\n",
    "from ballot_comparison import findNmin_ballot_comparison_rates\n",
    "from hypergeometric import trihypergeometric_optim, simulate_ballot_polling_power"
   ]
  },
  {
   "cell_type": "markdown",
   "metadata": {},
   "source": [
    "# Example of a hybrid audit\n",
    "\n",
    "There are two strata. One contains every CVR county and the other contains every no-CVR county.\n",
    "There were 110,000 ballots cast in the election, 100,000 in the CVR stratum and 10,000 in the no-CVR stratum.\n",
    "In the CVR stratum, there were 45,500 votes reported for A, 49,500 votes for candidate B, and 5,000 invalid ballots.\n",
    "In the no-CVR stratum, there were 7,500 votes reported for A, 1,500 votes for B, and 1000 invalid ballots.\n",
    "A won overall, with 53,000 votes to B's 51,000, but not in the CVR stratum.\n",
    "\n",
    "The reported vote margin between A and B is 2000 votes, a \"diluted margin\" of $2000/110000 = 1.8\\%$.\n",
    "\n",
    "For any $\\lambda$, the reported outcome of the election is correct if the overstatement of the margin in the CVR stratum is less than $2000\\lambda$ votes and if the overstatement of the margin in the no-CVR stratum is less than $2000(1-\\lambda)$ votes. \n",
    "For this example, we set $\\lambda = 0.1$, which allocates most overstatement error to the no-CVR stratum.\n",
    "\n",
    "We want to limit the risk of certifying an incorrect outcome to at most $\\alpha=10\\%$. \n",
    "We allocate risk unequally between the two strata: $\\alpha_1 = 3\\%$ in the CVR stratum and $\\alpha_2 = 7\\%$ in the no-CVR stratum; this gives an overall risk limit of $1-(1-.03)(1-.07) < 9.8\\%$.\n",
    "\n",
    "We test the following pair of null hypotheses, using independent samples from the two strata:\n",
    "\n",
    "* the overstatment in the CVR stratum is less than $2000\\lambda$. We test at significance level\n",
    "(risk limit) $\\alpha_1$ using a ballot-level comparison audit\n",
    "\n",
    "* the overstatment in the no-CVR stratum is less than $2000(1-\\lambda)$. We test this at significance level (risk limit) $\\alpha_2$ using a ballot-polling audit\n",
    "\n",
    "If either null is not rejected, we hand count the corresponding stratum completely, adjust the null\n",
    "in the other stratum to reflect the known tally in the other stratum, and then determine whether there needs to be\n",
    "more auditing in the stratum that was not fully hand counted.\n",
    "\n"
   ]
  },
  {
   "cell_type": "code",
   "execution_count": 2,
   "metadata": {},
   "outputs": [],
   "source": [
    "lambda1 = 0.3\n",
    "lambda2 = 1-lambda1\n",
    "alpha1 = 0.03\n",
    "alpha2 = 0.07\n",
    "N1 = 100000\n",
    "N2 = 10000\n",
    "N_w1 = 45500\n",
    "N_l1 = 49500\n",
    "N_w2 = 7500\n",
    "N_l2= 1500\n",
    "margin = (N_w1 + N_w2 - N_l1 - N_l2)"
   ]
  },
  {
   "cell_type": "markdown",
   "metadata": {},
   "source": [
    "# CVR stratum\n",
    "\n",
    "We compute the sample size needed to confirm the election outcome, for a number of assumed rates of error in the population of ballots.\n",
    "\n",
    "We take the chosen $\\lambda$ from above and plug it in as the parameter `null_lambda` in the function below.\n",
    "\n",
    "We set $\\gamma = 1.03905$ as in \"A Gentle Introduction to Risk-limiting Audits.\""
   ]
  },
  {
   "cell_type": "code",
   "execution_count": 3,
   "metadata": {},
   "outputs": [
    {
     "data": {
      "text/plain": [
       "1213.0"
      ]
     },
     "execution_count": 3,
     "metadata": {},
     "output_type": "execute_result"
    }
   ],
   "source": [
    "# Assuming that the audit will find no errors\n",
    "findNmin_ballot_comparison_rates(alpha=alpha1, gamma=1.03905, \n",
    "                                r1=0, s1=0, r2=0, s2=0,\n",
    "                                reported_margin=margin, N=N1, null_lambda=lambda1)"
   ]
  },
  {
   "cell_type": "code",
   "execution_count": 4,
   "metadata": {},
   "outputs": [
    {
     "data": {
      "text/plain": [
       "1569.0"
      ]
     },
     "execution_count": 4,
     "metadata": {},
     "output_type": "execute_result"
    }
   ],
   "source": [
    "# Assuming that the audit will find 1-vote overstatements at rate 0.1%\n",
    "findNmin_ballot_comparison_rates(alpha=alpha1, gamma=1.03905, \n",
    "                                r1=0.001, s1=0, r2=0, s2=0,\n",
    "                                reported_margin=margin, N=N1, null_lambda=lambda1)"
   ]
  },
  {
   "cell_type": "markdown",
   "metadata": {},
   "source": [
    "# No-CVR stratum\n",
    "\n",
    "Below, we compute the sample size $n$ needed to confirm the election outcome.\n",
    "\n",
    "Define\n",
    "$$\n",
    "    c = \\text{reported margin in the stratum } - \\lambda_2 \\text{overall reported margin}.\n",
    "$$\n",
    "\n",
    "The reported margin in the stratum could be large or small, but it is known. \n",
    "\n",
    "$c$ defines the null hypothesis. We test the null that the actual margin in the stratum is less than or equal to $c$: $A_{w, 2} - A_{\\ell, 2} \\leq c$. Here, $A_{w, 2}+A_{\\ell,2}$ is an unknown nuisance parameter.\n",
    "\n",
    "In practice, we will maximize the $p$-value over all possible pairs $(A_{w,2}, A_{\\ell, 2})$ in the null."
   ]
  },
  {
   "cell_type": "code",
   "execution_count": 5,
   "metadata": {},
   "outputs": [
    {
     "name": "stdout",
     "output_type": "stream",
     "text": [
      "margin adjusted for allowable overstatement is  4600.0\n",
      "threshold margin is  136\n"
     ]
    },
    {
     "data": {
      "text/plain": [
       "0.8933"
      ]
     },
     "execution_count": 5,
     "metadata": {},
     "output_type": "execute_result"
    }
   ],
   "source": [
    "c = (N_w2-N_l2) - lambda2*margin\n",
    "print(\"margin adjusted for allowable overstatement is \", c)\n",
    "simulate_ballot_polling_power(N_w=N_w2, N_l=N_l2, N=N2, \n",
    "                              null_margin=c, n=250, alpha=alpha2,\n",
    "                              reps=10000, verbose=False)"
   ]
  },
  {
   "cell_type": "code",
   "execution_count": 7,
   "metadata": {},
   "outputs": [
    {
     "name": "stdout",
     "output_type": "stream",
     "text": [
      "margin adjusted for allowable overstatement is  4600.0\n",
      "threshold margin is  186\n"
     ]
    },
    {
     "data": {
      "text/plain": [
       "0.96"
      ]
     },
     "execution_count": 7,
     "metadata": {},
     "output_type": "execute_result"
    }
   ],
   "source": [
    "c = (N_w2-N_l2) - lambda2*margin\n",
    "print(\"margin adjusted for allowable overstatement is \", c)\n",
    "simulate_ballot_polling_power(N_w=N_w2, N_l=N_l2, N=N2, \n",
    "                              null_margin=c, n=350, alpha=alpha2,\n",
    "                              reps=10000, verbose=False)"
   ]
  },
  {
   "cell_type": "code",
   "execution_count": null,
   "metadata": {},
   "outputs": [],
   "source": []
  }
 ],
 "metadata": {
  "kernelspec": {
   "display_name": "Python 3",
   "language": "python",
   "name": "python3"
  },
  "language_info": {
   "codemirror_mode": {
    "name": "ipython",
    "version": 3
   },
   "file_extension": ".py",
   "mimetype": "text/x-python",
   "name": "python",
   "nbconvert_exporter": "python",
   "pygments_lexer": "ipython3",
   "version": "3.6.1"
  }
 },
 "nbformat": 4,
 "nbformat_minor": 2
}
