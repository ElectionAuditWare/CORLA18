{
 "cells": [
  {
   "cell_type": "code",
   "execution_count": 1,
   "metadata": {
    "collapsed": true
   },
   "outputs": [],
   "source": [
    "import numpy as np\n",
    "import scipy as sp\n",
    "import scipy.stats\n",
    "import scipy.optimize\n",
    "from ballot_comparison import ballot_comparison_pvalue\n",
    "from hypergeometric import trihypergeometric_optim\n",
    "from fishers_combination import fisher_combined_pvalue, maximize_fisher_combined_pvalue, \\\n",
    "    plot_fisher_pvalues\n",
    "\n",
    "import matplotlib.pyplot as plt\n",
    "%matplotlib inline"
   ]
  },
  {
   "cell_type": "code",
   "execution_count": 2,
   "metadata": {
    "collapsed": false
   },
   "outputs": [],
   "source": [
    "N1 = 10000\n",
    "N2 = 1000\n",
    "N_w1 = 4550\n",
    "N_l1 = 4950\n",
    "N_w2 = 750\n",
    "N_l2= 150\n",
    "margin = (N_w1 + N_w2 - N_l1 - N_l2)\n",
    "\n",
    "n1 = 500\n",
    "n2 = 250\n",
    "\n",
    "cvr_pvalue = lambda alloc: ballot_comparison_pvalue(n=n1, gamma=1.03905, o1=0, u1=0, o2=0, u2=0, \n",
    "                                                    reported_margin=margin, N=N1, null_lambda=alloc)\n",
    "nocvr_pvalue = lambda alloc: trihypergeometric_optim(sample= np.array([0]*int(n2*N_l2/N2)+[1]*int(n2*N_w2/N2)+[np.nan]*int(n2*(N2-N_l2-N_w2)/N2)), \n",
    "                                                     popsize=N2, \n",
    "                                                     null_margin=(N_w2-N_l2) - alloc*margin)"
   ]
  },
  {
   "cell_type": "code",
   "execution_count": 3,
   "metadata": {
    "collapsed": false
   },
   "outputs": [
    {
     "name": "stdout",
     "output_type": "stream",
     "text": [
      "[0.23557770396261943, 0.001425699715253263]\n",
      "0.00302236691268\n"
     ]
    }
   ],
   "source": [
    "# This is one possible allocation lambda=0.3\n",
    "pvalues = [cvr_pvalue(0.3), nocvr_pvalue(0.7)]\n",
    "print(pvalues)\n",
    "fisher_pvalue = fisher_combined_pvalue(pvalues)\n",
    "print(fisher_pvalue)"
   ]
  },
  {
   "cell_type": "code",
   "execution_count": 4,
   "metadata": {
    "collapsed": false,
    "scrolled": true
   },
   "outputs": [
    {
     "name": "stdout",
     "output_type": "stream",
     "text": [
      "-9 11\n",
      "-9.0 0\n",
      "-8.5 0\n",
      "-8.0 0\n",
      "-7.5 0\n",
      "-7.0 0\n",
      "-6.5 0\n",
      "-6.0 0\n",
      "-5.5 0\n",
      "-5.0 0.0\n",
      "-4.5 0.0\n",
      "-4.0 0.0\n",
      "-3.5 0.0\n",
      "-3.0 0.0\n",
      "-2.5 0.0\n",
      "-2.0 0.0\n",
      "-1.5 0.0\n",
      "-1.0 1.07247544179e-13\n",
      "-0.5 2.09982869981e-08\n",
      "0.0 0.000201206808265\n",
      "0.5 0.010103481892\n",
      "1.0 0.0259274436535\n",
      "1.5 0.00575285367914\n",
      "2.0 0.000645115294631\n",
      "2.5 6.78091214908e-05\n",
      "3.0 0\n",
      "3.5 0\n",
      "4.0 0\n",
      "4.5 0\n",
      "5.0 0\n",
      "5.5 0\n",
      "6.0 0\n",
      "6.5 0\n",
      "7.0 0\n",
      "7.5 0\n",
      "8.0 0\n",
      "8.5 0\n",
      "9.0 0\n",
      "9.5 0\n",
      "10.0 0\n",
      "10.5 0\n",
      "11.0 0\n",
      "11.5 0\n"
     ]
    },
    {
     "data": {
      "image/png": "[encoded data removed]",
      "text/plain": [
       "<matplotlib.figure.Figure at 0x1103ed5f8>"
      ]
     },
     "metadata": {},
     "output_type": "display_data"
    },
    {
     "data": {
      "image/png": "[encoded data removed]",
      "text/plain": [
       "<matplotlib.figure.Figure at 0x110886048>"
      ]
     },
     "metadata": {},
     "output_type": "display_data"
    }
   ],
   "source": [
    "# find range of possible lambda\n",
    "lambda_upper = int(np.min([2*N1/margin, 1+2*N2/margin]))\n",
    "lambda_lower = int(np.max([-2*N1/margin, 1-2*N2/margin]))\n",
    "\n",
    "print(lambda_lower, lambda_upper)\n",
    "\n",
    "fisher_pvalues = []\n",
    "cvr_pvalues = []\n",
    "nocvr_pvalues = []\n",
    "for lam in np.arange(lambda_lower, lambda_upper+1, 0.5):\n",
    "#for lam in np.arange(0, 1, 0.05):\n",
    "    cvr_pvalues.append(np.min([1, cvr_pvalue(lam)]))\n",
    "    nocvr_pvalues.append(nocvr_pvalue(1-lam))\n",
    "    fisher_pvalues.append(fisher_combined_pvalue([cvr_pvalues[-1], nocvr_pvalues[-1]]))\n",
    "    print(lam, fisher_pvalues[-1])    \n",
    "    \n",
    "plt.scatter(np.arange(lambda_lower, lambda_upper+1, 0.5), cvr_pvalues, color='r')\n",
    "plt.scatter(np.arange(lambda_lower, lambda_upper+1, 0.5), nocvr_pvalues, color='b')\n",
    "plt.show()\n",
    "\n",
    "plt.scatter(np.arange(lambda_lower, lambda_upper+1, 0.5), fisher_pvalues, color='black')\n",
    "plt.show()\n",
    "\n"
   ]
  },
  {
   "cell_type": "code",
   "execution_count": 5,
   "metadata": {
    "collapsed": false
   },
   "outputs": [
    {
     "data": {
      "text/plain": [
       "{'allocation lambda': 0.93248039808125949,\n",
       " 'max_pvalue': 0.027011101425504891,\n",
       " 'min_chisq': 10.960538840556488}"
      ]
     },
     "execution_count": 5,
     "metadata": {},
     "output_type": "execute_result"
    }
   ],
   "source": [
    "maximize_fisher_combined_pvalue(N=(N1, N2), overall_margin=margin, \n",
    "                          pvalue_funs=(cvr_pvalue, nocvr_pvalue))"
   ]
  }
 ],
 "metadata": {
  "kernelspec": {
   "display_name": "Python 3",
   "language": "python",
   "name": "python3"
  },
  "language_info": {
   "codemirror_mode": {
    "name": "ipython",
    "version": 3
   },
   "file_extension": ".py",
   "mimetype": "text/x-python",
   "name": "python",
   "nbconvert_exporter": "python",
   "pygments_lexer": "ipython3",
   "version": "3.4.3"
  }
 },
 "nbformat": 4,
 "nbformat_minor": 2
}
