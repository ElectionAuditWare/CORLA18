{
 "cells": [
  {
   "cell_type": "markdown",
   "metadata": {},
   "source": [
    "# Illustration of Fisher's combination method\n",
    "\n",
    "We'll set up a hypothetical election and a single sample of ballots to illustrate how to combine a ballot-polling audit with a ballot-comparison audit using Fisher's combining function.\n",
    "\n",
    "There are two strata. One contains every CVR county and the other contains every no-CVR county.\n",
    "There were 11,000 ballots cast in the election, 10,000 in the CVR stratum and 1,000 in the no-CVR stratum.\n",
    "\n",
    "In the CVR stratum, there were 4,550 votes reported for A, 4,950 votes for candidate B, and 500 invalid ballots.\n",
    "In the no-CVR stratum, there were 750 votes reported for A, 150 votes for B, and 100 invalid ballots.\n",
    "A won overall, with 5,300 votes to B's 5,1000, but not in the CVR stratum.\n",
    "The reported vote margin between A and B is 200 votes, a \"diluted margin\" of $200/11,000 = 1.8\\%$.\n",
    "\n",
    "\n",
    "Candidate | Stratum 1 | Stratum 2 | total \n",
    "---|---|---|---\n",
    "A | 4,550 | 750 | 5,300\n",
    "B | 4,950 | 150 | 5,100\n",
    "Ballots | 10,000 | 1,000 | 11,000\n",
    "Diluted margin | -4% | 60% | 1.8%\n",
    "\n",
    "We want to limit the risk of certifying an incorrect outcome to at most $\\alpha=10\\%$. \n",
    "\n",
    "In the CVR stratum, we sample 500 ballots and find no discrepancies.\n",
    "\n",
    "In the no-CVR stratum, we sample 250 ballots. We are unusually lucky and the vote proportions in the sample match those in the population. There are $187$ ballots for A and $37$ ballots for B. "
   ]
  },
  {
   "cell_type": "code",
   "execution_count": 1,
   "metadata": {
    "collapsed": false
   },
   "outputs": [],
   "source": [
    "import numpy as np\n",
    "import scipy as sp\n",
    "import scipy.stats\n",
    "import scipy.optimize\n",
    "from ballot_comparison import ballot_comparison_pvalue\n",
    "from hypergeometric import trihypergeometric_optim\n",
    "from fishers_combination import fisher_combined_pvalue, maximize_fisher_combined_pvalue, \\\n",
    "     bound_fisher_fun, calculate_lambda_range\n",
    "\n",
    "import matplotlib.pyplot as plt\n",
    "%matplotlib inline"
   ]
  },
  {
   "cell_type": "code",
   "execution_count": 2,
   "metadata": {
    "collapsed": false
   },
   "outputs": [],
   "source": [
    "N1 = 10000\n",
    "N2 = 1000\n",
    "N_w1 = 4550\n",
    "N_l1 = 4950\n",
    "N_w2 = 750\n",
    "N_l2= 150\n",
    "margin = (N_w1 + N_w2 - N_l1 - N_l2)\n",
    "\n",
    "n1 = 500\n",
    "n2 = 250"
   ]
  },
  {
   "cell_type": "markdown",
   "metadata": {},
   "source": [
    "Below, we define functions for computing $P$-values based on the observed samples. \n",
    "The observed statistics and known parameters (e.g. the total number of ballots cast in each stratum) should be plugged in already. These $P$-values are functions of the error allocation $\\lambda$ which determines how much overstatement error is allowed in each stratum."
   ]
  },
  {
   "cell_type": "code",
   "execution_count": 3,
   "metadata": {
    "collapsed": true
   },
   "outputs": [],
   "source": [
    "cvr_pvalue = lambda alloc: \\\n",
    "    ballot_comparison_pvalue(n=n1, gamma=1.03905, o1=0, u1=0, o2=0, u2=0, \\\n",
    "                             reported_margin=margin, N=N1, null_lambda=alloc)\n",
    "nocvr_pvalue = lambda alloc: \\\n",
    "    trihypergeometric_optim(sample= np.array([0]*int(n2*N_l2/N2)+\\\n",
    "                                             [1]*int(n2*N_w2/N2)+\\\n",
    "                                             [np.nan]*int(n2*(N2-N_l2-N_w2)/N2 + 1)), \\\n",
    "                            popsize=N2, \\\n",
    "                            null_margin=(N_w2-N_l2) - alloc*margin)"
   ]
  },
  {
   "cell_type": "code",
   "execution_count": 4,
   "metadata": {
    "collapsed": false
   },
   "outputs": [
    {
     "name": "stdout",
     "output_type": "stream",
     "text": [
      "lambda = 0.3\n",
      "CVR P-value: 0.235577703963 \n",
      "no-CVR P-value: 0.00164835119454\n",
      "Fisher's combined P-value: 0.00343802041465\n"
     ]
    }
   ],
   "source": [
    "# This is one possible allocation lambda=0.3\n",
    "\n",
    "print(\"lambda = 0.3\")\n",
    "pvalues = [cvr_pvalue(0.3), nocvr_pvalue(0.7)]\n",
    "print(\"CVR P-value:\", pvalues[0], \"\\nno-CVR P-value:\", pvalues[1])\n",
    "fisher_pvalue = fisher_combined_pvalue(pvalues)\n",
    "print(\"Fisher's combined P-value:\", fisher_pvalue)"
   ]
  },
  {
   "cell_type": "markdown",
   "metadata": {},
   "source": [
    "# Maximizing the $P$-value over $\\lambda$\n",
    "\n",
    "We can stop the audit if the $P$-value is less than the risk limit, $10\\%$, for all values of $\\lambda$ that allocating the overstatement error between the CVR and no-CVR strata. First, let's just plot the $P$-values in each stratum for varying values of $\\lambda$ to see how they behave."
   ]
  },
  {
   "cell_type": "code",
   "execution_count": 5,
   "metadata": {
    "collapsed": false,
    "scrolled": true
   },
   "outputs": [
    {
     "name": "stdout",
     "output_type": "stream",
     "text": [
      "Lambda limits: -9 12\n"
     ]
    },
    {
     "data": {
      "image/png": "[encoded data removed]",
      "text/plain": [
       "<matplotlib.figure.Figure at 0x110508a90>"
      ]
     },
     "metadata": {},
     "output_type": "display_data"
    }
   ],
   "source": [
    "# find range of possible lambda\n",
    "lambda_upper = int(np.min([2*N1/margin, 1+2*N2/margin]))+1\n",
    "lambda_lower = int(np.max([-2*N1/margin, 1-2*N2/margin]))\n",
    "\n",
    "#(lambda_lower, lambda_upper) = calculate_lambda_range(N_w1, N_l1, N1, N_w2, N_l2, N2)\n",
    "\n",
    "print(\"Lambda limits:\", lambda_lower, lambda_upper)\n",
    "\n",
    "fisher_pvalues = []\n",
    "cvr_pvalues = []\n",
    "nocvr_pvalues = []\n",
    "for lam in np.arange(lambda_lower, lambda_upper+1, 0.5):\n",
    "    cvr_pvalues.append(np.min([1, cvr_pvalue(lam)]))\n",
    "    nocvr_pvalues.append(nocvr_pvalue(1-lam))\n",
    "    fisher_pvalues.append(fisher_combined_pvalue([cvr_pvalues[-1], nocvr_pvalues[-1]]))\n",
    "    \n",
    "plt.scatter(np.arange(lambda_lower, lambda_upper+1, 0.5), cvr_pvalues, color='r', label=\"CVR\")\n",
    "plt.scatter(np.arange(lambda_lower, lambda_upper+1, 0.5), nocvr_pvalues, color='b', label=\"no-CVR\")\n",
    "plt.legend()\n",
    "plt.xlabel(\"lambda\")\n",
    "plt.ylabel(\"P-value\")\n",
    "plt.ylim(0, 1)\n",
    "plt.show()\n",
    "\n"
   ]
  },
  {
   "cell_type": "markdown",
   "metadata": {},
   "source": [
    "When one $P$-value is large, the other is small. Below we plot the Fisher's combined $P$-value. It is small whenever *at least* one of the CVR and no-CVR $P$-values is small.\n",
    "\n",
    "The Fisher's combined $P$-value peaks between $\\lambda = 0$ and $2$. But this plot just shows us the maximum along a grid. Below, we use the function `maximize_fisher_combined_pvalue` to find the maximum on a further refined grid."
   ]
  },
  {
   "cell_type": "code",
   "execution_count": 6,
   "metadata": {
    "collapsed": false
   },
   "outputs": [
    {
     "data": {
      "image/png": "[encoded data removed]",
      "text/plain": [
       "<matplotlib.figure.Figure at 0x110511198>"
      ]
     },
     "metadata": {},
     "output_type": "display_data"
    }
   ],
   "source": [
    "plt.scatter(np.arange(lambda_lower, lambda_upper+1, 0.5), fisher_pvalues, color='black')\n",
    "plt.title(\"Fisher's combined P-value\")\n",
    "plt.xlabel(\"lambda\")\n",
    "plt.ylabel(\"P-value\")\n",
    "plt.ylim(0, 0.1)\n",
    "plt.show()\n",
    "\n"
   ]
  },
  {
   "cell_type": "code",
   "execution_count": 7,
   "metadata": {
    "collapsed": false
   },
   "outputs": [
    {
     "data": {
      "text/plain": [
       "{'allocation lambda': 0.90000000000000002,\n",
       " 'max_pvalue': 0.028440305135122856,\n",
       " 'min_chisq': 10.838498184046685}"
      ]
     },
     "execution_count": 7,
     "metadata": {},
     "output_type": "execute_result"
    }
   ],
   "source": [
    "maximize_fisher_combined_pvalue(N=(N1, N2), overall_margin=margin, \n",
    "                          pvalue_funs=(cvr_pvalue, nocvr_pvalue))"
   ]
  },
  {
   "cell_type": "markdown",
   "metadata": {},
   "source": [
    "# Lower and upper bounds for the Fisher $P$-value\n",
    "\n",
    "In the text, we derive a simple way to construct piecewise constant upper and lower bounds on the Fisher combination function. These are equivalent to upper and lower bounds on the Fisher combined $P$-value. Below, we construct these bounds for values of $\\lambda$ between $0$ and $2.5$."
   ]
  },
  {
   "cell_type": "code",
   "execution_count": 8,
   "metadata": {
    "collapsed": false
   },
   "outputs": [
    {
     "data": {
      "text/plain": [
       "{'grid': array([ 0. ,  0.5,  1. ,  1.5,  2. ,  2.5]),\n",
       " 'lower_bounds': [2.5542198982098085e-05,\n",
       "  0.0013134226849155217,\n",
       "  0.0032869775595171236,\n",
       "  0.00064509673091817099,\n",
       "  6.7809121490736146e-05],\n",
       " 'sample_points': [0.00023662479387887014,\n",
       "  0.011205518541246406,\n",
       "  0.02727024034343406,\n",
       "  0.0057529404021602337,\n",
       "  0.00064511529463040507,\n",
       "  6.7809121490847168e-05],\n",
       " 'upper_bounds': [0.084836371297349777,\n",
       "  0.19246402371169435,\n",
       "  0.046352578687616108,\n",
       "  0.0057531009116809084,\n",
       "  0.00064511529463129325]}"
      ]
     },
     "execution_count": 8,
     "metadata": {},
     "output_type": "execute_result"
    }
   ],
   "source": [
    "res = bound_fisher_fun(N_w1, N_l1, N1, N_w2, N_l2, N2,\n",
    "                       pvalue_funs=(cvr_pvalue, nocvr_pvalue), \n",
    "                       plausible_lambda_range=(0, 2), stepsize=0.5)\n",
    "res"
   ]
  },
  {
   "cell_type": "code",
   "execution_count": 9,
   "metadata": {
    "collapsed": false
   },
   "outputs": [
    {
     "data": {
      "image/png": "[encoded data removed]",
      "text/plain": [
       "<matplotlib.figure.Figure at 0x11052f588>"
      ]
     },
     "metadata": {},
     "output_type": "display_data"
    }
   ],
   "source": [
    "plt.plot(res['grid'], res['sample_points'], 'b-', label=\"Sample points\")\n",
    "lb = [0]+res['lower_bounds']\n",
    "ub = [0]+res['upper_bounds']\n",
    "plt.step(res['grid'], lb, 'r-', label=\"Bounds\")\n",
    "plt.step(res['grid'], ub, 'r-')\n",
    "plt.xlabel(\"lambda\")\n",
    "plt.ylabel(\"P-value\")\n",
    "plt.title(\"Fisher's combined P-value\")\n",
    "plt.legend()\n",
    "plt.show()"
   ]
  },
  {
   "cell_type": "markdown",
   "metadata": {},
   "source": [
    "The upper bound is larger than the risk limit, but none of the sample points are. This suggests that we should refine the mesh and obtain a tighter upper bound. If this new upper bound is *still* greater than the risk limit, then we may need to escalate the audit. Otherwise, the audit can stop."
   ]
  },
  {
   "cell_type": "code",
   "execution_count": 10,
   "metadata": {
    "collapsed": false
   },
   "outputs": [],
   "source": [
    "# Refine the mesh by decreasing the step size\n",
    "res2 = bound_fisher_fun(N_w1, N_l1, N1, N_w2, N_l2, N2,\n",
    "                    pvalue_funs=(cvr_pvalue, nocvr_pvalue), \n",
    "                    plausible_lambda_range=(0, 2), \n",
    "                    stepsize=0.1)"
   ]
  },
  {
   "cell_type": "code",
   "execution_count": 11,
   "metadata": {
    "collapsed": false
   },
   "outputs": [
    {
     "data": {
      "image/png": "[encoded data removed]",
      "text/plain": [
       "<matplotlib.figure.Figure at 0x111474358>"
      ]
     },
     "metadata": {},
     "output_type": "display_data"
    }
   ],
   "source": [
    "plt.plot(res2['grid'], res2['sample_points'], 'b-', label=\"Sample points\")\n",
    "lb = [0]+res2['lower_bounds']\n",
    "ub = [0]+res2['upper_bounds']\n",
    "plt.step(res2['grid'], lb, 'r-', label=\"Bounds\")\n",
    "plt.step(res2['grid'], ub, 'r-')\n",
    "plt.xlabel(\"lambda\")\n",
    "plt.ylabel(\"P-value\")\n",
    "plt.title(\"Fisher's combined P-value\")\n",
    "plt.legend()\n",
    "plt.show()"
   ]
  }
 ],
 "metadata": {
  "kernelspec": {
   "display_name": "Python 3",
   "language": "python",
   "name": "python3"
  },
  "language_info": {
   "codemirror_mode": {
    "name": "ipython",
    "version": 3
   },
   "file_extension": ".py",
   "mimetype": "text/x-python",
   "name": "python",
   "nbconvert_exporter": "python",
   "pygments_lexer": "ipython3",
   "version": "3.4.3"
  }
 },
 "nbformat": 4,
 "nbformat_minor": 2
}
