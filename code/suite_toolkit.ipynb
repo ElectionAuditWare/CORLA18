{
 "cells": [
  {
   "cell_type": "markdown",
   "metadata": {},
   "source": [
    "# Tools for SUITE Risk-Limiting Election Audits\n",
    "\n"
   ]
  },
  {
   "cell_type": "code",
   "execution_count": 22,
   "metadata": {
    "collapsed": false
   },
   "outputs": [],
   "source": [
    "from __future__ import print_function\n",
    "from ipywidgets import interact, interactive, fixed, interact_manual\n",
    "import ipywidgets as widgets\n",
    "from IPython.display import display\n",
    "\n",
    "import numpy as np\n",
    "from ballot_comparison import ballot_comparison_pvalue\n",
    "from fishers_combination import fisher_combined_pvalue, maximize_fisher_combined_pvalue, \\\n",
    "     bound_fisher_fun, calculate_lambda_range    \n",
    "from sprt import ballot_polling_sprt\n",
    "\n",
    "from cryptorandom.cryptorandom import SHA256\n",
    "from cryptorandom.sample import sample_by_index"
   ]
  },
  {
   "cell_type": "markdown",
   "metadata": {},
   "source": [
    "# Initial sample size\n",
    "\n",
    "Reported Votes"
   ]
  },
  {
   "cell_type": "code",
   "execution_count": 2,
   "metadata": {
    "collapsed": false
   },
   "outputs": [
    {
     "name": "stdout",
     "output_type": "stream",
     "text": [
      "Smallest margin (in votes): 1100\n",
      "Diluted margin: 0.02564102564102564\n"
     ]
    }
   ],
   "source": [
    "Nw1 = 2000\n",
    "Nl1 = 1900\n",
    "Nw2 = 20000\n",
    "Nl2 = 19000\n",
    "\n",
    "N1 = Nw1 + Nl1\n",
    "N2 = Nw2 + Nl2\n",
    "Nw = Nw1 + Nw2\n",
    "Nl = Nl1 + Nl2\n",
    "N = N1 + N2\n",
    "reported_margin = Nw - Nl\n",
    "\n",
    "print(\"Smallest margin (in votes):\", reported_margin)\n",
    "print(\"Diluted margin:\", (Nw - Nl)/N)"
   ]
  },
  {
   "cell_type": "markdown",
   "metadata": {},
   "source": [
    "Audit parameters"
   ]
  },
  {
   "cell_type": "code",
   "execution_count": 3,
   "metadata": {
    "collapsed": false
   },
   "outputs": [],
   "source": [
    "alpha = 0.1\n",
    "n_ratio = N1/N # proportion of initial sample allocated to stratum 1\n"
   ]
  },
  {
   "cell_type": "markdown",
   "metadata": {},
   "source": [
    "Expected sample sizes"
   ]
  },
  {
   "cell_type": "code",
   "execution_count": 4,
   "metadata": {
    "collapsed": false
   },
   "outputs": [
    {
     "name": "stdout",
     "output_type": "stream",
     "text": [
      "10000 0.4850348339626901\n"
     ]
    },
    {
     "data": {
      "text/plain": [
       "(1727, 17273)"
      ]
     },
     "metadata": {},
     "output_type": "display_data"
    },
    {
     "data": {
      "text/plain": [
       "<function __main__.estimate_n>"
      ]
     },
     "execution_count": 4,
     "metadata": {},
     "output_type": "execute_result"
    }
   ],
   "source": [
    "def estimate_n(risk_limit, n_ratio):\n",
    "    n = 0\n",
    "    expected_pvalue = 1\n",
    "    while (expected_pvalue > risk_limit) or (expected_pvalue is np.nan):\n",
    "        n = n + 1000\n",
    "        n1 = int(n_ratio * n)\n",
    "        n2 = n - n1\n",
    "        cvr_pvalue = lambda alloc: ballot_comparison_pvalue(n=n1, gamma=1.03905, o1=0, \n",
    "                                                    u1=0, o2=0, u2=0, \n",
    "                                                    reported_margin=reported_margin, N=N1, \n",
    "                                                    null_lambda=alloc)\n",
    "        nocvr_pvalue = lambda alloc: ballot_polling_sprt(sample= np.array([0]*int(n2*Nl2/N2)+\\\n",
    "                                             [1]*int(n2*Nw2/N2)+\\\n",
    "                                             [np.nan]*int(n2*(N2-Nl2-Nw2)/N2)), \\\n",
    "                            popsize=N2, \\\n",
    "                            alpha=0.05,  # set this param but we don't need to use it\n",
    "                            Vw=Nw2, Vl=Nl2, null_margin=(Nw2-Nl2) - alloc*reported_margin)['pvalue']\n",
    "        # Crude maximizer for now\n",
    "        res = bound_fisher_fun(Nw1, Nl1, N1, Nw2, Nl2, N2,\n",
    "                       pvalue_funs=(cvr_pvalue, nocvr_pvalue), stepsize=0.5, plausible_lambda_range=(-3, 3))\n",
    "        expected_pvalue = np.max(res['upper_bounds'])\n",
    "        if (n % 10000)==0:\n",
    "            print(n, expected_pvalue)\n",
    "    \n",
    "    return (n1, n2)\n",
    "\n",
    "interact(estimate_n,\n",
    "          risk_limit=widgets.FloatSlider(min=0,max=0.5,step=0.005,value=alpha), \n",
    "          n_ratio=widgets.FloatSlider(min=0,max=1,step=0.01,value=n_ratio)\n",
    "        )"
   ]
  },
  {
   "cell_type": "markdown",
   "metadata": {},
   "source": [
    "# Random sampling"
   ]
  },
  {
   "cell_type": "code",
   "execution_count": 41,
   "metadata": {
    "collapsed": true
   },
   "outputs": [],
   "source": [
    "seed = 12345\n",
    "n1 = 100\n",
    "n2 = 15000"
   ]
  },
  {
   "cell_type": "code",
   "execution_count": 42,
   "metadata": {
    "collapsed": false
   },
   "outputs": [],
   "source": [
    "prng = SHA256(seed)\n",
    "sample1 = sample_by_index(N1, n1, prng)\n",
    "sample2 = sample_by_index(N2, n2, prng)"
   ]
  },
  {
   "cell_type": "markdown",
   "metadata": {},
   "source": [
    "Stratum 1 sample"
   ]
  },
  {
   "cell_type": "code",
   "execution_count": null,
   "metadata": {
    "collapsed": false
   },
   "outputs": [],
   "source": [
    "print(\"Stratum 1 sample:\\n\", sample1)"
   ]
  },
  {
   "cell_type": "code",
   "execution_count": null,
   "metadata": {
    "collapsed": false,
    "scrolled": true
   },
   "outputs": [],
   "source": [
    "print(\"Stratum 1 sample, sorted:\\n\", np.sort(sample1))"
   ]
  },
  {
   "cell_type": "code",
   "execution_count": null,
   "metadata": {
    "collapsed": false
   },
   "outputs": [],
   "source": [
    "print(\"Stratum 1 sample, sorted, duplicates removed:\\n\", np.unique(np.sort(sample1)))"
   ]
  },
  {
   "cell_type": "code",
   "execution_count": null,
   "metadata": {
    "collapsed": false
   },
   "outputs": [],
   "source": [
    "m = np.zeros_like(sample1, dtype=bool)\n",
    "m[np.unique(sample1, return_index=True)[1]] = True\n",
    "print(\"Stratum 1 repeated ballots:\\n\", sample1[~m])"
   ]
  },
  {
   "cell_type": "markdown",
   "metadata": {},
   "source": [
    "Stratum 2 sample"
   ]
  },
  {
   "cell_type": "code",
   "execution_count": null,
   "metadata": {
    "collapsed": false
   },
   "outputs": [],
   "source": [
    "print(\"Stratum 2 sample:\\n\", sample2)"
   ]
  },
  {
   "cell_type": "code",
   "execution_count": null,
   "metadata": {
    "collapsed": false,
    "scrolled": true
   },
   "outputs": [],
   "source": [
    "print(\"Stratum 2 sample, sorted:\\n\", np.sort(sample2))"
   ]
  },
  {
   "cell_type": "code",
   "execution_count": null,
   "metadata": {
    "collapsed": false
   },
   "outputs": [],
   "source": [
    "print(\"Stratum 2 sample, sorted, duplicates removed:\\n\", np.unique(np.sort(sample2)))"
   ]
  },
  {
   "cell_type": "code",
   "execution_count": null,
   "metadata": {
    "collapsed": false
   },
   "outputs": [],
   "source": [
    "m2 = np.zeros_like(sample2, dtype=bool)\n",
    "m2[np.unique(sample2, return_index=True)[1]] = True\n",
    "print(\"Stratum 2 repeated ballots:\\n\", sample2[~m2])"
   ]
  },
  {
   "cell_type": "markdown",
   "metadata": {},
   "source": [
    "# Find ballots using ballot manifest\n",
    "\n",
    "Ballot manifest: Each line must have a batch label, a comma, and one of the following:\n",
    "  1. the number of ballots in the batch \n",
    "  1. a range specified with a colon (e.g., 131:302), or \n",
    "  1. a list of ballot identifiers within parentheses, separated by spaces (e.g., (996 998 1000)).\n",
    "  \n",
    "Each line should have exactly one comma."
   ]
  },
  {
   "cell_type": "code",
   "execution_count": 37,
   "metadata": {
    "collapsed": true
   },
   "outputs": [],
   "source": [
    "# I'm imagining this is is a list for now\n",
    "ballot_manifest = ['1, 100', '2, 101:200', '3, (205 210)']"
   ]
  },
  {
   "cell_type": "code",
   "execution_count": 38,
   "metadata": {
    "collapsed": true
   },
   "outputs": [],
   "source": [
    "# step 1: expand the ballot manifest into a dict. keys are batches, values are ballot numbers.\n",
    "ballot_manifest_dict = {}\n",
    "\n",
    "# loop over inputs\n",
    "for i in ballot_manifest:\n",
    "    # assert that the entry is a string with a comma in it\n",
    "    \n",
    "    # pull out batch label\n",
    "    (batch, val) = i.split(\",\")\n",
    "    batch = batch.strip()\n",
    "    val = val.strip()\n",
    "    \n",
    "    if not (batch in ballot_manifest_dict.keys()):\n",
    "        ballot_manifest_dict[batch] = []\n",
    "    \n",
    "    # parse what comes after the batch label\n",
    "    if '(' in val:\n",
    "        val = val[1:-1] # strip out the parentheses\n",
    "        ballot_manifest_dict[batch] += [int(num) for num in val.split()]\n",
    "    \n",
    "    elif ':' in val:\n",
    "        limits = val.split(':')\n",
    "        ballot_manifest_dict[batch] += list(range(int(limits[0]), int(limits[1])+1))\n",
    "        \n",
    "    else:\n",
    "        try:\n",
    "            if len(ballot_manifest_dict[batch]):\n",
    "                minval = len(ballot_manifest_dict[batch]) + 1\n",
    "            else:\n",
    "                minval = 1\n",
    "            ballot_manifest_dict[batch] += list(range(minval, minval+int(val)))\n",
    "        except:\n",
    "            print(\"The ballot manifest has been entered improperly.\")\n"
   ]
  },
  {
   "cell_type": "code",
   "execution_count": null,
   "metadata": {
    "collapsed": false
   },
   "outputs": [],
   "source": [
    "# step 2: look up sample values\n",
    "\n",
    "def find_ballot(ballot_num):\n",
    "    for batch, ballots in ballot_manifest_dict.items():\n",
    "        if ballot_num in ballots:\n",
    "            position = ballots.index(ballot_num)\n",
    "            return batch, position\n",
    "    print(\"Ballot %i not found\" % ballot_num)\n",
    "    return None\n",
    "\n",
    "print(\"sorted number, ballot, batch_label, which_ballot_in_batch\")\n",
    "i = 0\n",
    "for s in sample1:\n",
    "    i += 1\n",
    "    batch_label, which_ballot = find_ballot(s)\n",
    "    print(i, s, batch_label, which_ballot) # This uses 0-indexing still. Should we change it be 1,...,n?"
   ]
  },
  {
   "cell_type": "markdown",
   "metadata": {},
   "source": [
    "# Should more ballots be audited?"
   ]
  },
  {
   "cell_type": "markdown",
   "metadata": {},
   "source": [
    "Sample statistics for the CVR stratum (stratum 1)"
   ]
  },
  {
   "cell_type": "code",
   "execution_count": null,
   "metadata": {
    "collapsed": false
   },
   "outputs": [],
   "source": [
    "# Simple version, fill in the blanks\n",
    "\n",
    "o1 = \n",
    "u1 = \n",
    "o2 = \n",
    "u2 = "
   ]
  },
  {
   "cell_type": "code",
   "execution_count": 23,
   "metadata": {
    "collapsed": false
   },
   "outputs": [
    {
     "data": {
      "text/plain": [
       "(0, 0, 0, 0)"
      ]
     },
     "metadata": {},
     "output_type": "display_data"
    }
   ],
   "source": [
    "# Tricky version, input using sliders\n",
    "\n",
    "def stratum1_inputs(o1, u1, o2, u2):\n",
    "    return (o1, u1, o2, u2)\n",
    "\n",
    "stratum1_stats = interactive(stratum1_inputs, \n",
    "                             o1 = widgets.IntSlider(min=0,max=n1,value=0),\n",
    "                             u1 = widgets.IntSlider(min=0,max=n1,value=0),\n",
    "                             o2 = widgets.IntSlider(min=0,max=n1,value=0),\n",
    "                             u2 = widgets.IntSlider(min=0,max=n1,value=0))\n",
    "display(stratum1_stats)"
   ]
  },
  {
   "cell_type": "code",
   "execution_count": 31,
   "metadata": {
    "collapsed": false
   },
   "outputs": [
    {
     "name": "stdout",
     "output_type": "stream",
     "text": [
      "0\n"
     ]
    }
   ],
   "source": [
    "(o1, u1, o2, u2) = [stratum1_stats.children[i].value for i in range(4)]"
   ]
  },
  {
   "cell_type": "markdown",
   "metadata": {},
   "source": [
    "Sample statistics for the no-CVR stratum (stratum 2)"
   ]
  },
  {
   "cell_type": "code",
   "execution_count": null,
   "metadata": {
    "collapsed": true
   },
   "outputs": [],
   "source": [
    "# Simple version, fill in the blanks\n",
    "\n",
    "\n",
    "n2l =\n",
    "n2w = "
   ]
  },
  {
   "cell_type": "code",
   "execution_count": 35,
   "metadata": {
    "collapsed": false
   },
   "outputs": [
    {
     "data": {
      "text/plain": [
       "(0, 0)"
      ]
     },
     "metadata": {},
     "output_type": "display_data"
    }
   ],
   "source": [
    "# Tricky version, input using sliders\n",
    "\n",
    "def stratum2_inputs(ballots_for_loser, ballots_for_winner):\n",
    "    return (ballots_for_loser, ballots_for_winner)\n",
    "\n",
    "stratum2_stats = interactive(stratum2_inputs, \n",
    "                             ballots_for_loser = widgets.IntSlider(min=0,max=n2,value=0),\n",
    "                             ballots_for_winner = widgets.IntSlider(min=0,max=n2,value=0))\n",
    "display(stratum2_stats)"
   ]
  },
  {
   "cell_type": "code",
   "execution_count": 36,
   "metadata": {
    "collapsed": false
   },
   "outputs": [],
   "source": [
    "(n2l, n2w) = [stratum2_stats.children[i].value for i in range(2)]"
   ]
  },
  {
   "cell_type": "code",
   "execution_count": null,
   "metadata": {
    "collapsed": true
   },
   "outputs": [],
   "source": [
    "cvr_pvalue = lambda alloc: ballot_comparison_pvalue(n=n1, gamma=1.03905, o1=o1, \n",
    "                                                    u1=u1, o2=o2, u2=u2, \n",
    "                                                    reported_margin=reported_margin, N=N1, \n",
    "                                                    null_lambda=alloc)\n",
    "nocvr_pvalue = lambda alloc: ballot_polling_sprt(sample= np.array([0]*n2l+[1]*n2w+[np.nan]*(n2-n2w-n2l)), \\\n",
    "                            popsize=N2, \\\n",
    "                            alpha=0.05,  # set this param but we don't need to use it\n",
    "                            Vw=Nw2, Vl=Nl2, null_margin=(Nw2-Nl2) - alloc*reported_margin)['pvalue']\n",
    "# Crude maximizer for now\n",
    "res = bound_fisher_fun(Nw1, Nl1, N1, Nw2, Nl2, N2,\n",
    "                       pvalue_funs=(cvr_pvalue, nocvr_pvalue), stepsize=0.5, plausible_lambda_range=(-3, 3))\n",
    "expected_pvalue = np.max(res['upper_bounds'])\n",
    "if expected_pvalue <= alpha:\n",
    "    print(\"Stop the audit\")\n",
    "else:\n",
    "    print(\"Escalate the audit\")"
   ]
  }
 ],
 "metadata": {
  "kernelspec": {
   "display_name": "Python 3",
   "language": "python",
   "name": "python3"
  },
  "language_info": {
   "codemirror_mode": {
    "name": "ipython",
    "version": 3
   },
   "file_extension": ".py",
   "mimetype": "text/x-python",
   "name": "python",
   "nbconvert_exporter": "python",
   "pygments_lexer": "ipython3",
   "version": "3.4.3"
  },
  "widgets": {
   "state": {
    "7874b05cf5b84aa199d0182400809ca0": {
     "views": [
      {
       "cell_index": 26
      }
     ]
    },
    "7d22d325d5cd4e4da3e57907066838dd": {
     "views": [
      {
       "cell_index": 30
      }
     ]
    },
    "d247c2d61ee24ac8a0ca2369e03140c2": {
     "views": [
      {
       "cell_index": 7
      }
     ]
    }
   },
   "version": "1.2.0"
  }
 },
 "nbformat": 4,
 "nbformat_minor": 2
}
