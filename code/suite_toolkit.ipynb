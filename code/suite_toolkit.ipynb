{
 "cells": [
  {
   "cell_type": "markdown",
   "metadata": {},
   "source": [
    "# Tools for SUITE Risk-Limiting Election Audits\n",
    "\n"
   ]
  },
  {
   "cell_type": "code",
   "execution_count": 1,
   "metadata": {
    "collapsed": false
   },
   "outputs": [
    {
     "name": "stderr",
     "output_type": "stream",
     "text": [
      "/Library/Frameworks/Python.framework/Versions/3.4/lib/python3.4/importlib/_bootstrap.py:321: RuntimeWarning: numpy.dtype size changed, may indicate binary incompatibility. Expected 96, got 88\n",
      "  return f(*args, **kwds)\n"
     ]
    }
   ],
   "source": [
    "from __future__ import print_function\n",
    "\n",
    "from ipywidgets import interact, interactive, fixed, interact_manual\n",
    "import ipywidgets as widgets\n",
    "from IPython.display import display\n",
    "\n",
    "from collections import OrderedDict\n",
    "from itertools import product\n",
    "import math\n",
    "\n",
    "import numpy as np\n",
    "from ballot_comparison import ballot_comparison_pvalue\n",
    "from fishers_combination import fisher_combined_pvalue, maximize_fisher_combined_pvalue, \\\n",
    "     bound_fisher_fun, calculate_lambda_range    \n",
    "from sprt import ballot_polling_sprt\n",
    "\n",
    "from cryptorandom.cryptorandom import SHA256\n",
    "from cryptorandom.sample import sample_by_index"
   ]
  },
  {
   "cell_type": "code",
   "execution_count": 2,
   "metadata": {
    "collapsed": true
   },
   "outputs": [],
   "source": [
    "# global audit parameters\n",
    "\n",
    "seed = 12345678901234567890  # use, e.g., 20 rolls of a 10-sided die\n",
    "risk_limit = 0.05    # risk limit\n",
    "\n",
    "gamma=1.03905         # gamma from Lindeman and Stark (2012)\n",
    "\n",
    "lambda_step = 0.05    # stepsize for the discrete bounds on Fisher's combining function\n",
    "\n",
    "# assumptions for finding initial sample sizes\n",
    "\n",
    "o1_rate = 0.002       # expect 2 1-vote overstatements per 1000 ballots in the CVR stratum\n",
    "o2_rate = 0           # expect 0 2-vote overstatements\n",
    "u1_rate = 0           # expect 0 1-vote understatements\n",
    "u2_rate = 0           # expect 0 2-vote understatements\n",
    "\n",
    "stratum_sizes = [100000, 5000]  # total ballots in the two strata, CVR, no-CVR\n",
    "\n",
    "n_ratio = stratum_sizes[0]/np.sum(stratum_sizes) \n",
    "                     # allocate sample in proportion to ballots cast in each stratum\n",
    "\n",
    "# contest-specific parameters\n",
    "num_winners = 2       # maximum number of winners, per social choice function"
   ]
  },
  {
   "cell_type": "markdown",
   "metadata": {},
   "source": [
    "# Initial sample size\n",
    "\n",
    "Reported Votes"
   ]
  },
  {
   "cell_type": "code",
   "execution_count": 3,
   "metadata": {
    "collapsed": true
   },
   "outputs": [],
   "source": [
    "# input number of winners\n",
    "# input names as well as reported votes in each stratum\n",
    "\n",
    "# candidates are a dict with name, [votes_in_stratum_1, votes_in_stratum_2]\n",
    "candidates = { \"candidate 3\": [30000, 500],\n",
    "               \"candidate 2\": [50000, 1000],\n",
    "               \"candidate 1\": [10000, 500],\n",
    "               \"candidate 4\": [500, 10]}\n",
    "\n",
    "cvr_votes = poll_votes = 0\n",
    "\n",
    "for name, votes in candidates.items():\n",
    "    cvr_votes += votes[0]\n",
    "    poll_votes += votes[1]\n",
    "    votes.append(votes[0]+votes[1])"
   ]
  },
  {
   "cell_type": "code",
   "execution_count": 4,
   "metadata": {
    "collapsed": true
   },
   "outputs": [],
   "source": [
    "assert cvr_votes <= stratum_sizes[0]\n",
    "assert poll_votes <= stratum_sizes[1]\n",
    "assert (n_ratio >= 0) and (n_ratio <= 1)"
   ]
  },
  {
   "cell_type": "code",
   "execution_count": 5,
   "metadata": {
    "collapsed": false
   },
   "outputs": [
    {
     "name": "stdout",
     "output_type": "stream",
     "text": [
      "\n",
      "Total reported votes:\n",
      "\t\t\tCVR\tno-CVR\ttotal\n",
      "\t candidate 2 : 50000 \t 1000 \t 51000\n",
      "\t candidate 3 : 30000 \t 500 \t 30500\n",
      "\t candidate 1 : 10000 \t 500 \t 10500\n",
      "\t candidate 4 : 500 \t 10 \t 510\n",
      "\n",
      "\t total votes:\t 90500 \t 2010 \t 92510\n",
      "\n",
      "\t non-votes:\t 9500 \t 2990 \t 12490\n",
      "\n",
      "winners:\n",
      "\t candidate 2\n",
      "\t candidate 3\n",
      "\n",
      "losers:\n",
      "\t candidate 1\n",
      "\t candidate 4\n",
      "\n",
      "\n",
      "margins:\n",
      "\t candidate 2 beat candidate 4 by 50490 votes\n",
      "\t candidate 2 beat candidate 1 by 40500 votes\n",
      "\t candidate 3 beat candidate 4 by 29990 votes\n",
      "\t candidate 3 beat candidate 1 by 20000 votes\n",
      "\n",
      "smallest margin: 20000 \n",
      "diluted margin: 0.19047619047619047\n"
     ]
    }
   ],
   "source": [
    "# find reported winners, losers, and pairwise margins\n",
    "\n",
    "candidates = OrderedDict(sorted(candidates.items(), key=(lambda t: t[1][2]), reverse=True))\n",
    "                        \n",
    "winners = list(candidates.keys())[0:num_winners]\n",
    "losers = list(candidates.keys())[num_winners:]\n",
    "\n",
    "votes = np.zeros(3)\n",
    "\n",
    "margins = {}  # will hold the (winner, loser) pairwise margins indexed by pairs\n",
    "\n",
    "for x in product(winners, losers):\n",
    "    margins[x] = candidates[x[0]][2] - candidates[x[1]][2]\n",
    "\n",
    "margins = OrderedDict(sorted(margins.items(), key=(lambda t: t[1]), reverse=True))\n",
    "\n",
    "min_margin = np.amin(list(margins.values()))\n",
    "\n",
    "print('\\nTotal reported votes:\\n\\t\\t\\tCVR\\tno-CVR\\ttotal')\n",
    "for k, v in candidates.items():\n",
    "    print('\\t', k, ':', v[0], '\\t', v[1], '\\t', v[2])\n",
    "print('\\n\\t total votes:\\t', cvr_votes, '\\t', poll_votes, '\\t', cvr_votes + poll_votes)\n",
    "print('\\n\\t non-votes:\\t',\\\n",
    "      stratum_sizes[0] - cvr_votes,'\\t',\\\n",
    "      stratum_sizes[1] - poll_votes,'\\t',\\\n",
    "      stratum_sizes[0] + stratum_sizes[1] - cvr_votes - poll_votes\\\n",
    "     )\n",
    "\n",
    "\n",
    "\n",
    "print('\\nwinners:')\n",
    "for w in winners:\n",
    "    print('\\t',w)\n",
    "\n",
    "print('\\nlosers:')\n",
    "for ell in losers:\n",
    "    print('\\t',ell)\n",
    "\n",
    "print('\\n\\nmargins:')\n",
    "for k, v in margins.items():\n",
    "    dum = k[0] + ' beat ' + k[1] + ' by'\n",
    "    print('\\t', dum , v, 'votes')\n",
    "\n",
    "print('\\nsmallest margin:', min_margin, '\\ndiluted margin:', min_margin/np.sum(stratum_sizes))"
   ]
  },
  {
   "cell_type": "markdown",
   "metadata": {},
   "source": [
    "Expected sample sizes"
   ]
  },
  {
   "cell_type": "code",
   "execution_count": 6,
   "metadata": {
    "collapsed": false
   },
   "outputs": [],
   "source": [
    "def estimate_n(N_w1, N_w2, N_l1, N_l2, N1, N2,\\\n",
    "               o1_rate=0, o2_rate=0, u1_rate=0, u2_rate=0,\\\n",
    "               n_ratio=None,\n",
    "               risk_limit=0.05,\\\n",
    "               gamma=1.03905,\\\n",
    "               stepsize=0.05):\n",
    "    '''\n",
    "    Estimate the initial sample sizes for the audit.\n",
    "    \n",
    "    Parameters\n",
    "    ----------\n",
    "    N_w1 : int\n",
    "        votes for the reported winner in the ballot comparison stratum\n",
    "    N_w2 : int\n",
    "        votes for the reported winner in the ballot polling stratum\n",
    "    N_l1 : int\n",
    "        votes for the reported loser in the ballot comparison stratum\n",
    "    N_l2 : int\n",
    "        votes for the reported loser in the ballot polling stratum\n",
    "    N1 : int\n",
    "        total number of votes in the ballot comparison stratum\n",
    "    N2 : int\n",
    "        total number of votes in the ballot polling stratum\n",
    "    o1_rate : float\n",
    "        expected percent of ballots with 1-vote overstatements in the CVR stratum\n",
    "    o2_rate : float\n",
    "        expected percent of ballots with 2-vote overstatements in the CVR stratum\n",
    "    u1_rate : float\n",
    "        expected percent of ballots with 1-vote understatements in the CVR stratum\n",
    "    u2_rate : float\n",
    "        expected percent of ballots with 2-vote understatements in the CVR stratum\n",
    "    n_ratio : float\n",
    "        ratio of sample allocated to each stratum.\n",
    "        If None, allocate sample in proportion to ballots cast in each stratum\n",
    "    risk_limit : float\n",
    "        risk limit\n",
    "    gamma : float\n",
    "        gamma from Lindeman and Stark (2012)\n",
    "    stepsize : float\n",
    "        stepsize for the discrete bounds on Fisher's combining function\n",
    "    Returns\n",
    "    -------\n",
    "    tuple : estimated initial sample sizes in the CVR stratum and no-CVR stratum\n",
    "    '''\n",
    "    n_ratio = n_ratio if n_ratio else N1/(N1+N2)\n",
    "    n = 5\n",
    "    reported_margin = (N_w1+N_w2)-(N_l1+N_l2)\n",
    "    expected_pvalue = 1\n",
    "    \n",
    "    def try_n(n):\n",
    "        n1 = math.ceil(n_ratio * n)\n",
    "        n2 = n - n1\n",
    "        if n1 < 1 or n2 < 1:\n",
    "            return 1\n",
    "        o1 = math.ceil(o1_rate*n1)\n",
    "        o2 = math.ceil(o2_rate*n1)\n",
    "        u1 = math.floor(u1_rate*n1)\n",
    "        u2 = math.floor(u2_rate*n1)\n",
    "\n",
    "        cvr_pvalue = lambda alloc: ballot_comparison_pvalue(n=n1, gamma=1.03905, o1=o1, \n",
    "                                                    u1=u1, o2=o2, u2=u2, \n",
    "                                                    reported_margin=reported_margin, N=N1, \n",
    "                                                    null_lambda=alloc)\n",
    "        sample = sample = np.array([0]*int(n2*N_l2/N2)+[1]*int(n2*N_w2/N2)+\\\n",
    "                                             [np.nan]*int(n2*(N2-N_l2-N_w2)/N2))\n",
    "        if len(sample) < 1:\n",
    "            return 1\n",
    "        nocvr_pvalue = lambda alloc: ballot_polling_sprt(sample=sample, \\\n",
    "                            popsize=N2, \\\n",
    "                            alpha=risk_limit,\\\n",
    "                            Vw=N_w2, Vl=N_l2, null_margin=(N_w2-N_l2) - alloc*reported_margin)['pvalue']\n",
    "        # Crude maximizer for now \n",
    "        # TO DO: this isn't rigorous yet--needs to be fixed\n",
    "        res = bound_fisher_fun(N_w1, N_l1, N1, N_w2, N_l2, N2,\n",
    "                       pvalue_funs=(cvr_pvalue, nocvr_pvalue),\\\n",
    "                       stepsize=stepsize, feasible_lambda_range=None)\n",
    "        expected_pvalue = np.amax(res['upper_bounds'])\n",
    "        if (n % 10000)==0:\n",
    "            print('...trying...', n, expected_pvalue)\n",
    "        return(expected_pvalue)\n",
    "    \n",
    "    # step 1: linear search, doubling n each time\n",
    "    while (expected_pvalue > risk_limit) or (expected_pvalue is np.nan):\n",
    "        n = 2*n\n",
    "        expected_pvalue = try_n(n)\n",
    "        \n",
    "    # step 2: bisection between n/2 and n\n",
    "    low_n = n/2\n",
    "    high_n = n\n",
    "    mid_pvalue = 1\n",
    "    # TODO: should there be a tolerance here? e.g. risk_limit - 0.005 \n",
    "    while  (mid_pvalue > risk_limit) or (expected_pvalue is np.nan):\n",
    "        mid_n = np.floor((low_n+high_n)/2)\n",
    "        mid_pvalue = try_n(mid_n)\n",
    "        if mid_pvalue <= risk_limit:\n",
    "            high_n = mid_n\n",
    "        else:\n",
    "            low_n = mid_n\n",
    "    \n",
    "    n1 = math.ceil(n_ratio * mid_n)\n",
    "    n2 = int(mid_n - n1)\n",
    "    return (n1, n2)"
   ]
  },
  {
   "cell_type": "code",
   "execution_count": 7,
   "metadata": {
    "collapsed": false
   },
   "outputs": [],
   "source": [
    "# Find largest expected sample size across (winner, loser) pairs\n",
    "\n",
    "sample_sizes = {}\n",
    "\n",
    "for k in product(winners, losers):\n",
    "    sample_sizes[k] = estimate_n(N_w1 = candidates[k[0]][0],\\\n",
    "                                 N_w2 = candidates[k[0]][1],\\\n",
    "                                 N_l1 = candidates[k[1]][0],\\\n",
    "                                 N_l2 = candidates[k[1]][1],\\\n",
    "                                 N1 = stratum_sizes[0],\\\n",
    "                                 N2 = stratum_sizes[1],\\\n",
    "                                 o1_rate = o1_rate,\\\n",
    "                                 o2_rate = o2_rate,\\\n",
    "                                 u1_rate = u1_rate,\\\n",
    "                                 u2_rate = u2_rate,\\\n",
    "                                 n_ratio = n_ratio,\\\n",
    "                                 risk_limit = risk_limit,\\\n",
    "                                 gamma = gamma,\\\n",
    "                                 stepsize = lambda_step)"
   ]
  },
  {
   "cell_type": "code",
   "execution_count": 8,
   "metadata": {
    "collapsed": false
   },
   "outputs": [
    {
     "name": "stdout",
     "output_type": "stream",
     "text": [
      "{('candidate 3', 'candidate 1'): (67, 3), ('candidate 3', 'candidate 4'): (58, 2), ('candidate 2', 'candidate 4'): (58, 2), ('candidate 2', 'candidate 1'): (58, 2)} \n",
      "expected minimum sample size: 70\n"
     ]
    }
   ],
   "source": [
    "sample_size = np.amax([v[0]+v[1] for v in sample_sizes.values()])\n",
    "n1 = math.ceil(sample_size*n_ratio)    \n",
    "n2 = sample_size-n1\n",
    "\n",
    "print(sample_sizes, '\\nexpected minimum sample size:', sample_size)"
   ]
  },
  {
   "cell_type": "markdown",
   "metadata": {},
   "source": [
    "# Random sampling"
   ]
  },
  {
   "cell_type": "markdown",
   "metadata": {},
   "source": [
    "If this section is giving errors, you probably need to update your version of `cryptorandom`.\n",
    "\n",
    "```\n",
    "pip install [--update] cryptorandom\n",
    "```"
   ]
  },
  {
   "cell_type": "code",
   "execution_count": 9,
   "metadata": {
    "collapsed": true
   },
   "outputs": [],
   "source": [
    "prng = SHA256(seed)   # initialize the PRNG"
   ]
  },
  {
   "cell_type": "code",
   "execution_count": 10,
   "metadata": {
    "collapsed": true
   },
   "outputs": [],
   "source": [
    "# CVR stratum initial sample size, sampled with replacement\n",
    "sample1 = prng.randint(1, stratum_sizes[0]+1, size=n1)\n",
    "\n",
    "# No-CVR ballots are sampled without replacement\n",
    "sample2 = sample_by_index(stratum_sizes[1], n2, prng)"
   ]
  },
  {
   "cell_type": "markdown",
   "metadata": {},
   "source": [
    "Stratum 1 sample"
   ]
  },
  {
   "cell_type": "code",
   "execution_count": 11,
   "metadata": {
    "collapsed": false
   },
   "outputs": [
    {
     "name": "stdout",
     "output_type": "stream",
     "text": [
      "CVR stratum sample:\n",
      " [76116 45424 33501 45326  2081 56264 25122 16602 79743 61814 57922 41676\n",
      " 95332 38891 17757 64352 84257 47365 10908 97791 77941 73573 51855 88527\n",
      " 35549 20934 61419 70683 70220 45067 67903 94304 20823 50570 88735  9973\n",
      " 44578 34320  8262 32532 85102 87511 63375 96612 52917 91127 84152 74227\n",
      " 76674 76640 62444 83868  3974 81503 82205 41161 28136 12244 97608  9057\n",
      " 43082  6522 39347 45600 57836 10233 75516]\n"
     ]
    }
   ],
   "source": [
    "print(\"CVR stratum sample:\\n\", sample1)"
   ]
  },
  {
   "cell_type": "code",
   "execution_count": 12,
   "metadata": {
    "collapsed": false,
    "scrolled": true
   },
   "outputs": [
    {
     "name": "stdout",
     "output_type": "stream",
     "text": [
      "CVR stratum sample, sorted:\n",
      " [ 2081  3974  6522  8262  9057  9973 10233 10908 12244 16602 17757 20823\n",
      " 20934 25122 28136 32532 33501 34320 35549 38891 39347 41161 41676 43082\n",
      " 44578 45067 45326 45424 45600 47365 50570 51855 52917 56264 57836 57922\n",
      " 61419 61814 62444 63375 64352 67903 70220 70683 73573 74227 75516 76116\n",
      " 76640 76674 77941 79743 81503 82205 83868 84152 84257 85102 87511 88527\n",
      " 88735 91127 94304 95332 96612 97608 97791]\n"
     ]
    }
   ],
   "source": [
    "print(\"CVR stratum sample, sorted:\\n\", np.sort(sample1))"
   ]
  },
  {
   "cell_type": "code",
   "execution_count": 13,
   "metadata": {
    "collapsed": false
   },
   "outputs": [
    {
     "name": "stdout",
     "output_type": "stream",
     "text": [
      "CVR stratum sample, sorted, duplicates removed:\n",
      " [ 2081  3974  6522  8262  9057  9973 10233 10908 12244 16602 17757 20823\n",
      " 20934 25122 28136 32532 33501 34320 35549 38891 39347 41161 41676 43082\n",
      " 44578 45067 45326 45424 45600 47365 50570 51855 52917 56264 57836 57922\n",
      " 61419 61814 62444 63375 64352 67903 70220 70683 73573 74227 75516 76116\n",
      " 76640 76674 77941 79743 81503 82205 83868 84152 84257 85102 87511 88527\n",
      " 88735 91127 94304 95332 96612 97608 97791]\n"
     ]
    }
   ],
   "source": [
    "print(\"CVR stratum sample, sorted, duplicates removed:\\n\", np.unique(np.sort(sample1)))"
   ]
  },
  {
   "cell_type": "code",
   "execution_count": 14,
   "metadata": {
    "collapsed": false
   },
   "outputs": [
    {
     "name": "stdout",
     "output_type": "stream",
     "text": [
      "Stratum 1 repeated ballots:\n",
      " []\n"
     ]
    }
   ],
   "source": [
    "m = np.zeros_like(sample1, dtype=bool)\n",
    "m[np.unique(sample1, return_index=True)[1]] = True\n",
    "print(\"Stratum 1 repeated ballots:\\n\", sample1[~m])"
   ]
  },
  {
   "cell_type": "markdown",
   "metadata": {},
   "source": [
    "Stratum 2 sample"
   ]
  },
  {
   "cell_type": "code",
   "execution_count": 15,
   "metadata": {
    "collapsed": false
   },
   "outputs": [
    {
     "name": "stdout",
     "output_type": "stream",
     "text": [
      "No-CVR stratum sample:\n",
      " [1783 4275 4915]\n"
     ]
    }
   ],
   "source": [
    "print(\"No-CVR stratum sample:\\n\", sample2)"
   ]
  },
  {
   "cell_type": "code",
   "execution_count": 16,
   "metadata": {
    "collapsed": false,
    "scrolled": true
   },
   "outputs": [
    {
     "name": "stdout",
     "output_type": "stream",
     "text": [
      "No-CVR stratum sample, sorted:\n",
      " [1783 4275 4915]\n"
     ]
    }
   ],
   "source": [
    "print(\"No-CVR stratum sample, sorted:\\n\", np.sort(sample2))"
   ]
  },
  {
   "cell_type": "markdown",
   "metadata": {},
   "source": [
    "# Find ballots using ballot manifest\n",
    "\n",
    "Ballot manifest: Each line must have a batch label, a comma, and one of the following:\n",
    "  1. the number of ballots in the batch \n",
    "  1. a range specified with a colon (e.g., 131:302), or \n",
    "  1. a list of ballot identifiers within parentheses, separated by spaces (e.g., (996 998 1000)).\n",
    "  \n",
    "Each line should have exactly one comma."
   ]
  },
  {
   "cell_type": "code",
   "execution_count": 17,
   "metadata": {
    "collapsed": true
   },
   "outputs": [],
   "source": [
    "# I'm imagining this is is a list for now\n",
    "ballot_manifest_cvr = ['1, 10000', '2, 10001:99998', '3, (205 210)']\n",
    "ballot_manifest_poll = ['1, 1000', '2, 1001:4998', '3, (205 210)']"
   ]
  },
  {
   "cell_type": "code",
   "execution_count": 18,
   "metadata": {
    "collapsed": true
   },
   "outputs": [],
   "source": [
    "# step 1: expand the ballot manifest into a dict. keys are batches, values are ballot numbers.\n",
    "\n",
    "def parse_manifest(manifest):\n",
    "    '''\n",
    "    Parses a ballot manifest to put the batches in a canonical ordering and be able\n",
    "    to look up specific ballots.\n",
    "    \n",
    "    Input\n",
    "    -----\n",
    "    a ballot manifest in the syntax described above\n",
    "    \n",
    "    Returns\n",
    "    -------\n",
    "    an ordered dict containing batch ID (key) and ballot identifiers within the batch, \n",
    "    either from sequential enumeration or from the given labels. Identifiers are not\n",
    "    necessarily unique *across* batches.\n",
    "    '''\n",
    "    ballots = 0\n",
    "    ballot_manifest_dict = OrderedDict()\n",
    "    for i in manifest:\n",
    "        # assert that the entry is a string with a comma in it\n",
    "        # pull out batch label\n",
    "        (batch, val) = i.split(\",\")\n",
    "        batch = batch.strip()\n",
    "        val = val.strip()    \n",
    "        if (batch in ballot_manifest_dict.keys()):\n",
    "             raise ValueError('batch is listed more than once')\n",
    "        else:\n",
    "            ballot_manifest_dict[batch] = []\n",
    "    \n",
    "        # parse what comes after the batch label\n",
    "        if '(' in val:     # list of identifiers\n",
    "            val = val[1:-1] # strip out the parentheses  TO DO: use regex to remove )(\n",
    "            ballot_manifest_dict[batch] += [int(num) for num in val.split()]\n",
    "            \n",
    "        elif ':' in val:   # range of identifiers\n",
    "            limits = val.split(':')\n",
    "            ballot_manifest_dict[batch] += list(range(int(limits[0]), int(limits[1])+1))  \n",
    "            \n",
    "        else:  # this should be an integer number of ballots\n",
    "            try:\n",
    "                ballot_manifest_dict[batch] += list(range(1, int(val)+1))\n",
    "            except:\n",
    "                print('malformed row in ballot manifest:\\n\\t', i)\n",
    "    return(ballot_manifest_dict)"
   ]
  },
  {
   "cell_type": "code",
   "execution_count": 19,
   "metadata": {
    "collapsed": true
   },
   "outputs": [],
   "source": [
    "cvr_manifest_parsed = parse_manifest(ballot_manifest_cvr)\n",
    "poll_manifest_parsed = parse_manifest(ballot_manifest_poll)"
   ]
  },
  {
   "cell_type": "code",
   "execution_count": 20,
   "metadata": {
    "collapsed": false
   },
   "outputs": [],
   "source": [
    "# count ballots listed in the manifests\n",
    "listed_cvr = np.sum([len(v) for v in cvr_manifest_parsed.values()])\n",
    "listed_poll = np.sum([len(v) for v in poll_manifest_parsed.values()])\n",
    "\n",
    "# test that manifest matches reported ballot totals\n",
    "\n",
    "assert listed_cvr == stratum_sizes[0]\n",
    "assert listed_poll == stratum_sizes[1]"
   ]
  },
  {
   "cell_type": "code",
   "execution_count": 21,
   "metadata": {
    "collapsed": true
   },
   "outputs": [],
   "source": [
    "# step 2: give ballots unique IDs\n",
    "\n",
    "def unique_manifest(parsed_manifest):\n",
    "    second_manifest = {}\n",
    "    ballots_counted = 0\n",
    "    for batch in parsed_manifest.keys():\n",
    "        batch_size = len(parsed_manifest[batch])\n",
    "        second_manifest[batch] = list(range(ballots_counted + 1, ballots_counted + batch_size + 1))\n",
    "        ballots_counted += batch_size\n",
    "    return(second_manifest)"
   ]
  },
  {
   "cell_type": "code",
   "execution_count": 22,
   "metadata": {
    "collapsed": false
   },
   "outputs": [],
   "source": [
    "unique_cvr_manifest = unique_manifest(cvr_manifest_parsed)\n",
    "unique_poll_manifest = unique_manifest(poll_manifest_parsed)"
   ]
  },
  {
   "cell_type": "code",
   "execution_count": 23,
   "metadata": {
    "collapsed": true
   },
   "outputs": [],
   "source": [
    "# step 3: look up sample values\n",
    "\n",
    "def find_ballot(ballot_num, unique_ballot_manifest, parsed_ballot_manifest):\n",
    "    '''\n",
    "    Find ballot in the batches\n",
    "    \n",
    "    Input\n",
    "    -----\n",
    "    ballot_num : int\n",
    "        a ballot number that was sampled\n",
    "    unique_ballot_manifest : dict\n",
    "        ballot manifest with unique IDs across batches\n",
    "    parsed_ballot_manifest : dict\n",
    "        ballot manifest with original ballot IDs supplied in the manifest\n",
    "        \n",
    "    Returns\n",
    "    -------\n",
    "    tuple : (original_ballot_label, batch_label, which_ballot_in_batch)\n",
    "    '''\n",
    "    for batch, ballots in unique_ballot_manifest.items():\n",
    "        if ballot_num in ballots:\n",
    "            position = ballots.index(ballot_num)\n",
    "            original_ballot_label = parsed_ballot_manifest[batch][position]\n",
    "            return (original_ballot_label, batch, position)\n",
    "    print(\"Ballot %i not found\" % ballot_num)\n",
    "    return None"
   ]
  },
  {
   "cell_type": "code",
   "execution_count": 24,
   "metadata": {
    "collapsed": false
   },
   "outputs": [
    {
     "name": "stdout",
     "output_type": "stream",
     "text": [
      "CVR Stratum\n",
      "sampled ballot, original ballot label, batch label, which ballot in batch\n",
      "76116 76116 2 66115\n",
      "45424 45424 2 35423\n",
      "33501 33501 2 23500\n",
      "45326 45326 2 35325\n",
      "2081 2081 1 2080\n",
      "56264 56264 2 46263\n",
      "25122 25122 2 15121\n",
      "16602 16602 2 6601\n",
      "79743 79743 2 69742\n",
      "61814 61814 2 51813\n",
      "57922 57922 2 47921\n",
      "41676 41676 2 31675\n",
      "95332 95332 2 85331\n",
      "38891 38891 2 28890\n",
      "17757 17757 2 7756\n",
      "64352 64352 2 54351\n",
      "84257 84257 2 74256\n",
      "47365 47365 2 37364\n",
      "10908 10908 2 907\n",
      "97791 97791 2 87790\n",
      "77941 77941 2 67940\n",
      "73573 73573 2 63572\n",
      "51855 51855 2 41854\n",
      "88527 88527 2 78526\n",
      "35549 35549 2 25548\n",
      "20934 20934 2 10933\n",
      "61419 61419 2 51418\n",
      "70683 70683 2 60682\n",
      "70220 70220 2 60219\n",
      "45067 45067 2 35066\n",
      "67903 67903 2 57902\n",
      "94304 94304 2 84303\n",
      "20823 20823 2 10822\n",
      "50570 50570 2 40569\n",
      "88735 88735 2 78734\n",
      "9973 9973 1 9972\n",
      "44578 44578 2 34577\n",
      "34320 34320 2 24319\n",
      "8262 8262 1 8261\n",
      "32532 32532 2 22531\n",
      "85102 85102 2 75101\n",
      "87511 87511 2 77510\n",
      "63375 63375 2 53374\n",
      "96612 96612 2 86611\n",
      "52917 52917 2 42916\n",
      "91127 91127 2 81126\n",
      "84152 84152 2 74151\n",
      "74227 74227 2 64226\n",
      "76674 76674 2 66673\n",
      "76640 76640 2 66639\n",
      "62444 62444 2 52443\n",
      "83868 83868 2 73867\n",
      "3974 3974 1 3973\n",
      "81503 81503 2 71502\n",
      "82205 82205 2 72204\n",
      "41161 41161 2 31160\n",
      "28136 28136 2 18135\n",
      "12244 12244 2 2243\n",
      "97608 97608 2 87607\n",
      "9057 9057 1 9056\n",
      "43082 43082 2 33081\n",
      "6522 6522 1 6521\n",
      "39347 39347 2 29346\n",
      "45600 45600 2 35599\n",
      "57836 57836 2 47835\n",
      "10233 10233 2 232\n",
      "75516 75516 2 65515\n"
     ]
    }
   ],
   "source": [
    "print(\"CVR Stratum\")\n",
    "print(\"sampled ballot, original ballot label, batch label, which ballot in batch\")\n",
    "i = 0\n",
    "for s in sample1:\n",
    "    i += 1\n",
    "    original_ballot_label, batch_label, which_ballot = find_ballot(s, \\\n",
    "                                                                   unique_cvr_manifest, \\\n",
    "                                                                   cvr_manifest_parsed)\n",
    "    print(s, original_ballot_label, batch_label, which_ballot) # This uses 0-indexing still. Should we change it be 1,...,n?"
   ]
  },
  {
   "cell_type": "code",
   "execution_count": 25,
   "metadata": {
    "collapsed": false
   },
   "outputs": [
    {
     "name": "stdout",
     "output_type": "stream",
     "text": [
      "Polling Stratum\n",
      "sampled ballot, original ballot label, batch label, which ballot in batch\n",
      "1 1783 2 782\n",
      "2 4275 2 3274\n",
      "3 4915 2 3914\n"
     ]
    }
   ],
   "source": [
    "print(\"Polling Stratum\")\n",
    "print(\"sampled ballot, original ballot label, batch label, which ballot in batch\")\n",
    "i = 0\n",
    "for s in sample2:\n",
    "    i += 1\n",
    "    original_ballot_label, batch_label, which_ballot = find_ballot(s, \\\n",
    "                                                                   unique_poll_manifest, \\\n",
    "                                                                   poll_manifest_parsed)\n",
    "    print(i, s, batch_label, which_ballot) # This uses 0-indexing still. Should we change it be 1,...,n?"
   ]
  },
  {
   "cell_type": "markdown",
   "metadata": {},
   "source": [
    "# Enter the sample data"
   ]
  },
  {
   "cell_type": "markdown",
   "metadata": {},
   "source": [
    "Sample statistics for the CVR stratum (stratum 1)"
   ]
  },
  {
   "cell_type": "code",
   "execution_count": 26,
   "metadata": {
    "collapsed": true
   },
   "outputs": [],
   "source": [
    "# Number of observed...\n",
    "\n",
    "o1 = 1 # 1-vote overstatements\n",
    "o2 = 0 # 2-vote overstatements\n",
    "u1 = 0 # 1-vote understatements\n",
    "u2 = 0 # 2-vote understatements"
   ]
  },
  {
   "cell_type": "markdown",
   "metadata": {},
   "source": [
    "Sample statistics for the no-CVR stratum (stratum 2)"
   ]
  },
  {
   "cell_type": "code",
   "execution_count": 27,
   "metadata": {
    "collapsed": true
   },
   "outputs": [],
   "source": [
    "# Number of votes for each candidate\n",
    "# recall that in the provided example, n2=3 so the totals here must add up to <= 3.\n",
    "\n",
    "# no-CVR sample is stored in a dict with name, votes in the sample\n",
    "observed_poll = { \"candidate 3\": 1,\n",
    "               \"candidate 2\": 2,\n",
    "               \"candidate 1\": 0,\n",
    "               \"candidate 4\": 0}"
   ]
  },
  {
   "cell_type": "markdown",
   "metadata": {},
   "source": [
    "# Should more ballots be audited?"
   ]
  },
  {
   "cell_type": "code",
   "execution_count": 28,
   "metadata": {
    "collapsed": false
   },
   "outputs": [
    {
     "data": {
      "text/plain": [
       "{('candidate 2', 'candidate 1'): 3.662272354854057e-05,\n",
       " ('candidate 2', 'candidate 4'): 5.15130637146477e-07,\n",
       " ('candidate 3', 'candidate 1'): 0.02115848454394742,\n",
       " ('candidate 3', 'candidate 4'): 0.0008500403360027775}"
      ]
     },
     "execution_count": 28,
     "metadata": {},
     "output_type": "execute_result"
    }
   ],
   "source": [
    "# Find audit p-values across (winner, loser) pairs\n",
    "\n",
    "audit_pvalues = {}\n",
    "\n",
    "for k in product(winners, losers):\n",
    "    N_w1 = candidates[k[0]][0]\n",
    "    N_w2 = candidates[k[0]][1]\n",
    "    N_l1 = candidates[k[1]][0]\n",
    "    N_l2 = candidates[k[1]][1]\n",
    "    reported_margin = (N_w1+N_w2)-(N_l1+N_l2)\n",
    "    cvr_pvalue = lambda alloc: ballot_comparison_pvalue(n=n1, gamma=1.03905, o1=o1, \n",
    "                                                    u1=u1, o2=o2, u2=u2, \n",
    "                                                    reported_margin=reported_margin, \n",
    "                                                    N=stratum_sizes[0], \n",
    "                                                    null_lambda=alloc)\n",
    "    \n",
    "    n2w = observed_poll[k[0]]\n",
    "    n2l = observed_poll[k[1]]\n",
    "    nocvr_pvalue = lambda alloc: ballot_polling_sprt(\\\n",
    "                            sample= np.array([0]*n2l+[1]*n2w+[np.nan]*(n2-n2w-n2l)), \\\n",
    "                            popsize=stratum_sizes[1], \\\n",
    "                            alpha=0.05,  # set this param but we don't need to use it\n",
    "                            Vw=N_w2, Vl=N_l2, \\\n",
    "                            null_margin=(N_w2-N_l2) - alloc*reported_margin)['pvalue']\n",
    "    # Crude maximizer for now\n",
    "    res = bound_fisher_fun(N_w1, N_l1, stratum_sizes[0], N_w2, N_l2, stratum_sizes[1],\n",
    "                       pvalue_funs=(cvr_pvalue, nocvr_pvalue), stepsize=lambda_step,\\\n",
    "                       feasible_lambda_range=None)\n",
    "    audit_pvalues[k] = np.max(res['upper_bounds'])\n",
    "                           \n",
    "audit_pvalues"
   ]
  },
  {
   "cell_type": "markdown",
   "metadata": {},
   "source": [
    "# Escalation guidance: how many more ballots should be drawn?"
   ]
  },
  {
   "cell_type": "code",
   "execution_count": 29,
   "metadata": {
    "collapsed": false
   },
   "outputs": [],
   "source": [
    "def estimate_escalation_n(N_w1, N_w2, N_l1, N_l2, N1, N2, n1, n2, \\\n",
    "                          o1_obs, o2_obs, u1_obs, u2_obs, \\\n",
    "                          n2l_obs, n2w_obs, \\\n",
    "                          o1_rate=0, o2_rate=0, u1_rate=0, u2_rate=0, \\\n",
    "                          n_ratio=None,\n",
    "                          risk_limit=0.05,\\\n",
    "                          gamma=1.03905,\\\n",
    "                          stepsize=0.05):\n",
    "    '''\n",
    "    Estimate the initial sample sizes for the audit.\n",
    "    \n",
    "    Parameters\n",
    "    ----------\n",
    "    N_w1 : int\n",
    "        votes for the reported winner in the ballot comparison stratum\n",
    "    N_w2 : int\n",
    "        votes for the reported winner in the ballot polling stratum\n",
    "    N_l1 : int\n",
    "        votes for the reported loser in the ballot comparison stratum\n",
    "    N_l2 : int\n",
    "        votes for the reported loser in the ballot polling stratum\n",
    "    N1 : int\n",
    "        total number of votes in the ballot comparison stratum\n",
    "    N2 : int\n",
    "        total number of votes in the ballot polling stratum\n",
    "    n1 : int\n",
    "        size of sample already drawn in the ballot comparison stratum\n",
    "    n2 : int\n",
    "        size of sample already drawn in the ballot polling stratum\n",
    "    o1_obs : int\n",
    "        observed number of ballots with 1-vote overstatements in the CVR stratum\n",
    "    o2_obs : int\n",
    "        observed number of ballots with 2-vote overstatements in the CVR stratum\n",
    "    u1_obs : int\n",
    "        observed number of ballots with 1-vote understatements in the CVR stratum\n",
    "    u2_obs : int\n",
    "        observed number of ballots with 2-vote understatements in the CVR stratum\n",
    "    n2l_obs : int\n",
    "        observed number of votes for the reported loser in the no-CVR stratum\n",
    "    n2w_obs : int\n",
    "        observed number of votes for the reported winner in the no-CVR stratum\n",
    "    o1_rate : float\n",
    "        expected percent of ballots with 1-vote overstatements in the CVR stratum\n",
    "    o2_rate : float\n",
    "        expected percent of ballots with 2-vote overstatements in the CVR stratum\n",
    "    u1_rate : float\n",
    "        expected percent of ballots with 1-vote understatements in the CVR stratum\n",
    "    u2_rate : float\n",
    "        expected percent of ballots with 2-vote understatements in the CVR stratum\n",
    "    n_ratio : float\n",
    "        ratio of sample allocated to each stratum.\n",
    "        If None, allocate sample in proportion to ballots cast in each stratum\n",
    "    risk_limit : float\n",
    "        risk limit\n",
    "    gamma : float\n",
    "        gamma from Lindeman and Stark (2012)\n",
    "    stepsize : float\n",
    "        stepsize for the discrete bounds on Fisher's combining function\n",
    "    Returns\n",
    "    -------\n",
    "    tuple : estimated initial sample sizes in the CVR stratum and no-CVR stratum\n",
    "    '''\n",
    "    n_ratio = n_ratio if n_ratio else N1/(N1+N2)\n",
    "    n = n1+n2\n",
    "    reported_margin = (N_w1+N_w2)-(N_l1+N_l2)\n",
    "    expected_pvalue = 1\n",
    "    \n",
    "    n1_original = n1\n",
    "    n2_original = n2\n",
    "    observed_nocvr_sample = [0]*n2l_obs + [1]*n2w_obs + [np.nan]*(n2_original-n2l_obs-n2w_obs)\n",
    "    \n",
    "    def try_n(n):\n",
    "        n1 = math.ceil(n_ratio * n)\n",
    "        n2 = n - n1\n",
    "        o1 = math.ceil(o1_rate*(n1-n1_original)) + o1_obs\n",
    "        o2 = math.ceil(o2_rate*(n1-n1_original)) + o2_obs\n",
    "        u1 = math.floor(u1_rate*(n1-n1_original)) + u1_obs\n",
    "        u2 = math.floor(u2_rate*(n1-n1_original)) + u2_obs\n",
    "\n",
    "        cvr_pvalue = lambda alloc: ballot_comparison_pvalue(n=n1, gamma=1.03905, o1=o1, \n",
    "                                                    u1=u1, o2=o2, u2=u2, \n",
    "                                                    reported_margin=reported_margin, N=N1, \n",
    "                                                    null_lambda=alloc)\n",
    "        expected_new_sample = [0]*int((n2-n2_original)*N_l2/N2)+\\\n",
    "                                             [1]*int((n2-n2_original)*N_w2/N2)+\\\n",
    "                                             [np.nan]*int((n2-n2_original)*(N2-N_l2-N_w2)/N2)\n",
    "        nocvr_pvalue = lambda alloc: ballot_polling_sprt( \\\n",
    "                            sample=np.array(observed_nocvr_sample+expected_new_sample),\\\n",
    "                            popsize=N2, \\\n",
    "                            alpha=risk_limit,\\\n",
    "                            Vw=N_w2, Vl=N_l2, null_margin=(N_w2-N_l2) - alloc*reported_margin)['pvalue']\n",
    "        # Crude maximizer for now \n",
    "        # TO DO: this isn't rigorous yet--needs to be fixed\n",
    "        res = bound_fisher_fun(N_w1, N_l1, N1, N_w2, N_l2, N2,\n",
    "                       pvalue_funs=(cvr_pvalue, nocvr_pvalue),\\\n",
    "                       stepsize=stepsize, feasible_lambda_range=None)\n",
    "        expected_pvalue = np.amax(res['upper_bounds'])\n",
    "        if (n % 10000)==0:\n",
    "            print('...trying...', n, expected_pvalue)\n",
    "        return(expected_pvalue)\n",
    "    \n",
    "    # step 1: linear search, increasing n by a factor of 1.1 each time\n",
    "    while (expected_pvalue > risk_limit) or (expected_pvalue is np.nan):\n",
    "        n = np.ceil(1.1*n)\n",
    "        expected_pvalue = try_n(n)\n",
    "        \n",
    "    # step 2: bisection between n/1.1 and n\n",
    "    low_n = n/1.1\n",
    "    high_n = n\n",
    "    mid_pvalue = 1\n",
    "    # TODO: should there be a tolerance here? e.g. risk_limit - 0.005 \n",
    "    while  (mid_pvalue > risk_limit) or (expected_pvalue is np.nan):\n",
    "        mid_n = np.floor((low_n+high_n)/2)\n",
    "        mid_pvalue = try_n(mid_n)\n",
    "        if mid_pvalue <= risk_limit:\n",
    "            high_n = mid_n\n",
    "        else:\n",
    "            low_n = mid_n\n",
    "    \n",
    "    n1 = math.ceil(n_ratio * mid_n)\n",
    "    n2 = int(mid_n - n1)\n",
    "    return (n1, n2)"
   ]
  },
  {
   "cell_type": "code",
   "execution_count": 30,
   "metadata": {
    "collapsed": false
   },
   "outputs": [],
   "source": [
    "# CVR stratum\n",
    "n1 = 70\n",
    "n2 = 3\n",
    "o1 = 1\n",
    "u1 = 0\n",
    "o2 = 0\n",
    "u2 = 0\n",
    "n2l = 1\n",
    "n2w = 1\n",
    "\n",
    "sample_sizes_new = {}\n",
    "\n",
    "for k in product(winners, losers):\n",
    "    sample_sizes_new[k] = estimate_escalation_n(\\\n",
    "                                 N_w1 = candidates[k[0]][0],\\\n",
    "                                 N_w2 = candidates[k[0]][1],\\\n",
    "                                 N_l1 = candidates[k[1]][0],\\\n",
    "                                 N_l2 = candidates[k[1]][1],\\\n",
    "                                 N1 = stratum_sizes[0],\\\n",
    "                                 N2 = stratum_sizes[1],\\\n",
    "                                 n1 = n1,\\\n",
    "                                 n2 = n2,\\\n",
    "                                 o1_obs = o1,\\\n",
    "                                 o2_obs = o2,\\\n",
    "                                 u1_obs = u1,\\\n",
    "                                 u2_obs = u2,\\\n",
    "                                 n2l_obs = n2l,\\\n",
    "                                 n2w_obs = n2w,\\\n",
    "                                 o1_rate = o1_rate,\\\n",
    "                                 o2_rate = o2_rate,\\\n",
    "                                 u1_rate = u1_rate,\\\n",
    "                                 u2_rate = u2_rate,\\\n",
    "                                 n_ratio = n_ratio,\\\n",
    "                                 risk_limit = risk_limit,\\\n",
    "                                 gamma = gamma,\\\n",
    "                                 stepsize = lambda_step)"
   ]
  },
  {
   "cell_type": "code",
   "execution_count": 31,
   "metadata": {
    "collapsed": false
   },
   "outputs": [
    {
     "name": "stdout",
     "output_type": "stream",
     "text": [
      "{('candidate 3', 'candidate 1'): (76, 3), ('candidate 3', 'candidate 4'): (74, 3), ('candidate 2', 'candidate 4'): (74, 3), ('candidate 2', 'candidate 1'): (74, 3)} \n",
      "\n",
      "Expected minimum sample size: 79\n",
      "\n",
      "Ballots to draw in the CVR stratum: 6\n",
      "Ballots to draw in the no-CVR stratum: 0\n"
     ]
    }
   ],
   "source": [
    "## TODO: Check that we like this sort of output\n",
    "\n",
    "sample_size_new = np.amax([v[0]+v[1] for v in sample_sizes_new.values()])\n",
    "n1_new = np.amax([v[0] for v in sample_sizes_new.values()])\n",
    "n2_new = np.amax([v[1] for v in sample_sizes_new.values()])\n",
    "\n",
    "print(sample_sizes_new, '\\n\\nExpected minimum sample size:', sample_size_new)\n",
    "print(\"\\nBallots to draw in the CVR stratum:\", n1_new - n1)\n",
    "print(\"Ballots to draw in the no-CVR stratum:\", n2_new - n2)"
   ]
  }
 ],
 "metadata": {
  "kernelspec": {
   "display_name": "Python 3",
   "language": "python",
   "name": "python3"
  },
  "language_info": {
   "codemirror_mode": {
    "name": "ipython",
    "version": 3
   },
   "file_extension": ".py",
   "mimetype": "text/x-python",
   "name": "python",
   "nbconvert_exporter": "python",
   "pygments_lexer": "ipython3",
   "version": "3.4.3"
  }
 },
 "nbformat": 4,
 "nbformat_minor": 2
}
