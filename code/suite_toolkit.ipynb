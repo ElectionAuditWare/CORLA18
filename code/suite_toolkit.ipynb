{
 "cells": [
  {
   "cell_type": "markdown",
   "metadata": {},
   "source": [
    "# Tools for SUITE Risk-Limiting Election Audits\n",
    "\n"
   ]
  },
  {
   "cell_type": "code",
   "execution_count": 1,
   "metadata": {
    "collapsed": false
   },
   "outputs": [
    {
     "name": "stderr",
     "output_type": "stream",
     "text": [
      "/Library/Frameworks/Python.framework/Versions/3.4/lib/python3.4/importlib/_bootstrap.py:321: RuntimeWarning: numpy.dtype size changed, may indicate binary incompatibility. Expected 96, got 88\n",
      "  return f(*args, **kwds)\n"
     ]
    }
   ],
   "source": [
    "from __future__ import print_function\n",
    "from ipywidgets import interact, interactive, fixed, interact_manual\n",
    "import ipywidgets as widgets\n",
    "from IPython.display import display\n",
    "\n",
    "from collections import OrderedDict\n",
    "from itertools import product\n",
    "\n",
    "import numpy as np\n",
    "from ballot_comparison import ballot_comparison_pvalue\n",
    "from fishers_combination import fisher_combined_pvalue, maximize_fisher_combined_pvalue, \\\n",
    "     bound_fisher_fun, calculate_lambda_range    \n",
    "from sprt import ballot_polling_sprt\n",
    "\n",
    "from cryptorandom.cryptorandom import SHA256\n",
    "from cryptorandom.sample import sample_by_index"
   ]
  },
  {
   "cell_type": "code",
   "execution_count": 2,
   "metadata": {
    "collapsed": true
   },
   "outputs": [],
   "source": [
    "# global audit parameters\n",
    "\n",
    "risk_limit = 0.05    # risk limit\n",
    "\n",
    "gamma=1.03905        # gamma from Lindeman and Stark (2012)\n",
    "sample_increment = 10 # step size (in ballots) for estimating required sample sizes\n",
    "\n",
    "stratum_sizes = [100000, 5000]  # total ballots in the two strata, CVR, no-CVR\n",
    "\n",
    "n_ratio = stratum_sizes[0]/np.sum(stratum_sizes) \n",
    "                     # allocate sample in proportion to ballots cast in each stratum\n",
    "\n",
    "# contest-specific parameters\n",
    "num_winners = 2       # maximum number of winners, per social choice function\n",
    "\n"
   ]
  },
  {
   "cell_type": "markdown",
   "metadata": {},
   "source": [
    "# Initial sample size\n",
    "\n",
    "Reported Votes"
   ]
  },
  {
   "cell_type": "code",
   "execution_count": null,
   "metadata": {
    "collapsed": true
   },
   "outputs": [],
   "source": [
    "# input number of winners\n",
    "# input names as well as reported votes in each stratum\n",
    "\n",
    "# candidates are a dict with name, [votes_in_stratum_1, votes_in_stratum_2]\n",
    "candidates = { \"candidate 3\": [30000, 500],\n",
    "               \"candidate 2\": [50000, 1000],\n",
    "               \"candidate 1\": [10000, 500],\n",
    "               \"candidate 4\": [500, 10]}\n",
    "\n",
    "cvr_votes = poll_votes = 0\n",
    "\n",
    "for name, votes in candidates.items():\n",
    "    cvr_votes += votes[0]\n",
    "    poll_votes += votes[1]\n",
    "    votes.append(votes[0]+votes[1])"
   ]
  },
  {
   "cell_type": "code",
   "execution_count": 3,
   "metadata": {
    "collapsed": false
   },
   "outputs": [],
   "source": [
    "assert cvr_votes <= stratum_sizes[0]\n",
    "assert poll_votes <= stratum_sizes[1]\n",
    "assert (n_ratio >= 0) and (n_ratio <= 1)"
   ]
  },
  {
   "cell_type": "code",
   "execution_count": 4,
   "metadata": {
    "collapsed": false
   },
   "outputs": [
    {
     "name": "stdout",
     "output_type": "stream",
     "text": [
      "\n",
      "Total reported votes:\n",
      "\t\t\tCVR\tno-CVR\ttotal\n",
      "\t candidate 2 : 50000 \t 1000 \t 51000\n",
      "\t candidate 3 : 30000 \t 500 \t 30500\n",
      "\t candidate 1 : 10000 \t 500 \t 10500\n",
      "\t candidate 4 : 500 \t 10 \t 510\n",
      "\n",
      "\t total votes:\t 90500 \t 2010 \t 92510\n",
      "\n",
      "\t non-votes:\t 9500 \t 2990 \t 12490\n",
      "\n",
      "winners:\n",
      "\t candidate 2\n",
      "\t candidate 3\n",
      "\n",
      "losers:\n",
      "\t candidate 1\n",
      "\t candidate 4\n",
      "\n",
      "\n",
      "margins:\n",
      "\t candidate 2 beat candidate 4 by 50490 votes\n",
      "\t candidate 2 beat candidate 1 by 40500 votes\n",
      "\t candidate 3 beat candidate 4 by 29990 votes\n",
      "\t candidate 3 beat candidate 1 by 20000 votes\n",
      "\n",
      "smallest margin: 20000\n"
     ]
    }
   ],
   "source": [
    "# find reported winners, losers, and pairwise margins\n",
    "\n",
    "candidates = OrderedDict(sorted(candidates.items(), key=(lambda t: t[1][2]), reverse=True))\n",
    "                        \n",
    "winners = list(candidates.keys())[0:num_winners]\n",
    "losers = list(candidates.keys())[num_winners:]\n",
    "\n",
    "votes = np.zeros(3)\n",
    "\n",
    "margins = {}  # will hold the (winner, loser) pairwise margins indexed by pairs\n",
    "\n",
    "for x in product(winners, losers):\n",
    "    margins[x] = candidates[x[0]][2] - candidates[x[1]][2]\n",
    "\n",
    "margins = OrderedDict(sorted(margins.items(), key=(lambda t: t[1]), reverse=True))\n",
    "\n",
    "min_margin = np.amin(list(margins.values()))\n",
    "\n",
    "print('\\nTotal reported votes:\\n\\t\\t\\tCVR\\tno-CVR\\ttotal')\n",
    "for k, v in candidates.items():\n",
    "    print('\\t', k, ':', v[0], '\\t', v[1], '\\t', v[2])\n",
    "print('\\n\\t total votes:\\t', cvr_votes, '\\t', poll_votes, '\\t', cvr_votes + poll_votes)\n",
    "print('\\n\\t non-votes:\\t',\\\n",
    "      stratum_sizes[0] - cvr_votes,'\\t',\\\n",
    "      stratum_sizes[1] - poll_votes,'\\t',\\\n",
    "      stratum_sizes[0] + stratum_sizes[1] - cvr_votes - poll_votes\\\n",
    "     )\n",
    "\n",
    "\n",
    "\n",
    "print('\\nwinners:')\n",
    "for w in winners:\n",
    "    print('\\t',w)\n",
    "\n",
    "print('\\nlosers:')\n",
    "for ell in losers:\n",
    "    print('\\t',ell)\n",
    "\n",
    "print('\\n\\nmargins:')\n",
    "for k, v in margins.items():\n",
    "    dum = k[0] + ' beat ' + k[1] + ' by'\n",
    "    print('\\t', dum , v, 'votes')\n",
    "\n",
    "print('\\nsmallest margin:', min_margin)"
   ]
  },
  {
   "cell_type": "markdown",
   "metadata": {},
   "source": [
    "Expected sample sizes"
   ]
  },
  {
   "cell_type": "code",
   "execution_count": 8,
   "metadata": {
    "collapsed": false
   },
   "outputs": [],
   "source": [
    "def estimate_n(Nw1, Nw2, Nl1, Nl2, N1, N2, \n",
    "               n_ratio=None,\n",
    "               risk_limit=0.05,\\\n",
    "               gamma=1.03905,\\\n",
    "               sample_increment=10):\n",
    "    n_ratio = n_ratio if n_ratio else N1/(N1+N2)\n",
    "    n = 0\n",
    "    reported_margin = (Nw1+Nw2)-(Nl1+Nl2)\n",
    "    expected_pvalue = 1\n",
    "    while (expected_pvalue > risk_limit) or (expected_pvalue is np.nan):\n",
    "        n = n + sample_increment\n",
    "        n1 = int(n_ratio * n)\n",
    "        n2 = n - n1\n",
    "        cvr_pvalue = lambda alloc: ballot_comparison_pvalue(n=n1, gamma=1.03905, o1=0, \n",
    "                                                    u1=0, o2=0, u2=0, \n",
    "                                                    reported_margin=reported_margin, N=N1, \n",
    "                                                    null_lambda=alloc)\n",
    "        nocvr_pvalue = lambda alloc: ballot_polling_sprt(sample= np.array([0]*int(n2*Nl2/N2)+\\\n",
    "                                             [1]*int(n2*Nw2/N2)+\\\n",
    "                                             [np.nan]*int(n2*(N2-Nl2-Nw2)/N2)), \\\n",
    "                            popsize=N2, \\\n",
    "                            alpha=risk_limit,\\\n",
    "                            Vw=Nw2, Vl=Nl2, null_margin=(Nw2-Nl2) - alloc*reported_margin)['pvalue']\n",
    "        # Crude maximizer for now\n",
    "        res = bound_fisher_fun(Nw1, Nl1, N1, Nw2, Nl2, N2,\n",
    "                       pvalue_funs=(cvr_pvalue, nocvr_pvalue),\\\n",
    "                       stepsize=0.5, plausible_lambda_range=(-3, 3))\n",
    "        expected_pvalue = np.max(res['upper_bounds'])\n",
    "        if (n % 10000)==0:\n",
    "            print('...trying...', n, expected_pvalue)\n",
    "    \n",
    "    return (n1, n2)\n",
    "\n",
    "# interact(estimate_n,\n",
    "#          risk_limit=widgets.FloatSlider(min=0,max=0.5,step=0.005,value=alpha), \n",
    "#          n_ratio=widgets.FloatSlider(min=0,max=1,step=0.01,value=n_ratio)\n",
    "#        )"
   ]
  },
  {
   "cell_type": "code",
   "execution_count": 9,
   "metadata": {
    "collapsed": false
   },
   "outputs": [],
   "source": [
    "# Find largest expected sample size across (winner, loser) pairs\n",
    "\n",
    "sample_sizes = {}\n",
    "\n",
    "for k in product(winners, losers):\n",
    "    sample_sizes[k] = estimate_n(candidates[k[0]][0],\\\n",
    "                                 candidates[k[0]][1],\\\n",
    "                                 candidates[k[1]][0],\\\n",
    "                                 candidates[k[1]][1],\\\n",
    "                                 stratum_sizes[0],\\\n",
    "                                 stratum_sizes[1],\\\n",
    "                                 n_ratio = n_ratio,\\\n",
    "                                 risk_limit = risk_limit,\\\n",
    "                                 gamma = gamma,\\\n",
    "                                 sample_increment = sample_increment)"
   ]
  },
  {
   "cell_type": "code",
   "execution_count": 12,
   "metadata": {
    "collapsed": false
   },
   "outputs": [
    {
     "name": "stdout",
     "output_type": "stream",
     "text": [
      "{('candidate 2', 'candidate 1'): (47, 3), ('candidate 3', 'candidate 1'): (104, 6), ('candidate 3', 'candidate 4'): (66, 4), ('candidate 2', 'candidate 4'): (38, 2)} \n",
      "expected minimum sample size: 110\n"
     ]
    }
   ],
   "source": [
    "sample_size = np.amax([v[0]+v[1] for v in sample_sizes.values()])\n",
    "print(sample_sizes, '\\nexpected minimum sample size:', sample_size)"
   ]
  },
  {
   "cell_type": "markdown",
   "metadata": {},
   "source": [
    "# Random sampling"
   ]
  },
  {
   "cell_type": "code",
   "execution_count": null,
   "metadata": {
    "collapsed": true
   },
   "outputs": [],
   "source": [
    "seed = 12345\n",
    "n1 = 100\n",
    "n2 = 15000"
   ]
  },
  {
   "cell_type": "code",
   "execution_count": null,
   "metadata": {
    "collapsed": false
   },
   "outputs": [],
   "source": [
    "prng = SHA256(seed)\n",
    "sample1 = sample_by_index(N1, n1, prng)\n",
    "sample2 = sample_by_index(N2, n2, prng)"
   ]
  },
  {
   "cell_type": "markdown",
   "metadata": {},
   "source": [
    "Stratum 1 sample"
   ]
  },
  {
   "cell_type": "code",
   "execution_count": null,
   "metadata": {
    "collapsed": false
   },
   "outputs": [],
   "source": [
    "print(\"Stratum 1 sample:\\n\", sample1)"
   ]
  },
  {
   "cell_type": "code",
   "execution_count": null,
   "metadata": {
    "collapsed": false,
    "scrolled": true
   },
   "outputs": [],
   "source": [
    "print(\"Stratum 1 sample, sorted:\\n\", np.sort(sample1))"
   ]
  },
  {
   "cell_type": "code",
   "execution_count": null,
   "metadata": {
    "collapsed": false
   },
   "outputs": [],
   "source": [
    "print(\"Stratum 1 sample, sorted, duplicates removed:\\n\", np.unique(np.sort(sample1)))"
   ]
  },
  {
   "cell_type": "code",
   "execution_count": null,
   "metadata": {
    "collapsed": false
   },
   "outputs": [],
   "source": [
    "m = np.zeros_like(sample1, dtype=bool)\n",
    "m[np.unique(sample1, return_index=True)[1]] = True\n",
    "print(\"Stratum 1 repeated ballots:\\n\", sample1[~m])"
   ]
  },
  {
   "cell_type": "markdown",
   "metadata": {},
   "source": [
    "Stratum 2 sample"
   ]
  },
  {
   "cell_type": "code",
   "execution_count": null,
   "metadata": {
    "collapsed": false
   },
   "outputs": [],
   "source": [
    "print(\"Stratum 2 sample:\\n\", sample2)"
   ]
  },
  {
   "cell_type": "code",
   "execution_count": null,
   "metadata": {
    "collapsed": false,
    "scrolled": true
   },
   "outputs": [],
   "source": [
    "print(\"Stratum 2 sample, sorted:\\n\", np.sort(sample2))"
   ]
  },
  {
   "cell_type": "code",
   "execution_count": null,
   "metadata": {
    "collapsed": false
   },
   "outputs": [],
   "source": [
    "print(\"Stratum 2 sample, sorted, duplicates removed:\\n\", np.unique(np.sort(sample2)))"
   ]
  },
  {
   "cell_type": "code",
   "execution_count": null,
   "metadata": {
    "collapsed": false
   },
   "outputs": [],
   "source": [
    "m2 = np.zeros_like(sample2, dtype=bool)\n",
    "m2[np.unique(sample2, return_index=True)[1]] = True\n",
    "print(\"Stratum 2 repeated ballots:\\n\", sample2[~m2])"
   ]
  },
  {
   "cell_type": "markdown",
   "metadata": {},
   "source": [
    "# Find ballots using ballot manifest\n",
    "\n",
    "Ballot manifest: Each line must have a batch label, a comma, and one of the following:\n",
    "  1. the number of ballots in the batch \n",
    "  1. a range specified with a colon (e.g., 131:302), or \n",
    "  1. a list of ballot identifiers within parentheses, separated by spaces (e.g., (996 998 1000)).\n",
    "  \n",
    "Each line should have exactly one comma."
   ]
  },
  {
   "cell_type": "code",
   "execution_count": null,
   "metadata": {
    "collapsed": true
   },
   "outputs": [],
   "source": [
    "# I'm imagining this is is a list for now\n",
    "ballot_manifest = ['1, 100', '2, 101:200', '3, (205 210)']"
   ]
  },
  {
   "cell_type": "code",
   "execution_count": null,
   "metadata": {
    "collapsed": true
   },
   "outputs": [],
   "source": [
    "# step 1: expand the ballot manifest into a dict. keys are batches, values are ballot numbers.\n",
    "ballot_manifest_dict = {}\n",
    "\n",
    "# loop over inputs\n",
    "for i in ballot_manifest:\n",
    "    # assert that the entry is a string with a comma in it\n",
    "    \n",
    "    # pull out batch label\n",
    "    (batch, val) = i.split(\",\")\n",
    "    batch = batch.strip()\n",
    "    val = val.strip()\n",
    "    \n",
    "    if not (batch in ballot_manifest_dict.keys()):\n",
    "        ballot_manifest_dict[batch] = []\n",
    "    \n",
    "    # parse what comes after the batch label\n",
    "    if '(' in val:\n",
    "        val = val[1:-1] # strip out the parentheses\n",
    "        ballot_manifest_dict[batch] += [int(num) for num in val.split()]\n",
    "    \n",
    "    elif ':' in val:\n",
    "        limits = val.split(':')\n",
    "        ballot_manifest_dict[batch] += list(range(int(limits[0]), int(limits[1])+1))\n",
    "        \n",
    "    else:\n",
    "        try:\n",
    "            if len(ballot_manifest_dict[batch]):\n",
    "                minval = len(ballot_manifest_dict[batch]) + 1\n",
    "            else:\n",
    "                minval = 1\n",
    "            ballot_manifest_dict[batch] += list(range(minval, minval+int(val)))\n",
    "        except:\n",
    "            print(\"The ballot manifest has been entered improperly.\")\n"
   ]
  },
  {
   "cell_type": "code",
   "execution_count": null,
   "metadata": {
    "collapsed": false
   },
   "outputs": [],
   "source": [
    "# step 2: look up sample values\n",
    "\n",
    "def find_ballot(ballot_num):\n",
    "    for batch, ballots in ballot_manifest_dict.items():\n",
    "        if ballot_num in ballots:\n",
    "            position = ballots.index(ballot_num)\n",
    "            return batch, position\n",
    "    print(\"Ballot %i not found\" % ballot_num)\n",
    "    return None\n",
    "\n",
    "print(\"sorted number, ballot, batch_label, which_ballot_in_batch\")\n",
    "i = 0\n",
    "for s in sample1:\n",
    "    i += 1\n",
    "    batch_label, which_ballot = find_ballot(s)\n",
    "    print(i, s, batch_label, which_ballot) # This uses 0-indexing still. Should we change it be 1,...,n?"
   ]
  },
  {
   "cell_type": "markdown",
   "metadata": {},
   "source": [
    "# Should more ballots be audited?"
   ]
  },
  {
   "cell_type": "markdown",
   "metadata": {},
   "source": [
    "Sample statistics for the CVR stratum (stratum 1)"
   ]
  },
  {
   "cell_type": "code",
   "execution_count": null,
   "metadata": {
    "collapsed": false
   },
   "outputs": [],
   "source": [
    "# Simple version, fill in the blanks\n",
    "\n",
    "o1 = \n",
    "u1 = \n",
    "o2 = \n",
    "u2 = "
   ]
  },
  {
   "cell_type": "code",
   "execution_count": null,
   "metadata": {
    "collapsed": false
   },
   "outputs": [],
   "source": [
    "# Tricky version, input using sliders\n",
    "\n",
    "def stratum1_inputs(o1, u1, o2, u2):\n",
    "    return (o1, u1, o2, u2)\n",
    "\n",
    "stratum1_stats = interactive(stratum1_inputs, \n",
    "                             o1 = widgets.IntSlider(min=0,max=n1,value=0),\n",
    "                             u1 = widgets.IntSlider(min=0,max=n1,value=0),\n",
    "                             o2 = widgets.IntSlider(min=0,max=n1,value=0),\n",
    "                             u2 = widgets.IntSlider(min=0,max=n1,value=0))\n",
    "display(stratum1_stats)"
   ]
  },
  {
   "cell_type": "code",
   "execution_count": null,
   "metadata": {
    "collapsed": false
   },
   "outputs": [],
   "source": [
    "(o1, u1, o2, u2) = [stratum1_stats.children[i].value for i in range(4)]"
   ]
  },
  {
   "cell_type": "markdown",
   "metadata": {},
   "source": [
    "Sample statistics for the no-CVR stratum (stratum 2)"
   ]
  },
  {
   "cell_type": "code",
   "execution_count": null,
   "metadata": {
    "collapsed": true
   },
   "outputs": [],
   "source": [
    "# Simple version, fill in the blanks\n",
    "\n",
    "\n",
    "n2l =\n",
    "n2w = "
   ]
  },
  {
   "cell_type": "code",
   "execution_count": null,
   "metadata": {
    "collapsed": false
   },
   "outputs": [],
   "source": [
    "# Tricky version, input using sliders\n",
    "\n",
    "def stratum2_inputs(ballots_for_loser, ballots_for_winner):\n",
    "    return (ballots_for_loser, ballots_for_winner)\n",
    "\n",
    "stratum2_stats = interactive(stratum2_inputs, \n",
    "                             ballots_for_loser = widgets.IntSlider(min=0,max=n2,value=0),\n",
    "                             ballots_for_winner = widgets.IntSlider(min=0,max=n2,value=0))\n",
    "display(stratum2_stats)"
   ]
  },
  {
   "cell_type": "code",
   "execution_count": null,
   "metadata": {
    "collapsed": false
   },
   "outputs": [],
   "source": [
    "(n2l, n2w) = [stratum2_stats.children[i].value for i in range(2)]"
   ]
  },
  {
   "cell_type": "code",
   "execution_count": null,
   "metadata": {
    "collapsed": true
   },
   "outputs": [],
   "source": [
    "cvr_pvalue = lambda alloc: ballot_comparison_pvalue(n=n1, gamma=1.03905, o1=o1, \n",
    "                                                    u1=u1, o2=o2, u2=u2, \n",
    "                                                    reported_margin=reported_margin, N=N1, \n",
    "                                                    null_lambda=alloc)\n",
    "nocvr_pvalue = lambda alloc: ballot_polling_sprt(sample= np.array([0]*n2l+[1]*n2w+[np.nan]*(n2-n2w-n2l)), \\\n",
    "                            popsize=N2, \\\n",
    "                            alpha=0.05,  # set this param but we don't need to use it\n",
    "                            Vw=Nw2, Vl=Nl2, null_margin=(Nw2-Nl2) - alloc*reported_margin)['pvalue']\n",
    "# Crude maximizer for now\n",
    "res = bound_fisher_fun(Nw1, Nl1, N1, Nw2, Nl2, N2,\n",
    "                       pvalue_funs=(cvr_pvalue, nocvr_pvalue), stepsize=0.5, plausible_lambda_range=(-3, 3))\n",
    "expected_pvalue = np.max(res['upper_bounds'])\n",
    "if expected_pvalue <= alpha:\n",
    "    print(\"Stop the audit\")\n",
    "else:\n",
    "    print(\"Escalate the audit\")"
   ]
  }
 ],
 "metadata": {
  "kernelspec": {
   "display_name": "Python 3",
   "language": "python",
   "name": "python3"
  },
  "language_info": {
   "codemirror_mode": {
    "name": "ipython",
    "version": 3
   },
   "file_extension": ".py",
   "mimetype": "text/x-python",
   "name": "python",
   "nbconvert_exporter": "python",
   "pygments_lexer": "ipython3",
   "version": "3.4.3"
  },
  "widgets": {
   "state": {
    "7874b05cf5b84aa199d0182400809ca0": {
     "views": [
      {
       "cell_index": 26
      }
     ]
    },
    "7d22d325d5cd4e4da3e57907066838dd": {
     "views": [
      {
       "cell_index": 30
      }
     ]
    }
   },
   "version": "1.2.0"
  }
 },
 "nbformat": 4,
 "nbformat_minor": 2
}
