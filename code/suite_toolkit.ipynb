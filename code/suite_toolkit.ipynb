{
 "cells": [
  {
   "cell_type": "markdown",
   "metadata": {},
   "source": [
    "# Tools for SUITE Risk-Limiting Election Audits\n",
    "\n"
   ]
  },
  {
   "cell_type": "code",
   "execution_count": 1,
   "metadata": {
    "collapsed": false
   },
   "outputs": [
    {
     "name": "stderr",
     "output_type": "stream",
     "text": [
      "/Library/Frameworks/Python.framework/Versions/3.4/lib/python3.4/importlib/_bootstrap.py:321: RuntimeWarning: numpy.dtype size changed, may indicate binary incompatibility. Expected 96, got 88\n",
      "  return f(*args, **kwds)\n"
     ]
    }
   ],
   "source": [
    "from __future__ import print_function\n",
    "\n",
    "from ipywidgets import interact, interactive, fixed, interact_manual\n",
    "import ipywidgets as widgets\n",
    "from IPython.display import display\n",
    "\n",
    "from collections import OrderedDict\n",
    "from itertools import product\n",
    "import math\n",
    "\n",
    "import numpy as np\n",
    "from ballot_comparison import ballot_comparison_pvalue\n",
    "from fishers_combination import  maximize_fisher_combined_pvalue, create_modulus\n",
    "from sprt import ballot_polling_sprt\n",
    "\n",
    "from cryptorandom.cryptorandom import SHA256\n",
    "from cryptorandom.sample import sample_by_index\n",
    "\n",
    "from suite_tools import check_valid_audit_parameters, check_valid_vote_counts, \\\n",
    "        find_winners_losers, print_reported_votes, \\\n",
    "        estimate_n, estimate_escalation_n, \\\n",
    "        parse_manifest, unique_manifest, find_ballot, \\\n",
    "        audit_contest\n",
    "        "
   ]
  },
  {
   "cell_type": "code",
   "execution_count": 2,
   "metadata": {
    "collapsed": true
   },
   "outputs": [],
   "source": [
    "# global audit parameters\n",
    "\n",
    "seed = 12345678901234567890  # use, e.g., 20 rolls of a 10-sided die\n",
    "risk_limit = 0.05    # risk limit\n",
    "\n",
    "gamma=1.03905         # gamma from Lindeman and Stark (2012)\n",
    "\n",
    "lambda_step = 0.05    # stepsize for the discrete bounds on Fisher's combining function\n",
    "\n",
    "# assumptions for finding initial sample sizes\n",
    "\n",
    "o1_rate = 0.002       # expect 2 1-vote overstatements per 1000 ballots in the CVR stratum\n",
    "o2_rate = 0           # expect 0 2-vote overstatements\n",
    "u1_rate = 0           # expect 0 1-vote understatements\n",
    "u2_rate = 0           # expect 0 2-vote understatements\n",
    "\n",
    "stratum_sizes = [100000, 5000]  # total ballots in the two strata, CVR, no-CVR\n",
    "\n",
    "n_ratio = stratum_sizes[0]/np.sum(stratum_sizes) \n",
    "                     # allocate sample in proportion to ballots cast in each stratum\n",
    "\n",
    "# contest-specific parameters\n",
    "num_winners = 2       # maximum number of winners, per social choice function"
   ]
  },
  {
   "cell_type": "code",
   "execution_count": 3,
   "metadata": {
    "collapsed": false
   },
   "outputs": [],
   "source": [
    "check_valid_audit_parameters(risk_limit, lambda_step, o1_rate, o2_rate, \\\n",
    "                                 u1_rate, u2_rate, stratum_sizes, n_ratio, num_winners)"
   ]
  },
  {
   "cell_type": "markdown",
   "metadata": {},
   "source": [
    "# Enter the reported votes"
   ]
  },
  {
   "cell_type": "code",
   "execution_count": 4,
   "metadata": {
    "collapsed": true
   },
   "outputs": [],
   "source": [
    "# input number of winners\n",
    "# input names as well as reported votes in each stratum\n",
    "\n",
    "# candidates are a dict with name, [votes_in_stratum_1, votes_in_stratum_2]\n",
    "candidates = { \"candidate 3\": [30000, 500],\n",
    "               \"candidate 2\": [50000, 1000],\n",
    "               \"candidate 1\": [10000, 500],\n",
    "               \"candidate 4\": [500, 10]}\n",
    "\n",
    "# Run check on the input vote totals\n",
    "check_valid_vote_counts(candidates, stratum_sizes)"
   ]
  },
  {
   "cell_type": "code",
   "execution_count": 5,
   "metadata": {
    "collapsed": false
   },
   "outputs": [
    {
     "name": "stdout",
     "output_type": "stream",
     "text": [
      "\n",
      "Total reported votes:\n",
      "\t\t\tCVR\tno-CVR\ttotal\n",
      "\t candidate 2 : 50000 \t 1000 \t 51000\n",
      "\t candidate 3 : 30000 \t 500 \t 30500\n",
      "\t candidate 1 : 10000 \t 500 \t 10500\n",
      "\t candidate 4 : 500 \t 10 \t 510\n",
      "\n",
      "\t total votes:\t 90500 \t 2010 \t 92510\n",
      "\n",
      "\t non-votes:\t 9500 \t 2990 \t 12490\n",
      "\n",
      "winners:\n",
      "\t candidate 2\n",
      "\t candidate 3\n",
      "\n",
      "losers:\n",
      "\t candidate 1\n",
      "\t candidate 4\n",
      "\n",
      "\n",
      "margins:\n",
      "\t candidate 2 beat candidate 4 by 50490 votes\n",
      "\t candidate 2 beat candidate 1 by 40500 votes\n",
      "\t candidate 3 beat candidate 4 by 29990 votes\n",
      "\t candidate 3 beat candidate 1 by 20000 votes\n",
      "\n",
      "smallest margin: 20000 \n",
      "diluted margin: 0.19047619047619047\n"
     ]
    }
   ],
   "source": [
    "# compute and print, reported winners, losers, and pairwise margins\n",
    "(candidates, margins, winners, losers) = find_winners_losers(candidates, num_winners)\n",
    "    \n",
    "print_reported_votes(candidates, winners, losers, margins, stratum_sizes)"
   ]
  },
  {
   "cell_type": "markdown",
   "metadata": {},
   "source": [
    "# Initial sample size"
   ]
  },
  {
   "cell_type": "code",
   "execution_count": 6,
   "metadata": {
    "collapsed": false
   },
   "outputs": [],
   "source": [
    "# Calculate expected sample size across (winner, loser) pairs\n",
    "\n",
    "sample_sizes = {}\n",
    "\n",
    "for k in product(winners, losers):\n",
    "    sample_sizes[k] = estimate_n(N_w1 = candidates[k[0]][0],\\\n",
    "                                 N_w2 = candidates[k[0]][1],\\\n",
    "                                 N_l1 = candidates[k[1]][0],\\\n",
    "                                 N_l2 = candidates[k[1]][1],\\\n",
    "                                 N1 = stratum_sizes[0],\\\n",
    "                                 N2 = stratum_sizes[1],\\\n",
    "                                 o1_rate = o1_rate,\\\n",
    "                                 o2_rate = o2_rate,\\\n",
    "                                 u1_rate = u1_rate,\\\n",
    "                                 u2_rate = u2_rate,\\\n",
    "                                 n_ratio = n_ratio,\\\n",
    "                                 risk_limit = risk_limit,\\\n",
    "                                 gamma = gamma,\\\n",
    "                                 stepsize = lambda_step)"
   ]
  },
  {
   "cell_type": "code",
   "execution_count": 7,
   "metadata": {
    "collapsed": false
   },
   "outputs": [
    {
     "name": "stdout",
     "output_type": "stream",
     "text": [
      "{('candidate 2', 'candidate 4'): (29, 1), ('candidate 2', 'candidate 1'): (34, 1), ('candidate 3', 'candidate 4'): (58, 2), ('candidate 3', 'candidate 1'): (58, 2)} \n",
      "\n",
      "expected minimum sample size: 60\n"
     ]
    }
   ],
   "source": [
    "sample_size = np.amax([v[0]+v[1] for v in sample_sizes.values()])\n",
    "n1 = math.ceil(sample_size*n_ratio)    \n",
    "n2 = sample_size-n1\n",
    "\n",
    "print(sample_sizes, '\\n\\nexpected minimum sample size:', sample_size)"
   ]
  },
  {
   "cell_type": "markdown",
   "metadata": {},
   "source": [
    "# Random sampling"
   ]
  },
  {
   "cell_type": "markdown",
   "metadata": {},
   "source": [
    "If this section is giving errors, you probably need to update your version of `cryptorandom`.\n",
    "\n",
    "```\n",
    "pip install [--update] cryptorandom\n",
    "```"
   ]
  },
  {
   "cell_type": "code",
   "execution_count": 8,
   "metadata": {
    "collapsed": true
   },
   "outputs": [],
   "source": [
    "prng = SHA256(seed)   # initialize the PRNG"
   ]
  },
  {
   "cell_type": "code",
   "execution_count": 9,
   "metadata": {
    "collapsed": true
   },
   "outputs": [],
   "source": [
    "# CVR stratum initial sample size, sampled with replacement\n",
    "sample1 = prng.randint(1, stratum_sizes[0]+1, size=n1)\n",
    "\n",
    "# No-CVR ballots are sampled without replacement\n",
    "sample2 = sample_by_index(stratum_sizes[1], n2, prng)"
   ]
  },
  {
   "cell_type": "markdown",
   "metadata": {},
   "source": [
    "### Stratum 1 sample"
   ]
  },
  {
   "cell_type": "code",
   "execution_count": 10,
   "metadata": {
    "collapsed": false
   },
   "outputs": [
    {
     "name": "stdout",
     "output_type": "stream",
     "text": [
      "CVR stratum sample:\n",
      " [76116 45424 33501 45326  2081 56264 25122 16602 79743 61814 57922 41676\n",
      " 95332 38891 17757 64352 84257 47365 10908 97791 77941 73573 51855 88527\n",
      " 35549 20934 61419 70683 70220 45067 67903 94304 20823 50570 88735  9973\n",
      " 44578 34320  8262 32532 85102 87511 63375 96612 52917 91127 84152 74227\n",
      " 76674 76640 62444 83868  3974 81503 82205 41161 28136 12244]\n"
     ]
    }
   ],
   "source": [
    "print(\"CVR stratum sample:\\n\", sample1)"
   ]
  },
  {
   "cell_type": "code",
   "execution_count": 11,
   "metadata": {
    "collapsed": false,
    "scrolled": true
   },
   "outputs": [
    {
     "name": "stdout",
     "output_type": "stream",
     "text": [
      "CVR stratum sample, sorted:\n",
      " [ 2081  3974  8262  9973 10908 12244 16602 17757 20823 20934 25122 28136\n",
      " 32532 33501 34320 35549 38891 41161 41676 44578 45067 45326 45424 47365\n",
      " 50570 51855 52917 56264 57922 61419 61814 62444 63375 64352 67903 70220\n",
      " 70683 73573 74227 76116 76640 76674 77941 79743 81503 82205 83868 84152\n",
      " 84257 85102 87511 88527 88735 91127 94304 95332 96612 97791]\n"
     ]
    }
   ],
   "source": [
    "print(\"CVR stratum sample, sorted:\\n\", np.sort(sample1))"
   ]
  },
  {
   "cell_type": "code",
   "execution_count": 12,
   "metadata": {
    "collapsed": false
   },
   "outputs": [
    {
     "name": "stdout",
     "output_type": "stream",
     "text": [
      "CVR stratum sample, sorted, duplicates removed:\n",
      " [ 2081  3974  8262  9973 10908 12244 16602 17757 20823 20934 25122 28136\n",
      " 32532 33501 34320 35549 38891 41161 41676 44578 45067 45326 45424 47365\n",
      " 50570 51855 52917 56264 57922 61419 61814 62444 63375 64352 67903 70220\n",
      " 70683 73573 74227 76116 76640 76674 77941 79743 81503 82205 83868 84152\n",
      " 84257 85102 87511 88527 88735 91127 94304 95332 96612 97791]\n"
     ]
    }
   ],
   "source": [
    "print(\"CVR stratum sample, sorted, duplicates removed:\\n\", np.unique(np.sort(sample1)))"
   ]
  },
  {
   "cell_type": "code",
   "execution_count": 13,
   "metadata": {
    "collapsed": false
   },
   "outputs": [
    {
     "name": "stdout",
     "output_type": "stream",
     "text": [
      "Stratum 1 repeated ballots:\n",
      " []\n"
     ]
    }
   ],
   "source": [
    "m = np.zeros_like(sample1, dtype=bool)\n",
    "m[np.unique(sample1, return_index=True)[1]] = True\n",
    "print(\"Stratum 1 repeated ballots:\\n\", sample1[~m])"
   ]
  },
  {
   "cell_type": "markdown",
   "metadata": {},
   "source": [
    "### Stratum 2 sample"
   ]
  },
  {
   "cell_type": "code",
   "execution_count": 14,
   "metadata": {
    "collapsed": false
   },
   "outputs": [
    {
     "name": "stdout",
     "output_type": "stream",
     "text": [
      "No-CVR stratum sample:\n",
      " [1133 4784]\n"
     ]
    }
   ],
   "source": [
    "print(\"No-CVR stratum sample:\\n\", sample2)"
   ]
  },
  {
   "cell_type": "code",
   "execution_count": 15,
   "metadata": {
    "collapsed": false,
    "scrolled": true
   },
   "outputs": [
    {
     "name": "stdout",
     "output_type": "stream",
     "text": [
      "No-CVR stratum sample, sorted:\n",
      " [1133 4784]\n"
     ]
    }
   ],
   "source": [
    "print(\"No-CVR stratum sample, sorted:\\n\", np.sort(sample2))"
   ]
  },
  {
   "cell_type": "markdown",
   "metadata": {},
   "source": [
    "# Find ballots using ballot manifest\n",
    "\n",
    "Ballot manifest: Each line must have a batch label, a comma, and one of the following:\n",
    "  1. the number of ballots in the batch \n",
    "  1. a range specified with a colon (e.g., 131:302), or \n",
    "  1. a list of ballot identifiers within parentheses, separated by spaces (e.g., (996 998 1000)).\n",
    "  \n",
    "Each line should have exactly one comma."
   ]
  },
  {
   "cell_type": "code",
   "execution_count": 16,
   "metadata": {
    "collapsed": true
   },
   "outputs": [],
   "source": [
    "# I'm imagining this is is a list for now\n",
    "ballot_manifest_cvr = ['1, 10000', '2, 10001:99998', '3, (205 210)']\n",
    "ballot_manifest_poll = ['1, 1000', '2, 1001:4998', '3, (205 210)']"
   ]
  },
  {
   "cell_type": "code",
   "execution_count": 17,
   "metadata": {
    "collapsed": true
   },
   "outputs": [],
   "source": [
    "# step 1: expand the ballot manifest into a dict. keys are batches, values are ballot numbers.\n",
    "cvr_manifest_parsed = parse_manifest(ballot_manifest_cvr)\n",
    "poll_manifest_parsed = parse_manifest(ballot_manifest_poll)"
   ]
  },
  {
   "cell_type": "code",
   "execution_count": 18,
   "metadata": {
    "collapsed": false
   },
   "outputs": [],
   "source": [
    "# count ballots listed in the manifests\n",
    "listed_cvr = np.sum([len(v) for v in cvr_manifest_parsed.values()])\n",
    "listed_poll = np.sum([len(v) for v in poll_manifest_parsed.values()])\n",
    "\n",
    "# test that manifest matches reported ballot totals\n",
    "\n",
    "assert listed_cvr == stratum_sizes[0]\n",
    "assert listed_poll == stratum_sizes[1]"
   ]
  },
  {
   "cell_type": "code",
   "execution_count": 19,
   "metadata": {
    "collapsed": false
   },
   "outputs": [],
   "source": [
    "# step 2: give ballots unique IDs\n",
    "\n",
    "unique_cvr_manifest = unique_manifest(cvr_manifest_parsed)\n",
    "unique_poll_manifest = unique_manifest(poll_manifest_parsed)"
   ]
  },
  {
   "cell_type": "code",
   "execution_count": 20,
   "metadata": {
    "collapsed": false
   },
   "outputs": [
    {
     "name": "stdout",
     "output_type": "stream",
     "text": [
      "CVR Stratum\n",
      "sampled ballot, original ballot label, batch label, which ballot in batch\n",
      "76116 76117 2 66116\n",
      "45424 45425 2 35424\n",
      "33501 33502 2 23501\n",
      "45326 45327 2 35326\n",
      "2081 2082 1 2081\n",
      "56264 56265 2 46264\n",
      "25122 25123 2 15122\n",
      "16602 16603 2 6602\n",
      "79743 79744 2 69743\n",
      "61814 61815 2 51814\n",
      "57922 57923 2 47922\n",
      "41676 41677 2 31676\n",
      "95332 95333 2 85332\n",
      "38891 38892 2 28891\n",
      "17757 17758 2 7757\n",
      "64352 64353 2 54352\n",
      "84257 84258 2 74257\n",
      "47365 47366 2 37365\n",
      "10908 10909 2 908\n",
      "97791 97792 2 87791\n",
      "77941 77942 2 67941\n",
      "73573 73574 2 63573\n",
      "51855 51856 2 41855\n",
      "88527 88528 2 78527\n",
      "35549 35550 2 25549\n",
      "20934 20935 2 10934\n",
      "61419 61420 2 51419\n",
      "70683 70684 2 60683\n",
      "70220 70221 2 60220\n",
      "45067 45068 2 35067\n",
      "67903 67904 2 57903\n",
      "94304 94305 2 84304\n",
      "20823 20824 2 10823\n",
      "50570 50571 2 40570\n",
      "88735 88736 2 78735\n",
      "9973 9974 1 9973\n",
      "44578 44579 2 34578\n",
      "34320 34321 2 24320\n",
      "8262 8263 1 8262\n",
      "32532 32533 2 22532\n",
      "85102 85103 2 75102\n",
      "87511 87512 2 77511\n",
      "63375 63376 2 53375\n",
      "96612 96613 2 86612\n",
      "52917 52918 2 42917\n",
      "91127 91128 2 81127\n",
      "84152 84153 2 74152\n",
      "74227 74228 2 64227\n",
      "76674 76675 2 66674\n",
      "76640 76641 2 66640\n",
      "62444 62445 2 52444\n",
      "83868 83869 2 73868\n",
      "3974 3975 1 3974\n",
      "81503 81504 2 71503\n",
      "82205 82206 2 72205\n",
      "41161 41162 2 31161\n",
      "28136 28137 2 18136\n",
      "12244 12245 2 2244\n"
     ]
    }
   ],
   "source": [
    "# step 3: look up sample values\n",
    "\n",
    "print(\"CVR Stratum\")\n",
    "print(\"sampled ballot, original ballot label, batch label, which ballot in batch\")\n",
    "i = 0\n",
    "for s in sample1:\n",
    "    i += 1\n",
    "    original_ballot_label, batch_label, which_ballot = find_ballot(s, \\\n",
    "                                                                   unique_cvr_manifest, \\\n",
    "                                                                   cvr_manifest_parsed)\n",
    "    print(s, original_ballot_label, batch_label, which_ballot)"
   ]
  },
  {
   "cell_type": "code",
   "execution_count": 21,
   "metadata": {
    "collapsed": false
   },
   "outputs": [
    {
     "name": "stdout",
     "output_type": "stream",
     "text": [
      "Polling Stratum\n",
      "sampled ballot, original ballot label, batch label, which ballot in batch\n",
      "1 1133 2 133\n",
      "2 4784 2 3784\n"
     ]
    }
   ],
   "source": [
    "print(\"Polling Stratum\")\n",
    "print(\"sampled ballot, original ballot label, batch label, which ballot in batch\")\n",
    "i = 0\n",
    "for s in sample2:\n",
    "    i += 1\n",
    "    original_ballot_label, batch_label, which_ballot = find_ballot(s, \\\n",
    "                                                                   unique_poll_manifest, \\\n",
    "                                                                   poll_manifest_parsed)\n",
    "    print(i, s, batch_label, which_ballot)"
   ]
  },
  {
   "cell_type": "markdown",
   "metadata": {},
   "source": [
    "# Enter the sample data"
   ]
  },
  {
   "cell_type": "markdown",
   "metadata": {},
   "source": [
    "Sample statistics for the CVR stratum (stratum 1)"
   ]
  },
  {
   "cell_type": "code",
   "execution_count": 22,
   "metadata": {
    "collapsed": true
   },
   "outputs": [],
   "source": [
    "# Number of observed...\n",
    "n1 = 60\n",
    "o1 = 5 # 1-vote overstatements\n",
    "o2 = 0 # 2-vote overstatements\n",
    "u1 = 0 # 1-vote understatements\n",
    "u2 = 0 # 2-vote understatements"
   ]
  },
  {
   "cell_type": "markdown",
   "metadata": {},
   "source": [
    "Sample statistics for the no-CVR stratum (stratum 2)"
   ]
  },
  {
   "cell_type": "code",
   "execution_count": 23,
   "metadata": {
    "collapsed": true
   },
   "outputs": [],
   "source": [
    "# Number of votes for each candidate\n",
    "# recall that in the provided example, n2=3 so the totals here must add up to <= 3.\n",
    "n2=3\n",
    "\n",
    "# no-CVR sample is stored in a dict with name, votes in the sample\n",
    "observed_poll = { \"candidate 3\": 1,\n",
    "               \"candidate 2\": 2,\n",
    "               \"candidate 1\": 0,\n",
    "               \"candidate 4\": 0}"
   ]
  },
  {
   "cell_type": "markdown",
   "metadata": {},
   "source": [
    "# What's the risk for this sample?"
   ]
  },
  {
   "cell_type": "code",
   "execution_count": 24,
   "metadata": {
    "collapsed": false
   },
   "outputs": [
    {
     "data": {
      "text/plain": [
       "{('candidate 2', 'candidate 1'): 0.0008703324591761152,\n",
       " ('candidate 2', 'candidate 4'): 3.311380205428538e-05,\n",
       " ('candidate 3', 'candidate 1'): 0.23272911575919975,\n",
       " ('candidate 3', 'candidate 4'): 0.01806179900603555}"
      ]
     },
     "execution_count": 24,
     "metadata": {},
     "output_type": "execute_result"
    }
   ],
   "source": [
    "# Find audit p-values across (winner, loser) pairs\n",
    "\n",
    "audit_pvalues = audit_contest(candidates, winners, losers, stratum_sizes, \\\n",
    "                  n1, n2, o1, o2, u1, u2, observed_poll, \\\n",
    "                  risk_limit=risk_limit, gamma=gamma, stepsize=lambda_step)\n",
    "audit_pvalues"
   ]
  },
  {
   "cell_type": "markdown",
   "metadata": {},
   "source": [
    "# Escalation guidance: how many more ballots should be drawn?"
   ]
  },
  {
   "cell_type": "code",
   "execution_count": 25,
   "metadata": {
    "collapsed": false
   },
   "outputs": [],
   "source": [
    "sample_sizes_new = {}\n",
    "\n",
    "for k in product(winners, losers):\n",
    "    sample_sizes_new[k] = estimate_escalation_n(\\\n",
    "                                 N_w1 = candidates[k[0]][0],\\\n",
    "                                 N_w2 = candidates[k[0]][1],\\\n",
    "                                 N_l1 = candidates[k[1]][0],\\\n",
    "                                 N_l2 = candidates[k[1]][1],\\\n",
    "                                 N1 = stratum_sizes[0],\\\n",
    "                                 N2 = stratum_sizes[1],\\\n",
    "                                 n1 = n1,\\\n",
    "                                 n2 = n2,\\\n",
    "                                 o1_obs = o1,\\\n",
    "                                 o2_obs = o2,\\\n",
    "                                 u1_obs = u1,\\\n",
    "                                 u2_obs = u2,\\\n",
    "                                 n2l_obs = observed_poll[k[1]],\\\n",
    "                                 n2w_obs = observed_poll[k[0]],\\\n",
    "                                 o1_rate = o1_rate,\\\n",
    "                                 o2_rate = o2_rate,\\\n",
    "                                 u1_rate = u1_rate,\\\n",
    "                                 u2_rate = u2_rate,\\\n",
    "                                 n_ratio = n_ratio,\\\n",
    "                                 risk_limit = risk_limit,\\\n",
    "                                 gamma = gamma,\\\n",
    "                                 stepsize = lambda_step)"
   ]
  },
  {
   "cell_type": "code",
   "execution_count": 26,
   "metadata": {
    "collapsed": false
   },
   "outputs": [
    {
     "name": "stdout",
     "output_type": "stream",
     "text": [
      "{('candidate 2', 'candidate 4'): (63, 3), ('candidate 2', 'candidate 1'): (63, 3), ('candidate 3', 'candidate 4'): (63, 3), ('candidate 3', 'candidate 1'): (87, 4)} \n",
      "\n",
      "Expected minimum sample size: 91\n",
      "\n",
      "Ballots to draw in the CVR stratum: 27\n",
      "Ballots to draw in the no-CVR stratum: 1\n"
     ]
    }
   ],
   "source": [
    "## TODO: Check that we like this sort of output\n",
    "\n",
    "sample_size_new = np.amax([v[0]+v[1] for v in sample_sizes_new.values()])\n",
    "n1_new = np.amax([v[0] for v in sample_sizes_new.values()])\n",
    "n2_new = np.amax([v[1] for v in sample_sizes_new.values()])\n",
    "\n",
    "print(sample_sizes_new, '\\n\\nExpected minimum sample size:', sample_size_new)\n",
    "print(\"\\nBallots to draw in the CVR stratum:\", n1_new - n1)\n",
    "print(\"Ballots to draw in the no-CVR stratum:\", n2_new - n2)"
   ]
  }
 ],
 "metadata": {
  "kernelspec": {
   "display_name": "Python 3",
   "language": "python",
   "name": "python3"
  },
  "language_info": {
   "codemirror_mode": {
    "name": "ipython",
    "version": 3
   },
   "file_extension": ".py",
   "mimetype": "text/x-python",
   "name": "python",
   "nbconvert_exporter": "python",
   "pygments_lexer": "ipython3",
   "version": "3.4.3"
  }
 },
 "nbformat": 4,
 "nbformat_minor": 2
}
