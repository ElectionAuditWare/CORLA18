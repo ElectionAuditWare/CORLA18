{
 "cells": [
  {
   "cell_type": "markdown",
   "metadata": {},
   "source": [
    "# Tools for SUITE Risk-Limiting Election Audits\n",
    "\n",
    "This Jupyter notebook implements some tools to conduct \"hybrid\" stratified risk-limiting audits as described in Risk-Limiting Audits by Stratified Union-Intersection Tests of Elections (SUITE), by Ottoboni, Stark, Lindeman, and McBurnett.\n",
    "\n",
    "For an implementation of tools for \"comparison\" risk-limiting audits as described in AGI, see http://statistics.berkeley.edu/~stark/Vote/auditTools.htm. For the sister ballot polling tool, see https://www.stat.berkeley.edu/~stark/Vote/ballotPollTools.htm.\n",
    "\n",
    "The tools on this page help perform the following steps:\n",
    "\n",
    "* Choose a number of ballots to audit in each stratum initially, on the assumption that the contest outcome is correct.\n",
    "* Select random samples of ballots in each stratum.\n",
    "* Find those ballots using ballot manifests.\n",
    "* Determine whether the audit can stop, given the votes on the ballots in the sample. \n",
    "* If the audit cannot stop yet, estimate how many additional ballots will need to be audited.\n",
    "\n",
    "This notebook is already filled out with an example election. It can be run from start to finish to demonstrate how the tool works. The numbers in the example can be deleted and replaced with actual data for an audit."
   ]
  },
  {
   "cell_type": "markdown",
   "metadata": {},
   "source": [
    "## Introduction to Jupyter Notebooks\n",
    "\n",
    "We leave [a comprehensive introduction to the Jupyter notebook](https://jupyter-notebook.readthedocs.io/en/stable/notebook.html) to the experts, but below are a few features you should know to use this tool:\n",
    "\n",
    "* notebooks are comprised of _cells_, blocks of code that can be run together. To the left of a code cell, you will see either [] (indicating that it has not been run yet) or [x] (where x is a number indicating that it was the xth cell to be run). You can the code in a cell by clicking into the cell, indicated by a green box around the cell, and running `Ctrl + Enter`.\n",
    "* code lines that begin with `#` are comments. They're not actually run, but are there to describe what the code is doing.\n",
    "* the text in a notebook is also written in a cell. Instead of a code cell, it's a Markdown cell. Clicking on a text cell will make it editable; running `Ctrl + Enter` will render it back into text.\n",
    "* the order in which cells are executed matters. Code in later cells depends on earlier cells. However, it is _possible_ to run cells out of order or rerun cells that have been run earlier; this can cause problem. In general, it is __best practice__ to rerun the entire notebook after you have filled in the values you want. To do so, click on the `Kernel` menu at the top of the page and select `Restart & Run All`. This will clear the memory and rerun everything in the prescribed order.\n",
    "\n",
    "\n",
    "The following cell imports all the necessary functionality from packages."
   ]
  },
  {
   "cell_type": "code",
   "execution_count": 1,
   "metadata": {},
   "outputs": [],
   "source": [
    "from __future__ import print_function\n",
    "\n",
    "from ipywidgets import interact, interactive, fixed, interact_manual\n",
    "import ipywidgets as widgets\n",
    "from IPython.display import display, HTML\n",
    "\n",
    "from collections import OrderedDict\n",
    "from itertools import product\n",
    "import math\n",
    "import json\n",
    "import pprint\n",
    "\n",
    "import numpy as np\n",
    "from ballot_comparison import ballot_comparison_pvalue\n",
    "from fishers_combination import  maximize_fisher_combined_pvalue, create_modulus\n",
    "from sprt import ballot_polling_sprt\n",
    "\n",
    "from cryptorandom.cryptorandom import SHA256\n",
    "from cryptorandom.sample import random_sample\n",
    "\n",
    "from suite_tools import read_audit_parameters, write_audit_parameters, write_audit_results, \\\n",
    "        check_valid_audit_parameters, check_valid_vote_counts, \\\n",
    "        check_overvote_rates, find_winners_losers, print_reported_votes, \\\n",
    "        estimate_n, estimate_escalation_n, \\\n",
    "        parse_manifest, unique_manifest, find_ballot, \\\n",
    "        audit_contest\n",
    "    \n",
    "import warnings\n",
    "warnings.filterwarnings(\"ignore\")"
   ]
  },
  {
   "cell_type": "markdown",
   "metadata": {},
   "source": [
    "# Input the global audit parameters.\n",
    "\n",
    "For an audit, you should input the following global parameters in the cell below:\n",
    "\n",
    "* contest-specific parameters:\n",
    "    * `risk_limit`: the risk limit for the audit\n",
    "    * `stratum_sizes`: total ballots in the two strata, [CVR total, no-CVR total]\n",
    "    * `num_winners`: number of winners in the contest\n",
    "* software parameters:\n",
    "    * `seed`: the numeric seed for the pseudo-random number generator used to draw samples of ballots. Use, e.g., 20 rolls of a 10-sided die \n",
    "    * `gamma`: the gamma parameter used in the ballot-polling method from Lindeman and Stark (2012). Default value of 1.03905 is generally accepted\n",
    "    * `lambda_step`: the initial step size in the grid search over the way error is allocated across the CVR and no-CVR strata in SUITE. Default 0.05 is acceptable\n",
    "* initial sample size estimate parameters:\n",
    "    * `o1_rate`: expected rate of 1-vote overstatements in the CVR stratum\n",
    "    * `o2_rate`: expected rate of 2-vote overstatements in the CVR stratum\n",
    "    * `u1_rate`: expected rate of 1-vote understatements in the CVR stratum\n",
    "    * `u2_rate`: expected rate of 2-vote understatements in the CVR stratum\n",
    "    * `n_ratio`: what fraction of the sample is taken from the CVR stratum. Default is to allocate sample in proportion to ballots cast in each stratum.\n",
    "    \n"
   ]
  },
  {
   "cell_type": "code",
   "execution_count": 3,
   "metadata": {},
   "outputs": [],
   "source": [
    "# global audit parameters\n",
    "\n",
    "# contest-specific parameters\n",
    "risk_limit = 0.05    # risk limit\n",
    "stratum_sizes = [100000, 5000]  # total ballots in the two strata, CVR, no-CVR\n",
    "num_winners = 2       # maximum number of winners, per social choice function\n",
    "\n",
    "\n",
    "# software parameters\n",
    "seed = 12345678901234567890  # use, e.g., 20 rolls of a 10-sided die\n",
    "gamma=1.03905         # gamma from Lindeman and Stark (2012)\n",
    "lambda_step = 0.05    # stepsize for the discrete bounds on Fisher's combining function\n",
    "\n",
    "# initial sample size parameters\n",
    "o1_rate = 0.002       # expect 2 1-vote overstatements per 1000 ballots in the CVR stratum\n",
    "o2_rate = 0           # expect 0 2-vote overstatements\n",
    "u1_rate = 0           # expect 0 1-vote understatements\n",
    "u2_rate = 0           # expect 0 2-vote understatements\n",
    "n_ratio = stratum_sizes[0]/np.sum(stratum_sizes) \n",
    "                     # allocate sample in proportion to ballots cast in each stratum"
   ]
  },
  {
   "cell_type": "code",
   "execution_count": 3,
   "metadata": {},
   "outputs": [
    {
     "data": {
      "text/plain": [
       "{u'gamma': 1.03905,\n",
       " u'lambda_step': 0.05,\n",
       " u'n_ratio': 0,\n",
       " u'num_winners': 2,\n",
       " u'o1_rate': 0.002,\n",
       " u'o2_rate': 0,\n",
       " u'risk_limit': 0.05,\n",
       " u'seed': 12345678901234567890L,\n",
       " u'stratum_sizes': [100000, 5000],\n",
       " u'u1_rate': 0,\n",
       " u'u2_rate': 0}"
      ]
     },
     "execution_count": 3,
     "metadata": {},
     "output_type": "execute_result"
    }
   ],
   "source": [
    "#Read in audit parameters from file, then print them out\n",
    "\n",
    "params = read_audit_parameters(\"audit_parameters.json\");\n",
    "params"
   ]
  },
  {
   "cell_type": "code",
   "execution_count": 5,
   "metadata": {},
   "outputs": [],
   "source": [
    "#Set the local variables to contain the read in audit parameters\n",
    "locals().update(params)"
   ]
  },
  {
   "cell_type": "code",
   "execution_count": 6,
   "metadata": {},
   "outputs": [],
   "source": [
    "check_valid_audit_parameters(risk_limit, lambda_step, o1_rate, o2_rate, \\\n",
    "                                 u1_rate, u2_rate, stratum_sizes, n_ratio, num_winners)"
   ]
  },
  {
   "cell_type": "code",
   "execution_count": 7,
   "metadata": {},
   "outputs": [],
   "source": [
    "write_audit_parameters(\"audit_parameters.json\",\\\n",
    "                       risk_limit, stratum_sizes, num_winners, seed, gamma, \\\n",
    "                       lambda_step, o1_rate, o2_rate, \\\n",
    "                       u1_rate, u2_rate, n_ratio)"
   ]
  },
  {
   "cell_type": "markdown",
   "metadata": {},
   "source": [
    "# Enter the reported votes\n",
    "\n",
    "Candidates are stored in a data structure called a dictionary. Enter the candidate name and the votes in each stratum, [votes in CVR stratum, votes in no-CVR stratum], in the cell below. The following cell will calculate the vote totals, margins, winners, and losers."
   ]
  },
  {
   "cell_type": "code",
   "execution_count": 5,
   "metadata": {
    "collapsed": true
   },
   "outputs": [],
   "source": [
    "# input number of winners\n",
    "# input names as well as reported votes in each stratum\n",
    "\n",
    "# candidates are a dict with name, [votes in CVR stratum, votes in no-CVR stratum]\n",
    "candidates = { \"candidate 3\": [30000, 500],\n",
    "               \"candidate 2\": [50000, 1000],\n",
    "               \"candidate 1\": [10000, 500],\n",
    "               \"candidate 4\": [500, 10]}\n",
    "\n",
    "# Run validity check on the input vote totals\n",
    "check_valid_vote_counts(candidates, stratum_sizes)"
   ]
  },
  {
   "cell_type": "code",
   "execution_count": 6,
   "metadata": {},
   "outputs": [],
   "source": [
    "# compute reported winners, losers, and pairwise margins. Nothing should be printed.\n",
    "(candidates, margins, winners, losers) = find_winners_losers(candidates, num_winners)\n",
    "  \n",
    "# Check that overstatement rates are compatible with the reported results\n",
    "check_overvote_rates(margins=margins, total_votes=sum(stratum_sizes), \n",
    "                     o1_rate=o1_rate, o2_rate=o2_rate)"
   ]
  },
  {
   "cell_type": "code",
   "execution_count": 7,
   "metadata": {},
   "outputs": [
    {
     "name": "stdout",
     "output_type": "stream",
     "text": [
      "\n",
      "Total reported votes:\n",
      "\t\t\tCVR\tno-CVR\ttotal\n",
      "\t candidate 2 : 50000 \t 1000 \t 51000\n",
      "\t candidate 3 : 30000 \t 500 \t 30500\n",
      "\t candidate 1 : 10000 \t 500 \t 10500\n",
      "\t candidate 4 : 500 \t 10 \t 510\n",
      "\n",
      "\t total votes:\t 90500 \t 2010 \t 92510\n",
      "\n",
      "\t non-votes:\t 9500 \t 2990 \t 12490\n",
      "\n",
      "Reported winners:\n",
      "\t candidate 2\n",
      "\t candidate 3\n",
      "\n",
      "Reported losers:\n",
      "\t candidate 1\n",
      "\t candidate 4\n",
      "\n",
      "\n",
      "Reported margins:\n",
      "\t candidate 2 beat candidate 4 by 50490 votes\n",
      "\t candidate 2 beat candidate 1 by 40500 votes\n",
      "\t candidate 3 beat candidate 4 by 29990 votes\n",
      "\t candidate 3 beat candidate 1 by 20000 votes\n",
      "\n",
      "Smallest reported margin: 20000 \n",
      "Reported diluted margin: 0.19047619047619047\n"
     ]
    }
   ],
   "source": [
    "# print reported winners, losers, and pairwise margins\n",
    "print_reported_votes(candidates, winners, losers, margins, stratum_sizes,\\\n",
    "                     print_alphabetical=False)"
   ]
  },
  {
   "cell_type": "markdown",
   "metadata": {},
   "source": [
    "# Initial sample size estimates.\n",
    "\n",
    "The initial sample size tool helps you anticipate the number of randomly selected ballots that might need to be inspected to attain a given limit on the risk, under the assumption that the reported percentages for each candidate are correct. \n",
    "\n",
    "It is completely legitimate to sample one at a time and rerun the SUITE calculations, but this form can help auditors anticipate how many ballots the audit is likely to require and to retrieve ballots more efficiently.\n",
    "\n",
    "This code will estimate the sample size needed to attain the desired risk limit in an audit of the contest between each pair of winning and losing candidates. The overall sample size will be allocated to the CVR stratum in `n_ratio` proportion and to the no-CVR stratum in `1-n_ratio` proportion. The sample size estimates for each pair will be printed below. The expected sample size needed for the audit is the _maximum_ of the sample sizes for each winner, loser pair: the sample must be large enough to confirm the closest margin.\n",
    "\n",
    "Taking a larger initial sample can avoid needing to expand the sample later, depending on the rate of ballots for each candidate in the sample. Avoiding \"escalation\" can make the audit less complicated.\n"
   ]
  },
  {
   "cell_type": "code",
   "execution_count": 8,
   "metadata": {},
   "outputs": [],
   "source": [
    "# Calculate expected sample size across (winner, loser) pairs\n",
    "\n",
    "sample_sizes = {}\n",
    "\n",
    "for k in product(winners, losers):\n",
    "    sample_sizes[k] = estimate_n(N_w1 = candidates[k[0]][0],\\\n",
    "                                 N_w2 = candidates[k[0]][1],\\\n",
    "                                 N_l1 = candidates[k[1]][0],\\\n",
    "                                 N_l2 = candidates[k[1]][1],\\\n",
    "                                 N1 = stratum_sizes[0],\\\n",
    "                                 N2 = stratum_sizes[1],\\\n",
    "                                 o1_rate = o1_rate,\\\n",
    "                                 o2_rate = o2_rate,\\\n",
    "                                 u1_rate = u1_rate,\\\n",
    "                                 u2_rate = u2_rate,\\\n",
    "                                 n_ratio = n_ratio,\\\n",
    "                                 risk_limit = risk_limit,\\\n",
    "                                 gamma = gamma,\\\n",
    "                                 stepsize = lambda_step,\\\n",
    "                                 min_n = 5,\\\n",
    "                                 risk_limit_tol = 0.8)"
   ]
  },
  {
   "cell_type": "code",
   "execution_count": 9,
   "metadata": {
    "scrolled": true
   },
   "outputs": [
    {
     "name": "stdout",
     "output_type": "stream",
     "text": [
      "estimated sample sizes for each contest:\n",
      "\n",
      "{('candidate 2', 'candidate 1'): (27, 1),\n",
      " ('candidate 2', 'candidate 4'): (21, 1),\n",
      " ('candidate 3', 'candidate 1'): (58, 2),\n",
      " ('candidate 3', 'candidate 4'): (36, 1)}\n",
      "\n",
      "\n",
      "expected minimum sample size needed to confirm all pairs: 60\n"
     ]
    }
   ],
   "source": [
    "sample_size = np.amax([v[0]+v[1] for v in sample_sizes.values()])\n",
    "\n",
    "print(\"estimated sample sizes for each contest:\\n\")\n",
    "pprint.pprint(sample_sizes)\n",
    "print('\\n\\nexpected minimum sample size needed to confirm all pairs:', sample_size)"
   ]
  },
  {
   "cell_type": "markdown",
   "metadata": {},
   "source": [
    "# Random sampling"
   ]
  },
  {
   "cell_type": "markdown",
   "metadata": {},
   "source": [
    "The next tool helps generate pseudo-random samples of ballots in each stratum. Further below, there is a form to help find the individual, randomly selected ballots among the batches in which ballots are stored.\n",
    "\n",
    "The first cell below initializes the SHA-256 cryptographically secure pseudo-random number generator. Details on why you might want to use this pseudo-random number generator instead of the Python default can be found in [Stark and Ottoboni (2018)](https://arxiv.org/abs/1810.10985). \n",
    "\n",
    "Input your desired sample sizes in the second cell below. Input the number of ballots you want in the sample. The default values that are pre-filled are taken from the initial sample size estimates above. \n",
    "\n",
    "The third cell should not be modified. It draws the samples from each stratum, using sampling _with_ replacement for the CVR stratum and sampling _without_ replacement for the no-CVR stratum. This means that some ballots in the CVR stratum could be sampled more than once.\n",
    "\n",
    "\n",
    "**NOTE:**\n",
    "If this section is giving errors, you probably need to update your version of `cryptorandom`.\n",
    "\n",
    "```\n",
    "pip install [--update] cryptorandom\n",
    "```"
   ]
  },
  {
   "cell_type": "code",
   "execution_count": 10,
   "metadata": {
    "collapsed": true
   },
   "outputs": [],
   "source": [
    "# initialize the PRNG\n",
    "prng = SHA256(seed)   "
   ]
  },
  {
   "cell_type": "code",
   "execution_count": 11,
   "metadata": {
    "collapsed": true
   },
   "outputs": [],
   "source": [
    "# Input the sample sizes for each stratum. \n",
    "# Defaults to those found using the initial sample size tool above.\n",
    "n1 = math.ceil(sample_size*n_ratio)    \n",
    "n2 = sample_size-n1"
   ]
  },
  {
   "cell_type": "code",
   "execution_count": 12,
   "metadata": {
    "collapsed": true
   },
   "outputs": [],
   "source": [
    "# CVR stratum initial sample size, sampled with replacement\n",
    "sample1 = prng.randint(1, stratum_sizes[0]+1, size=n1)\n",
    "\n",
    "# No-CVR ballots are sampled without replacement\n",
    "sample2 = random_sample(stratum_sizes[1], size=n2, replace=False, prng=prng)"
   ]
  },
  {
   "cell_type": "markdown",
   "metadata": {},
   "source": [
    "### CVR stratum sample"
   ]
  },
  {
   "cell_type": "code",
   "execution_count": 13,
   "metadata": {},
   "outputs": [
    {
     "name": "stdout",
     "output_type": "stream",
     "text": [
      "CVR stratum sample:\n",
      " [76116 45424 33501 45326  2081 56264 25122 16602 79743 61814 57922 41676\n",
      " 95332 38891 17757 64352 84257 47365 10908 97791 77941 73573 51855 88527\n",
      " 35549 20934 61419 70683 70220 45067 67903 94304 20823 50570 88735  9973\n",
      " 44578 34320  8262 32532 85102 87511 63375 96612 52917 91127 84152 74227\n",
      " 76674 76640 62444 83868  3974 81503 82205 41161 28136 12244]\n"
     ]
    }
   ],
   "source": [
    "print(\"CVR stratum sample:\\n\", sample1)"
   ]
  },
  {
   "cell_type": "code",
   "execution_count": 14,
   "metadata": {
    "scrolled": true
   },
   "outputs": [
    {
     "name": "stdout",
     "output_type": "stream",
     "text": [
      "CVR stratum sample, sorted:\n",
      " [ 2081  3974  8262  9973 10908 12244 16602 17757 20823 20934 25122 28136\n",
      " 32532 33501 34320 35549 38891 41161 41676 44578 45067 45326 45424 47365\n",
      " 50570 51855 52917 56264 57922 61419 61814 62444 63375 64352 67903 70220\n",
      " 70683 73573 74227 76116 76640 76674 77941 79743 81503 82205 83868 84152\n",
      " 84257 85102 87511 88527 88735 91127 94304 95332 96612 97791]\n"
     ]
    }
   ],
   "source": [
    "print(\"CVR stratum sample, sorted:\\n\", np.sort(sample1))"
   ]
  },
  {
   "cell_type": "code",
   "execution_count": 15,
   "metadata": {},
   "outputs": [
    {
     "name": "stdout",
     "output_type": "stream",
     "text": [
      "CVR stratum sample, sorted, duplicates removed:\n",
      " [ 2081  3974  8262  9973 10908 12244 16602 17757 20823 20934 25122 28136\n",
      " 32532 33501 34320 35549 38891 41161 41676 44578 45067 45326 45424 47365\n",
      " 50570 51855 52917 56264 57922 61419 61814 62444 63375 64352 67903 70220\n",
      " 70683 73573 74227 76116 76640 76674 77941 79743 81503 82205 83868 84152\n",
      " 84257 85102 87511 88527 88735 91127 94304 95332 96612 97791]\n"
     ]
    }
   ],
   "source": [
    "print(\"CVR stratum sample, sorted, duplicates removed:\\n\", np.unique(np.sort(sample1)))"
   ]
  },
  {
   "cell_type": "code",
   "execution_count": 16,
   "metadata": {},
   "outputs": [
    {
     "name": "stdout",
     "output_type": "stream",
     "text": [
      "CVR stratum repeated ballots:\n",
      " []\n"
     ]
    }
   ],
   "source": [
    "m = np.zeros_like(sample1, dtype=bool)\n",
    "m[np.unique(sample1, return_index=True)[1]] = True\n",
    "print(\"CVR stratum repeated ballots:\\n\", sample1[~m])"
   ]
  },
  {
   "cell_type": "markdown",
   "metadata": {},
   "source": [
    "### No-CVR sample"
   ]
  },
  {
   "cell_type": "code",
   "execution_count": 17,
   "metadata": {},
   "outputs": [
    {
     "name": "stdout",
     "output_type": "stream",
     "text": [
      "No-CVR stratum sample:\n",
      " [1132 4783]\n"
     ]
    }
   ],
   "source": [
    "print(\"No-CVR stratum sample:\\n\", sample2)"
   ]
  },
  {
   "cell_type": "code",
   "execution_count": 18,
   "metadata": {
    "scrolled": true
   },
   "outputs": [
    {
     "name": "stdout",
     "output_type": "stream",
     "text": [
      "No-CVR stratum sample, sorted:\n",
      " [1132 4783]\n"
     ]
    }
   ],
   "source": [
    "print(\"No-CVR stratum sample, sorted:\\n\", np.sort(sample2))"
   ]
  },
  {
   "cell_type": "markdown",
   "metadata": {},
   "source": [
    "# Find ballots using ballot manifest\n",
    "\n",
    "Generally, ballots will be stored in batches, for instance, separated by precinct and mode of voting. To make it easier to find individual ballots, it helps to have a ballot manifest that describes how the ballots are stored. \n",
    "\n",
    "\n",
    "Batch label\t| ballots\n",
    "--- |  ---\n",
    "Polling place precinct 1  |\t130\n",
    "Vote by mail precinct 1\t  | 172\n",
    "Polling place precinct 2  | 112\n",
    "Vote by mail precinct 2\t  | 201\n",
    "Polling place precinct 3  | 197\n",
    "Vote by mail precinct 3   | 188\n",
    "\n",
    "\n",
    "If ballot 500 is selected for audit, which ballot is that? If we take the listing of batches in the order given by the manifest, and we require that within each batch, the ballots are in an order that does not change during the audit, then the 500th ballot is the 86th ballot among the vote by mail ballots for precinct 2: The first three batches have a total of 130+172+112 = 414 ballots. The first ballot in the fourth batch is ballot 415. Ballot 500 is the 86th ballot in the fourth batch. The ballot look-up tool transforms a list of ballot numbers and a ballot manifest into a list of ballots in each batch.\n",
    "\n",
    "There must be separate ballot manifests for ballots in the CVR stratum and for ballots in the no-CVR stratum. The manifests should be input as a Python structure called a _list_. Lists are stored in square brackets, `[` `]`, and items in the list are separated by commas.\n",
    "\n",
    "Each ballot manifest entry must have a batch label, a comma, and one of the following:\n",
    "  1. the number of ballots in the batch \n",
    "  1. a range specified with a colon (e.g., 131:302), or \n",
    "  1. a list of ballot identifiers within parentheses, separated by spaces (e.g., (996 998 1000)).\n",
    "\n",
    "Each line should have exactly one comma; do **not** include commas in the batch label.\n",
    "\n",
    "The total number of ballots in the manifest must equal the number cast in the contest that is to be audited using the sample."
   ]
  },
  {
   "cell_type": "code",
   "execution_count": 19,
   "metadata": {
    "collapsed": true
   },
   "outputs": [],
   "source": [
    "# Suppose the ballot manifests are manually entered for now.\n",
    "\n",
    "ballot_manifest_cvr = ['1, 10000', \n",
    "                       '2, 10001:99998', \n",
    "                       '3, (205 210)'\n",
    "                      ]\n",
    "ballot_manifest_poll = ['1, 1000', \n",
    "                        '2, 1001:4998', \n",
    "                        '3, (205 210)'\n",
    "                       ]"
   ]
  },
  {
   "cell_type": "code",
   "execution_count": 20,
   "metadata": {
    "collapsed": true
   },
   "outputs": [],
   "source": [
    "# step 1: expand the ballot manifest into a dict. keys are batches, values are ballot numbers.\n",
    "cvr_manifest_parsed = parse_manifest(ballot_manifest_cvr)\n",
    "poll_manifest_parsed = parse_manifest(ballot_manifest_poll)"
   ]
  },
  {
   "cell_type": "code",
   "execution_count": 21,
   "metadata": {},
   "outputs": [],
   "source": [
    "# count ballots listed in the manifests\n",
    "listed_cvr = np.sum([len(v) for v in cvr_manifest_parsed.values()])\n",
    "listed_poll = np.sum([len(v) for v in poll_manifest_parsed.values()])\n",
    "\n",
    "# test that manifest matches reported ballot totals\n",
    "\n",
    "assert listed_cvr == stratum_sizes[0]\n",
    "assert listed_poll == stratum_sizes[1]"
   ]
  },
  {
   "cell_type": "code",
   "execution_count": 22,
   "metadata": {},
   "outputs": [],
   "source": [
    "# step 2: give ballots unique IDs\n",
    "\n",
    "unique_cvr_manifest = unique_manifest(cvr_manifest_parsed)\n",
    "unique_poll_manifest = unique_manifest(poll_manifest_parsed)"
   ]
  },
  {
   "cell_type": "markdown",
   "metadata": {},
   "source": [
    "**KELLIE TO DOS:** \n",
    "* for the CVR stratum, include ballot multiplicity\n",
    "* make ballot manifest syntax consistent with the spec"
   ]
  },
  {
   "cell_type": "code",
   "execution_count": 23,
   "metadata": {},
   "outputs": [
    {
     "name": "stdout",
     "output_type": "stream",
     "text": [
      "CVR Stratum\n"
     ]
    },
    {
     "data": {
      "text/html": [
       "<table><tr><td>sampled ballot</td><td>batch label</td><td>which ballot in batch</td></tr><tr><td>2081</td><td>1</td><td>2081</td></tr><tr><td>3974</td><td>1</td><td>3974</td></tr><tr><td>8262</td><td>1</td><td>8262</td></tr><tr><td>9973</td><td>1</td><td>9973</td></tr><tr><td>10908</td><td>2</td><td>908</td></tr><tr><td>12244</td><td>2</td><td>2244</td></tr><tr><td>16602</td><td>2</td><td>6602</td></tr><tr><td>17757</td><td>2</td><td>7757</td></tr><tr><td>20823</td><td>2</td><td>10823</td></tr><tr><td>20934</td><td>2</td><td>10934</td></tr><tr><td>25122</td><td>2</td><td>15122</td></tr><tr><td>28136</td><td>2</td><td>18136</td></tr><tr><td>32532</td><td>2</td><td>22532</td></tr><tr><td>33501</td><td>2</td><td>23501</td></tr><tr><td>34320</td><td>2</td><td>24320</td></tr><tr><td>35549</td><td>2</td><td>25549</td></tr><tr><td>38891</td><td>2</td><td>28891</td></tr><tr><td>41161</td><td>2</td><td>31161</td></tr><tr><td>41676</td><td>2</td><td>31676</td></tr><tr><td>44578</td><td>2</td><td>34578</td></tr><tr><td>45067</td><td>2</td><td>35067</td></tr><tr><td>45326</td><td>2</td><td>35326</td></tr><tr><td>45424</td><td>2</td><td>35424</td></tr><tr><td>47365</td><td>2</td><td>37365</td></tr><tr><td>50570</td><td>2</td><td>40570</td></tr><tr><td>51855</td><td>2</td><td>41855</td></tr><tr><td>52917</td><td>2</td><td>42917</td></tr><tr><td>56264</td><td>2</td><td>46264</td></tr><tr><td>57922</td><td>2</td><td>47922</td></tr><tr><td>61419</td><td>2</td><td>51419</td></tr><tr><td>61814</td><td>2</td><td>51814</td></tr><tr><td>62444</td><td>2</td><td>52444</td></tr><tr><td>63375</td><td>2</td><td>53375</td></tr><tr><td>64352</td><td>2</td><td>54352</td></tr><tr><td>67903</td><td>2</td><td>57903</td></tr><tr><td>70220</td><td>2</td><td>60220</td></tr><tr><td>70683</td><td>2</td><td>60683</td></tr><tr><td>73573</td><td>2</td><td>63573</td></tr><tr><td>74227</td><td>2</td><td>64227</td></tr><tr><td>76116</td><td>2</td><td>66116</td></tr><tr><td>76640</td><td>2</td><td>66640</td></tr><tr><td>76674</td><td>2</td><td>66674</td></tr><tr><td>77941</td><td>2</td><td>67941</td></tr><tr><td>79743</td><td>2</td><td>69743</td></tr><tr><td>81503</td><td>2</td><td>71503</td></tr><tr><td>82205</td><td>2</td><td>72205</td></tr><tr><td>83868</td><td>2</td><td>73868</td></tr><tr><td>84152</td><td>2</td><td>74152</td></tr><tr><td>84257</td><td>2</td><td>74257</td></tr><tr><td>85102</td><td>2</td><td>75102</td></tr><tr><td>87511</td><td>2</td><td>77511</td></tr><tr><td>88527</td><td>2</td><td>78527</td></tr><tr><td>88735</td><td>2</td><td>78735</td></tr><tr><td>91127</td><td>2</td><td>81127</td></tr><tr><td>94304</td><td>2</td><td>84304</td></tr><tr><td>95332</td><td>2</td><td>85332</td></tr><tr><td>96612</td><td>2</td><td>86612</td></tr><tr><td>97791</td><td>2</td><td>87791</td></tr></table>"
      ],
      "text/plain": [
       "<IPython.core.display.HTML object>"
      ]
     },
     "metadata": {},
     "output_type": "display_data"
    }
   ],
   "source": [
    "# step 3: look up sample values\n",
    "\n",
    "print(\"CVR Stratum\")\n",
    "\n",
    "cvr_sample = []\n",
    "for s in sample1:\n",
    "    original_ballot_label, batch_label, which_ballot = find_ballot(s, \\\n",
    "                                                                   unique_cvr_manifest, \\\n",
    "                                                                   cvr_manifest_parsed)\n",
    "    cvr_sample.append([s, batch_label, which_ballot])\n",
    "\n",
    "cvr_sample.sort(key=lambda x: x[2]) # Sort second on order within batches\n",
    "cvr_sample.sort(key=lambda x: x[1]) # Sort first based on batch label\n",
    "cvr_sample.insert(0,[\"sampled ballot\", \"batch label\", \"which ballot in batch\"])\n",
    "\n",
    "display(HTML(\n",
    "    '<table><tr>{}</tr></table>'.format(\n",
    "        '</tr><tr>'.join(\n",
    "            '<td>{}</td>'.format('</td><td>'.join(str(_) for _ in row)) for row in cvr_sample)\n",
    "        )\n",
    " ))"
   ]
  },
  {
   "cell_type": "code",
   "execution_count": 24,
   "metadata": {},
   "outputs": [
    {
     "name": "stdout",
     "output_type": "stream",
     "text": [
      "Polling Stratum\n"
     ]
    },
    {
     "data": {
      "text/html": [
       "<table><tr><td>sampled ballot</td><td>batch label</td><td>which ballot in batch</td></tr><tr><td>1132</td><td>2</td><td>132</td></tr><tr><td>4783</td><td>2</td><td>3783</td></tr></table>"
      ],
      "text/plain": [
       "<IPython.core.display.HTML object>"
      ]
     },
     "metadata": {},
     "output_type": "display_data"
    }
   ],
   "source": [
    "print(\"Polling Stratum\")\n",
    "\n",
    "nocvr_sample = []\n",
    "for s in sample2:\n",
    "    original_ballot_label, batch_label, which_ballot = find_ballot(s, \\\n",
    "                                                                   unique_poll_manifest, \\\n",
    "                                                                   poll_manifest_parsed)\n",
    "    nocvr_sample.append([s, batch_label, which_ballot])\n",
    "\n",
    "nocvr_sample.sort(key=lambda x: x[2]) # Sort second on order within batches\n",
    "nocvr_sample.sort(key=lambda x: x[1]) # Sort first based on batch label\n",
    "nocvr_sample.insert(0,[\"sampled ballot\", \"batch label\", \"which ballot in batch\"])\n",
    "\n",
    "display(HTML(\n",
    "    '<table><tr>{}</tr></table>'.format(\n",
    "        '</tr><tr>'.join(\n",
    "            '<td>{}</td>'.format('</td><td>'.join(str(_) for _ in row)) for row in nocvr_sample)\n",
    "        )\n",
    " ))"
   ]
  },
  {
   "cell_type": "markdown",
   "metadata": {},
   "source": [
    "# Enter the sample data"
   ]
  },
  {
   "cell_type": "markdown",
   "metadata": {},
   "source": [
    "## Sample statistics for the CVR stratum (stratum 1)"
   ]
  },
  {
   "cell_type": "code",
   "execution_count": 25,
   "metadata": {},
   "outputs": [
    {
     "name": "stdout",
     "output_type": "stream",
     "text": [
      "The sample size in the CVR stratum was 58\n"
     ]
    }
   ],
   "source": [
    "print(\"The sample size in the CVR stratum was\", n1)"
   ]
  },
  {
   "cell_type": "code",
   "execution_count": 26,
   "metadata": {},
   "outputs": [
    {
     "data": {
      "text/plain": [
       "(7, 0, 0, 0)"
      ]
     },
     "metadata": {},
     "output_type": "display_data"
    }
   ],
   "source": [
    "# Number of observed...\n",
    "\n",
    "def cvr_audit_inputs(o1, o2, u1, u2):\n",
    "    return (o1, o2, u1, u2)\n",
    "\n",
    "cvr_stats = interactive(cvr_audit_inputs,\n",
    "                             o1 = widgets.IntSlider(min=0,max=n1,value=0),\n",
    "                             u1 = widgets.IntSlider(min=0,max=n1,value=0),\n",
    "                             o2 = widgets.IntSlider(min=0,max=n1,value=0),\n",
    "                             u2 = widgets.IntSlider(min=0,max=n1,value=0))\n",
    "display(cvr_stats)"
   ]
  },
  {
   "cell_type": "code",
   "execution_count": 27,
   "metadata": {},
   "outputs": [],
   "source": [
    "(o1, o2, u1, u2) = [cvr_stats.children[i].value for i in range(4)]"
   ]
  },
  {
   "cell_type": "markdown",
   "metadata": {},
   "source": [
    "## Sample statistics for the no-CVR stratum (stratum 2)"
   ]
  },
  {
   "cell_type": "code",
   "execution_count": 28,
   "metadata": {},
   "outputs": [
    {
     "name": "stdout",
     "output_type": "stream",
     "text": [
      "The sample size in the no-CVR stratum was 2\n"
     ]
    }
   ],
   "source": [
    "print(\"The sample size in the no-CVR stratum was\", n2)"
   ]
  },
  {
   "cell_type": "code",
   "execution_count": 29,
   "metadata": {},
   "outputs": [],
   "source": [
    "nocvr_widgets=[]\n",
    "\n",
    "# create the widgets\n",
    "for name in candidates.keys():\n",
    "    nocvr_widgets.append(widgets.IntSlider(value=0,min=0,max=n2,description=name))\n",
    "\n",
    "# It'd be great to constrain their sum to be <= n2\n",
    "\n",
    "#for widget in nocvr_widgets:\n",
    "#    widget.observe(lambda change:myfct(change,nocvr_widgets),names='value',type='change')\n",
    "\n",
    "# group the widgets into a FlexBox\n",
    "nocvr_audit_inputs = widgets.VBox(children=nocvr_widgets)\n",
    "\n",
    "# display the widgets\n",
    "display(nocvr_audit_inputs)"
   ]
  },
  {
   "cell_type": "code",
   "execution_count": 30,
   "metadata": {},
   "outputs": [
    {
     "name": "stdout",
     "output_type": "stream",
     "text": [
      "{'candidate 1': 0, 'candidate 2': 1, 'candidate 3': 1, 'candidate 4': 0}\n"
     ]
    }
   ],
   "source": [
    "# no-CVR sample is stored in a dict with name, votes in the sample\n",
    "\n",
    "observed_poll = {}\n",
    "for widget in nocvr_widgets:\n",
    "    observed_poll[widget.description] = widget.value\n",
    "\n",
    "assert np.sum(list(observed_poll.values())) <= n2, \"Too many ballots input\"\n",
    "pprint.pprint(observed_poll)\n"
   ]
  },
  {
   "cell_type": "markdown",
   "metadata": {},
   "source": [
    "# What's the risk for this sample?\n",
    "\n",
    "The audit looks at every (winner, loser) pair in each contest. Auditing continues until there is strong evidence that every winner in a contest got more votes than every loser in the contest. It does this by considering (winner, loser) pairs. The SUITE risk for every pair will appear beneath the cell below after it is run. The audit continues until all the numbers are not larger than the risk limit. E.g., if the risk limit is 10%, the audit stops when the numbers in the table are all less than 0.1."
   ]
  },
  {
   "cell_type": "code",
   "execution_count": 31,
   "metadata": {},
   "outputs": [
    {
     "name": "stdout",
     "output_type": "stream",
     "text": [
      "{('candidate 2', 'candidate 1'): 0.003279196218257008,\n",
      " ('candidate 2', 'candidate 4'): 0.000135877826288211,\n",
      " ('candidate 3', 'candidate 1'): 0.7477361733633101,\n",
      " ('candidate 3', 'candidate 4'): 0.08296062136539395}\n"
     ]
    }
   ],
   "source": [
    "# Find audit p-values across (winner, loser) pairs\n",
    "\n",
    "audit_pvalues = audit_contest(candidates, winners, losers, stratum_sizes, \\\n",
    "                  n1, n2, o1, o2, u1, u2, observed_poll, \\\n",
    "                  risk_limit=risk_limit, gamma=gamma, stepsize=lambda_step)\n",
    "pprint.pprint(audit_pvalues)"
   ]
  },
  {
   "cell_type": "code",
   "execution_count": 32,
   "metadata": {},
   "outputs": [
    {
     "name": "stdout",
     "output_type": "stream",
     "text": [
      "Pairs not yet confirmed:\n",
      " [('candidate 3', 'candidate 4'), ('candidate 3', 'candidate 1')]\n"
     ]
    }
   ],
   "source": [
    "# Track contests not yet confirmed\n",
    "\n",
    "contests_not_yet_confirmed = [i[0] for i in audit_pvalues.items() \\\n",
    "                              if i[1]>risk_limit]\n",
    "print(\"Pairs not yet confirmed:\\n\", contests_not_yet_confirmed)\n",
    "\n",
    "winners_not_yet_confirmed = list(set(list(map(lambda x: x[0], contests_not_yet_confirmed))))\n",
    "losers_not_yet_confirmed = list(set(list(map(lambda x: x[1], contests_not_yet_confirmed))))"
   ]
  },
  {
   "cell_type": "code",
   "execution_count": 35,
   "metadata": {},
   "outputs": [
    {
     "ename": "TypeError",
     "evalue": "write_audit_results() takes 11 positional arguments but 12 were given",
     "output_type": "error",
     "traceback": [
      "\u001b[0;31m---------------------------------------------------------------------------\u001b[0m",
      "\u001b[0;31mTypeError\u001b[0m                                 Traceback (most recent call last)",
      "\u001b[0;32m<ipython-input-35-a0fc8176a449>\u001b[0m in \u001b[0;36m<module>\u001b[0;34m()\u001b[0m\n\u001b[1;32m      2\u001b[0m \u001b[0;34m\u001b[0m\u001b[0m\n\u001b[1;32m      3\u001b[0m \u001b[0;34m\u001b[0m\u001b[0m\n\u001b[0;32m----> 4\u001b[0;31m \u001b[0mwrite_audit_results\u001b[0m\u001b[0;34m(\u001b[0m\u001b[0;34m\"audit_results.json\"\u001b[0m\u001b[0;34m,\u001b[0m                         \u001b[0mn1\u001b[0m\u001b[0;34m,\u001b[0m \u001b[0mn2\u001b[0m\u001b[0;34m,\u001b[0m \u001b[0msample1\u001b[0m\u001b[0;34m,\u001b[0m \u001b[0msample2\u001b[0m\u001b[0;34m,\u001b[0m                         \u001b[0mo1\u001b[0m\u001b[0;34m,\u001b[0m \u001b[0mo2\u001b[0m\u001b[0;34m,\u001b[0m \u001b[0mu1\u001b[0m\u001b[0;34m,\u001b[0m \u001b[0mu2\u001b[0m\u001b[0;34m,\u001b[0m \u001b[0mobserved_poll\u001b[0m\u001b[0;34m,\u001b[0m                         \u001b[0maudit_pvalues\u001b[0m\u001b[0;34m,\u001b[0m \u001b[0mprng\u001b[0m\u001b[0;34m.\u001b[0m\u001b[0mgetstate\u001b[0m\u001b[0;34m(\u001b[0m\u001b[0;34m)\u001b[0m\u001b[0;34m)\u001b[0m\u001b[0;34m\u001b[0m\u001b[0m\n\u001b[0m",
      "\u001b[0;31mTypeError\u001b[0m: write_audit_results() takes 11 positional arguments but 12 were given"
     ]
    }
   ],
   "source": [
    "# Save everything to file\n",
    "\n",
    "\n",
    "write_audit_results(\"audit_results.json\", \\\n",
    "                        n1, n2, sample1, sample2, \\\n",
    "                        o1, o2, u1, u2, observed_poll, \\\n",
    "                        audit_pvalues, prng.getstate())"
   ]
  },
  {
   "cell_type": "markdown",
   "metadata": {},
   "source": [
    "# Escalation guidance: how many more ballots should be drawn?\n",
    "\n",
    "This tool estimates how many more ballots should be examined to confirm any remaining contests. The enlarged sample size is based on the following:\n",
    "* ballots that have already been sampled\n",
    "* assumption that we will continue to see overstatements and understatements at the same rate that they've been observed in the sample so far\n",
    "* assumption that vote proportions in the ballot-polling stratum will reflect the reported proportions\n",
    "\n",
    "Given these additional numbers, return to the sampling tool and draw additional ballots, find them with the ballot manifest tool, update the observed sample values, and rerun the SUITE risk calculations."
   ]
  },
  {
   "cell_type": "code",
   "execution_count": 36,
   "metadata": {},
   "outputs": [],
   "source": [
    "sample_sizes_new = {}\n",
    "\n",
    "# Add a reminder note about the candidate dict structure.\n",
    "\n",
    "for k in contests_not_yet_confirmed:\n",
    "    sample_sizes_new[k] = estimate_escalation_n(\\\n",
    "                                 N_w1 = candidates[k[0]][0],\\\n",
    "                                 N_w2 = candidates[k[0]][1],\\\n",
    "                                 N_l1 = candidates[k[1]][0],\\\n",
    "                                 N_l2 = candidates[k[1]][1],\\\n",
    "                                 N1 = stratum_sizes[0],\\\n",
    "                                 N2 = stratum_sizes[1],\\\n",
    "                                 n1 = n1,\\\n",
    "                                 n2 = n2,\\\n",
    "                                 o1_obs = o1,\\\n",
    "                                 o2_obs = o2,\\\n",
    "                                 u1_obs = u1,\\\n",
    "                                 u2_obs = u2,\\\n",
    "                                 n2l_obs = observed_poll[k[1]],\\\n",
    "                                 n2w_obs = observed_poll[k[0]],\\\n",
    "                                 n_ratio = n_ratio,\\\n",
    "                                 risk_limit = risk_limit,\\\n",
    "                                 gamma = gamma,\\\n",
    "                                 stepsize = lambda_step)"
   ]
  },
  {
   "cell_type": "code",
   "execution_count": 37,
   "metadata": {},
   "outputs": [
    {
     "name": "stdout",
     "output_type": "stream",
     "text": [
      "estimated sample sizes for each contest:\n",
      "\n",
      "{('candidate 3', 'candidate 1'): (245, 12),\n",
      " ('candidate 3', 'candidate 4'): (66, 3)}\n",
      "\n",
      "\n",
      "expected minimum sample size needed to confirm remaining pairs: 257\n",
      "\n",
      "Ballots to draw in the CVR stratum: 187\n",
      "Ballots to draw in the no-CVR stratum: 10\n"
     ]
    }
   ],
   "source": [
    "sample_size_new = np.amax([v[0]+v[1] for v in sample_sizes_new.values()])\n",
    "n1_new = np.amax([v[0] for v in sample_sizes_new.values()])\n",
    "n2_new = np.amax([v[1] for v in sample_sizes_new.values()])\n",
    "\n",
    "\n",
    "print(\"estimated sample sizes for each contest:\\n\")\n",
    "pprint.pprint(sample_sizes_new)\n",
    "print('\\n\\nexpected minimum sample size needed to confirm remaining pairs:', sample_size_new)\n",
    "print(\"\\nBallots to draw in the CVR stratum:\", n1_new - n1)\n",
    "print(\"Ballots to draw in the no-CVR stratum:\", n2_new - n2)"
   ]
  },
  {
   "cell_type": "markdown",
   "metadata": {},
   "source": [
    "# Draw additional ballots"
   ]
  },
  {
   "cell_type": "code",
   "execution_count": 38,
   "metadata": {},
   "outputs": [
    {
     "name": "stdout",
     "output_type": "stream",
     "text": [
      "SHA256 PRNG with seed 12345678901234567890 and counter 6\n"
     ]
    }
   ],
   "source": [
    "# print the current state of the PRNG after drawing the initial samples\n",
    "print(prng) "
   ]
  },
  {
   "cell_type": "code",
   "execution_count": 39,
   "metadata": {},
   "outputs": [],
   "source": [
    "# CVR stratum sample size, sampled with replacement\n",
    "sample1 = prng.randint(1, stratum_sizes[0]+1, size=n1_new - n1)\n",
    "\n",
    "# No-CVR ballots are sampled without replacement\n",
    "remaining_ballots = [i for i in range(stratum_sizes[1]) if i not in sample2]\n",
    "sample2 = random_sample(remaining_ballots, size=n2_new - n2, replace=False, prng=prng)"
   ]
  },
  {
   "cell_type": "markdown",
   "metadata": {},
   "source": [
    "### CVR stratum sample"
   ]
  },
  {
   "cell_type": "code",
   "execution_count": 40,
   "metadata": {},
   "outputs": [
    {
     "name": "stdout",
     "output_type": "stream",
     "text": [
      "CVR stratum sample:\n",
      " [83928 90303 18706 96755  8169 66394 14332 64276 11412 28525 20659 77108\n",
      " 47727 14036 87337 61651 38137 75611 30829  3774 96786 36842 62016 76295\n",
      " 56135 46512 75793 95450 85924 62632 61189 23759 18722 65442 73105 98679\n",
      " 53171 73007 13819 98094 18048 22260 58676 11152 40855 95333 54078 24648\n",
      " 59636 34022 66464 90011 72909 14368 44738  3813 93118 59865 23972 76708\n",
      " 99189 79750 96969 28136 73166 21226 27177 60388 50997 22260 25814 44719\n",
      " 31943 46790 15811 85818 97970 16437  5550 84978 91568 71306 74745 94655\n",
      " 95288  6142 43908 37621 93829 37421 40088 24284 80910 76537 23263 69581\n",
      " 97259 53919 93988 66512 80943 38458 22953 79340 76016 39340 93266 39525\n",
      " 79746 10229 40040 46492 74724 83456 85112 87062 92324  3125 12984 28634\n",
      "  3818  1471 25129 23315  7702 40845 33750 90169  3053 20069 67559 67186\n",
      " 40671 58701 85317 55681 46561 26732 14176  6079 39966 63757 64997 86065\n",
      " 29161 87822 44381 59581 35970 67999 30104 97610 46869 13574 12203 52587\n",
      "  4595 96254 23088 98171 10462 59431 80064 77339 34399 35691 77027 64147\n",
      " 82883 42706 20535 39348 53355 23873 40758 55669 95278 67304 52022 59907\n",
      " 14052 52674 32823 84008 64816 14449 80544]\n"
     ]
    }
   ],
   "source": [
    "print(\"CVR stratum sample:\\n\", sample1)"
   ]
  },
  {
   "cell_type": "code",
   "execution_count": 41,
   "metadata": {
    "scrolled": true
   },
   "outputs": [
    {
     "name": "stdout",
     "output_type": "stream",
     "text": [
      "CVR stratum sample, sorted:\n",
      " [ 1471  3053  3125  3774  3813  3818  4595  5550  6079  6142  7702  8169\n",
      " 10229 10462 11152 11412 12203 12984 13574 13819 14036 14052 14176 14332\n",
      " 14368 14449 15811 16437 18048 18706 18722 20069 20535 20659 21226 22260\n",
      " 22260 22953 23088 23263 23315 23759 23873 23972 24284 24648 25129 25814\n",
      " 26732 27177 28136 28525 28634 29161 30104 30829 31943 32823 33750 34022\n",
      " 34399 35691 35970 36842 37421 37621 38137 38458 39340 39348 39525 39966\n",
      " 40040 40088 40671 40758 40845 40855 42706 43908 44381 44719 44738 46492\n",
      " 46512 46561 46790 46869 47727 50997 52022 52587 52674 53171 53355 53919\n",
      " 54078 55669 55681 56135 58676 58701 59431 59581 59636 59865 59907 60388\n",
      " 61189 61651 62016 62632 63757 64147 64276 64816 64997 65442 66394 66464\n",
      " 66512 67186 67304 67559 67999 69581 71306 72909 73007 73105 73166 74724\n",
      " 74745 75611 75793 76016 76295 76537 76708 77027 77108 77339 79340 79746\n",
      " 79750 80064 80544 80910 80943 82883 83456 83928 84008 84978 85112 85317\n",
      " 85818 85924 86065 87062 87337 87822 90011 90169 90303 91568 92324 93118\n",
      " 93266 93829 93988 94655 95278 95288 95333 95450 96254 96755 96786 96969\n",
      " 97259 97610 97970 98094 98171 98679 99189]\n"
     ]
    }
   ],
   "source": [
    "print(\"CVR stratum sample, sorted:\\n\", np.sort(sample1))"
   ]
  },
  {
   "cell_type": "code",
   "execution_count": 42,
   "metadata": {},
   "outputs": [
    {
     "name": "stdout",
     "output_type": "stream",
     "text": [
      "CVR stratum sample, sorted, duplicates removed:\n",
      " [ 1471  3053  3125  3774  3813  3818  4595  5550  6079  6142  7702  8169\n",
      " 10229 10462 11152 11412 12203 12984 13574 13819 14036 14052 14176 14332\n",
      " 14368 14449 15811 16437 18048 18706 18722 20069 20535 20659 21226 22260\n",
      " 22953 23088 23263 23315 23759 23873 23972 24284 24648 25129 25814 26732\n",
      " 27177 28136 28525 28634 29161 30104 30829 31943 32823 33750 34022 34399\n",
      " 35691 35970 36842 37421 37621 38137 38458 39340 39348 39525 39966 40040\n",
      " 40088 40671 40758 40845 40855 42706 43908 44381 44719 44738 46492 46512\n",
      " 46561 46790 46869 47727 50997 52022 52587 52674 53171 53355 53919 54078\n",
      " 55669 55681 56135 58676 58701 59431 59581 59636 59865 59907 60388 61189\n",
      " 61651 62016 62632 63757 64147 64276 64816 64997 65442 66394 66464 66512\n",
      " 67186 67304 67559 67999 69581 71306 72909 73007 73105 73166 74724 74745\n",
      " 75611 75793 76016 76295 76537 76708 77027 77108 77339 79340 79746 79750\n",
      " 80064 80544 80910 80943 82883 83456 83928 84008 84978 85112 85317 85818\n",
      " 85924 86065 87062 87337 87822 90011 90169 90303 91568 92324 93118 93266\n",
      " 93829 93988 94655 95278 95288 95333 95450 96254 96755 96786 96969 97259\n",
      " 97610 97970 98094 98171 98679 99189]\n"
     ]
    }
   ],
   "source": [
    "print(\"CVR stratum sample, sorted, duplicates removed:\\n\", np.unique(np.sort(sample1)))"
   ]
  },
  {
   "cell_type": "code",
   "execution_count": 43,
   "metadata": {},
   "outputs": [
    {
     "name": "stdout",
     "output_type": "stream",
     "text": [
      "CVR stratum repeated ballots:\n",
      " [22260]\n"
     ]
    }
   ],
   "source": [
    "m = np.zeros_like(sample1, dtype=bool)\n",
    "m[np.unique(sample1, return_index=True)[1]] = True\n",
    "print(\"CVR stratum repeated ballots:\\n\", sample1[~m])"
   ]
  },
  {
   "cell_type": "markdown",
   "metadata": {},
   "source": [
    "### No-CVR sample"
   ]
  },
  {
   "cell_type": "code",
   "execution_count": 44,
   "metadata": {},
   "outputs": [
    {
     "name": "stdout",
     "output_type": "stream",
     "text": [
      "No-CVR stratum sample:\n",
      " [2279 3073 2648 3031 3043  409 1426 4919 4564 4263]\n"
     ]
    }
   ],
   "source": [
    "print(\"No-CVR stratum sample:\\n\", sample2)"
   ]
  },
  {
   "cell_type": "code",
   "execution_count": 45,
   "metadata": {
    "scrolled": true
   },
   "outputs": [
    {
     "name": "stdout",
     "output_type": "stream",
     "text": [
      "No-CVR stratum sample, sorted:\n",
      " [ 409 1426 2279 2648 3031 3043 3073 4263 4564 4919]\n"
     ]
    }
   ],
   "source": [
    "print(\"No-CVR stratum sample, sorted:\\n\", np.sort(sample2))"
   ]
  },
  {
   "cell_type": "markdown",
   "metadata": {},
   "source": [
    "# Find ballots using ballot manifest"
   ]
  },
  {
   "cell_type": "markdown",
   "metadata": {},
   "source": [
    "**KELLIE TO DOS:** \n",
    "* for the CVR stratum, include ballot multiplicity\n",
    "* make ballot manifest syntax consistent with the spec"
   ]
  },
  {
   "cell_type": "code",
   "execution_count": 46,
   "metadata": {},
   "outputs": [
    {
     "name": "stdout",
     "output_type": "stream",
     "text": [
      "CVR Stratum\n"
     ]
    },
    {
     "data": {
      "text/html": [
       "<table><tr><td>sampled ballot</td><td>batch label</td><td>which ballot in batch</td></tr><tr><td>1471</td><td>1</td><td>1471</td></tr><tr><td>3053</td><td>1</td><td>3053</td></tr><tr><td>3125</td><td>1</td><td>3125</td></tr><tr><td>3774</td><td>1</td><td>3774</td></tr><tr><td>3813</td><td>1</td><td>3813</td></tr><tr><td>3818</td><td>1</td><td>3818</td></tr><tr><td>4595</td><td>1</td><td>4595</td></tr><tr><td>5550</td><td>1</td><td>5550</td></tr><tr><td>6079</td><td>1</td><td>6079</td></tr><tr><td>6142</td><td>1</td><td>6142</td></tr><tr><td>7702</td><td>1</td><td>7702</td></tr><tr><td>8169</td><td>1</td><td>8169</td></tr><tr><td>10229</td><td>2</td><td>229</td></tr><tr><td>10462</td><td>2</td><td>462</td></tr><tr><td>11152</td><td>2</td><td>1152</td></tr><tr><td>11412</td><td>2</td><td>1412</td></tr><tr><td>12203</td><td>2</td><td>2203</td></tr><tr><td>12984</td><td>2</td><td>2984</td></tr><tr><td>13574</td><td>2</td><td>3574</td></tr><tr><td>13819</td><td>2</td><td>3819</td></tr><tr><td>14036</td><td>2</td><td>4036</td></tr><tr><td>14052</td><td>2</td><td>4052</td></tr><tr><td>14176</td><td>2</td><td>4176</td></tr><tr><td>14332</td><td>2</td><td>4332</td></tr><tr><td>14368</td><td>2</td><td>4368</td></tr><tr><td>14449</td><td>2</td><td>4449</td></tr><tr><td>15811</td><td>2</td><td>5811</td></tr><tr><td>16437</td><td>2</td><td>6437</td></tr><tr><td>18048</td><td>2</td><td>8048</td></tr><tr><td>18706</td><td>2</td><td>8706</td></tr><tr><td>18722</td><td>2</td><td>8722</td></tr><tr><td>20069</td><td>2</td><td>10069</td></tr><tr><td>20535</td><td>2</td><td>10535</td></tr><tr><td>20659</td><td>2</td><td>10659</td></tr><tr><td>21226</td><td>2</td><td>11226</td></tr><tr><td>22260</td><td>2</td><td>12260</td></tr><tr><td>22260</td><td>2</td><td>12260</td></tr><tr><td>22953</td><td>2</td><td>12953</td></tr><tr><td>23088</td><td>2</td><td>13088</td></tr><tr><td>23263</td><td>2</td><td>13263</td></tr><tr><td>23315</td><td>2</td><td>13315</td></tr><tr><td>23759</td><td>2</td><td>13759</td></tr><tr><td>23873</td><td>2</td><td>13873</td></tr><tr><td>23972</td><td>2</td><td>13972</td></tr><tr><td>24284</td><td>2</td><td>14284</td></tr><tr><td>24648</td><td>2</td><td>14648</td></tr><tr><td>25129</td><td>2</td><td>15129</td></tr><tr><td>25814</td><td>2</td><td>15814</td></tr><tr><td>26732</td><td>2</td><td>16732</td></tr><tr><td>27177</td><td>2</td><td>17177</td></tr><tr><td>28136</td><td>2</td><td>18136</td></tr><tr><td>28525</td><td>2</td><td>18525</td></tr><tr><td>28634</td><td>2</td><td>18634</td></tr><tr><td>29161</td><td>2</td><td>19161</td></tr><tr><td>30104</td><td>2</td><td>20104</td></tr><tr><td>30829</td><td>2</td><td>20829</td></tr><tr><td>31943</td><td>2</td><td>21943</td></tr><tr><td>32823</td><td>2</td><td>22823</td></tr><tr><td>33750</td><td>2</td><td>23750</td></tr><tr><td>34022</td><td>2</td><td>24022</td></tr><tr><td>34399</td><td>2</td><td>24399</td></tr><tr><td>35691</td><td>2</td><td>25691</td></tr><tr><td>35970</td><td>2</td><td>25970</td></tr><tr><td>36842</td><td>2</td><td>26842</td></tr><tr><td>37421</td><td>2</td><td>27421</td></tr><tr><td>37621</td><td>2</td><td>27621</td></tr><tr><td>38137</td><td>2</td><td>28137</td></tr><tr><td>38458</td><td>2</td><td>28458</td></tr><tr><td>39340</td><td>2</td><td>29340</td></tr><tr><td>39348</td><td>2</td><td>29348</td></tr><tr><td>39525</td><td>2</td><td>29525</td></tr><tr><td>39966</td><td>2</td><td>29966</td></tr><tr><td>40040</td><td>2</td><td>30040</td></tr><tr><td>40088</td><td>2</td><td>30088</td></tr><tr><td>40671</td><td>2</td><td>30671</td></tr><tr><td>40758</td><td>2</td><td>30758</td></tr><tr><td>40845</td><td>2</td><td>30845</td></tr><tr><td>40855</td><td>2</td><td>30855</td></tr><tr><td>42706</td><td>2</td><td>32706</td></tr><tr><td>43908</td><td>2</td><td>33908</td></tr><tr><td>44381</td><td>2</td><td>34381</td></tr><tr><td>44719</td><td>2</td><td>34719</td></tr><tr><td>44738</td><td>2</td><td>34738</td></tr><tr><td>46492</td><td>2</td><td>36492</td></tr><tr><td>46512</td><td>2</td><td>36512</td></tr><tr><td>46561</td><td>2</td><td>36561</td></tr><tr><td>46790</td><td>2</td><td>36790</td></tr><tr><td>46869</td><td>2</td><td>36869</td></tr><tr><td>47727</td><td>2</td><td>37727</td></tr><tr><td>50997</td><td>2</td><td>40997</td></tr><tr><td>52022</td><td>2</td><td>42022</td></tr><tr><td>52587</td><td>2</td><td>42587</td></tr><tr><td>52674</td><td>2</td><td>42674</td></tr><tr><td>53171</td><td>2</td><td>43171</td></tr><tr><td>53355</td><td>2</td><td>43355</td></tr><tr><td>53919</td><td>2</td><td>43919</td></tr><tr><td>54078</td><td>2</td><td>44078</td></tr><tr><td>55669</td><td>2</td><td>45669</td></tr><tr><td>55681</td><td>2</td><td>45681</td></tr><tr><td>56135</td><td>2</td><td>46135</td></tr><tr><td>58676</td><td>2</td><td>48676</td></tr><tr><td>58701</td><td>2</td><td>48701</td></tr><tr><td>59431</td><td>2</td><td>49431</td></tr><tr><td>59581</td><td>2</td><td>49581</td></tr><tr><td>59636</td><td>2</td><td>49636</td></tr><tr><td>59865</td><td>2</td><td>49865</td></tr><tr><td>59907</td><td>2</td><td>49907</td></tr><tr><td>60388</td><td>2</td><td>50388</td></tr><tr><td>61189</td><td>2</td><td>51189</td></tr><tr><td>61651</td><td>2</td><td>51651</td></tr><tr><td>62016</td><td>2</td><td>52016</td></tr><tr><td>62632</td><td>2</td><td>52632</td></tr><tr><td>63757</td><td>2</td><td>53757</td></tr><tr><td>64147</td><td>2</td><td>54147</td></tr><tr><td>64276</td><td>2</td><td>54276</td></tr><tr><td>64816</td><td>2</td><td>54816</td></tr><tr><td>64997</td><td>2</td><td>54997</td></tr><tr><td>65442</td><td>2</td><td>55442</td></tr><tr><td>66394</td><td>2</td><td>56394</td></tr><tr><td>66464</td><td>2</td><td>56464</td></tr><tr><td>66512</td><td>2</td><td>56512</td></tr><tr><td>67186</td><td>2</td><td>57186</td></tr><tr><td>67304</td><td>2</td><td>57304</td></tr><tr><td>67559</td><td>2</td><td>57559</td></tr><tr><td>67999</td><td>2</td><td>57999</td></tr><tr><td>69581</td><td>2</td><td>59581</td></tr><tr><td>71306</td><td>2</td><td>61306</td></tr><tr><td>72909</td><td>2</td><td>62909</td></tr><tr><td>73007</td><td>2</td><td>63007</td></tr><tr><td>73105</td><td>2</td><td>63105</td></tr><tr><td>73166</td><td>2</td><td>63166</td></tr><tr><td>74724</td><td>2</td><td>64724</td></tr><tr><td>74745</td><td>2</td><td>64745</td></tr><tr><td>75611</td><td>2</td><td>65611</td></tr><tr><td>75793</td><td>2</td><td>65793</td></tr><tr><td>76016</td><td>2</td><td>66016</td></tr><tr><td>76295</td><td>2</td><td>66295</td></tr><tr><td>76537</td><td>2</td><td>66537</td></tr><tr><td>76708</td><td>2</td><td>66708</td></tr><tr><td>77027</td><td>2</td><td>67027</td></tr><tr><td>77108</td><td>2</td><td>67108</td></tr><tr><td>77339</td><td>2</td><td>67339</td></tr><tr><td>79340</td><td>2</td><td>69340</td></tr><tr><td>79746</td><td>2</td><td>69746</td></tr><tr><td>79750</td><td>2</td><td>69750</td></tr><tr><td>80064</td><td>2</td><td>70064</td></tr><tr><td>80544</td><td>2</td><td>70544</td></tr><tr><td>80910</td><td>2</td><td>70910</td></tr><tr><td>80943</td><td>2</td><td>70943</td></tr><tr><td>82883</td><td>2</td><td>72883</td></tr><tr><td>83456</td><td>2</td><td>73456</td></tr><tr><td>83928</td><td>2</td><td>73928</td></tr><tr><td>84008</td><td>2</td><td>74008</td></tr><tr><td>84978</td><td>2</td><td>74978</td></tr><tr><td>85112</td><td>2</td><td>75112</td></tr><tr><td>85317</td><td>2</td><td>75317</td></tr><tr><td>85818</td><td>2</td><td>75818</td></tr><tr><td>85924</td><td>2</td><td>75924</td></tr><tr><td>86065</td><td>2</td><td>76065</td></tr><tr><td>87062</td><td>2</td><td>77062</td></tr><tr><td>87337</td><td>2</td><td>77337</td></tr><tr><td>87822</td><td>2</td><td>77822</td></tr><tr><td>90011</td><td>2</td><td>80011</td></tr><tr><td>90169</td><td>2</td><td>80169</td></tr><tr><td>90303</td><td>2</td><td>80303</td></tr><tr><td>91568</td><td>2</td><td>81568</td></tr><tr><td>92324</td><td>2</td><td>82324</td></tr><tr><td>93118</td><td>2</td><td>83118</td></tr><tr><td>93266</td><td>2</td><td>83266</td></tr><tr><td>93829</td><td>2</td><td>83829</td></tr><tr><td>93988</td><td>2</td><td>83988</td></tr><tr><td>94655</td><td>2</td><td>84655</td></tr><tr><td>95278</td><td>2</td><td>85278</td></tr><tr><td>95288</td><td>2</td><td>85288</td></tr><tr><td>95333</td><td>2</td><td>85333</td></tr><tr><td>95450</td><td>2</td><td>85450</td></tr><tr><td>96254</td><td>2</td><td>86254</td></tr><tr><td>96755</td><td>2</td><td>86755</td></tr><tr><td>96786</td><td>2</td><td>86786</td></tr><tr><td>96969</td><td>2</td><td>86969</td></tr><tr><td>97259</td><td>2</td><td>87259</td></tr><tr><td>97610</td><td>2</td><td>87610</td></tr><tr><td>97970</td><td>2</td><td>87970</td></tr><tr><td>98094</td><td>2</td><td>88094</td></tr><tr><td>98171</td><td>2</td><td>88171</td></tr><tr><td>98679</td><td>2</td><td>88679</td></tr><tr><td>99189</td><td>2</td><td>89189</td></tr></table>"
      ],
      "text/plain": [
       "<IPython.core.display.HTML object>"
      ]
     },
     "metadata": {},
     "output_type": "display_data"
    }
   ],
   "source": [
    "# look up sample values\n",
    "\n",
    "print(\"CVR Stratum\")\n",
    "\n",
    "cvr_sample = []\n",
    "for s in sample1:\n",
    "    original_ballot_label, batch_label, which_ballot = find_ballot(s, \\\n",
    "                                                                   unique_cvr_manifest, \\\n",
    "                                                                   cvr_manifest_parsed)\n",
    "    cvr_sample.append([s, batch_label, which_ballot])\n",
    "\n",
    "cvr_sample.sort(key=lambda x: x[2]) # Sort second on order within batches\n",
    "cvr_sample.sort(key=lambda x: x[1]) # Sort first based on batch label\n",
    "cvr_sample.insert(0,[\"sampled ballot\", \"batch label\", \"which ballot in batch\"])\n",
    "\n",
    "display(HTML(\n",
    "    '<table><tr>{}</tr></table>'.format(\n",
    "        '</tr><tr>'.join(\n",
    "            '<td>{}</td>'.format('</td><td>'.join(str(_) for _ in row)) for row in cvr_sample)\n",
    "        )\n",
    " ))"
   ]
  },
  {
   "cell_type": "code",
   "execution_count": 47,
   "metadata": {},
   "outputs": [
    {
     "name": "stdout",
     "output_type": "stream",
     "text": [
      "Polling Stratum\n"
     ]
    },
    {
     "data": {
      "text/html": [
       "<table><tr><td>sampled ballot</td><td>batch label</td><td>which ballot in batch</td></tr><tr><td>409</td><td>1</td><td>409</td></tr><tr><td>1426</td><td>2</td><td>426</td></tr><tr><td>2279</td><td>2</td><td>1279</td></tr><tr><td>2648</td><td>2</td><td>1648</td></tr><tr><td>3031</td><td>2</td><td>2031</td></tr><tr><td>3043</td><td>2</td><td>2043</td></tr><tr><td>3073</td><td>2</td><td>2073</td></tr><tr><td>4263</td><td>2</td><td>3263</td></tr><tr><td>4564</td><td>2</td><td>3564</td></tr><tr><td>4919</td><td>2</td><td>3919</td></tr></table>"
      ],
      "text/plain": [
       "<IPython.core.display.HTML object>"
      ]
     },
     "metadata": {},
     "output_type": "display_data"
    }
   ],
   "source": [
    "print(\"Polling Stratum\")\n",
    "\n",
    "nocvr_sample = []\n",
    "for s in sample2:\n",
    "    original_ballot_label, batch_label, which_ballot = find_ballot(s, \\\n",
    "                                                                   unique_poll_manifest, \\\n",
    "                                                                   poll_manifest_parsed)\n",
    "    nocvr_sample.append([s, batch_label, which_ballot])\n",
    "\n",
    "nocvr_sample.sort(key=lambda x: x[2]) # Sort second on order within batches\n",
    "nocvr_sample.sort(key=lambda x: x[1]) # Sort first based on batch label\n",
    "nocvr_sample.insert(0,[\"sampled ballot\", \"batch label\", \"which ballot in batch\"])\n",
    "\n",
    "display(HTML(\n",
    "    '<table><tr>{}</tr></table>'.format(\n",
    "        '</tr><tr>'.join(\n",
    "            '<td>{}</td>'.format('</td><td>'.join(str(_) for _ in row)) for row in nocvr_sample)\n",
    "        )\n",
    " ))"
   ]
  },
  {
   "cell_type": "markdown",
   "metadata": {},
   "source": [
    "# Enter the data from the *combined* sample"
   ]
  },
  {
   "cell_type": "markdown",
   "metadata": {},
   "source": [
    "## Sample statistics for the CVR stratum (stratum 1).\n",
    "Update the numbers below to include what was seen in the initial sample PLUS what was seen in the new sample."
   ]
  },
  {
   "cell_type": "code",
   "execution_count": 48,
   "metadata": {},
   "outputs": [
    {
     "name": "stdout",
     "output_type": "stream",
     "text": [
      "The initial sample size in the CVR stratum was 58 and the new sample size was 245\n",
      "The observed overstatements and understatements from the original sample were\n",
      "{'o1': 7, 'o2': 0, 'u1': 0, 'u2': 0}\n"
     ]
    }
   ],
   "source": [
    "print(\"The initial sample size in the CVR stratum was\", n1, \\\n",
    "      \"and the new sample size was\", n1_new)\n",
    "print(\"The observed overstatements and understatements from the original sample were\")\n",
    "pprint.pprint({\"o1\" : o1, \"o2\" : o2, \"u1\" : u1, \"u2\" : u2})"
   ]
  },
  {
   "cell_type": "code",
   "execution_count": 49,
   "metadata": {},
   "outputs": [
    {
     "data": {
      "text/plain": [
       "(11, 0, 0, 0)"
      ]
     },
     "metadata": {},
     "output_type": "display_data"
    }
   ],
   "source": [
    "# Number of observed...\n",
    "\n",
    "def cvr_audit_inputs(o1, o2, u1, u2):\n",
    "    return (o1, o2, u1, u2)\n",
    "\n",
    "cvr_stats = interactive(cvr_audit_inputs,\n",
    "                             o1 = widgets.IntSlider(min=0,max=n1_new,value=0),\n",
    "                             u1 = widgets.IntSlider(min=0,max=n1_new,value=0),\n",
    "                             o2 = widgets.IntSlider(min=0,max=n1_new,value=0),\n",
    "                             u2 = widgets.IntSlider(min=0,max=n1_new,value=0))\n",
    "display(cvr_stats)"
   ]
  },
  {
   "cell_type": "code",
   "execution_count": 50,
   "metadata": {},
   "outputs": [],
   "source": [
    "(o1, o2, u1, u2) = [cvr_stats.children[i].value for i in range(4)]"
   ]
  },
  {
   "cell_type": "markdown",
   "metadata": {},
   "source": [
    "## Sample statistics for the no-CVR stratum (stratum 2)\n",
    "Update the numbers below to include what was seen in the initial sample PLUS what was seen in the new sample."
   ]
  },
  {
   "cell_type": "code",
   "execution_count": 51,
   "metadata": {},
   "outputs": [
    {
     "name": "stdout",
     "output_type": "stream",
     "text": [
      "The initial sample size in the no-CVR stratum was 2 and the new sample size was 12\n",
      "The observed tallies from the original sample were\n",
      "{'candidate 1': 0, 'candidate 2': 1, 'candidate 3': 1, 'candidate 4': 0}\n"
     ]
    }
   ],
   "source": [
    "print(\"The initial sample size in the no-CVR stratum was\", n2, \\\n",
    "      \"and the new sample size was\", n2_new)\n",
    "print(\"The observed tallies from the original sample were\")\n",
    "pprint.pprint(observed_poll)"
   ]
  },
  {
   "cell_type": "code",
   "execution_count": 52,
   "metadata": {},
   "outputs": [],
   "source": [
    "nocvr_widgets=[]\n",
    "\n",
    "# create the widgets\n",
    "for name in candidates.keys():\n",
    "    nocvr_widgets.append(widgets.IntSlider(value=0,min=0,max=n2_new,description=name))\n",
    "\n",
    "# It'd be great to constrain their sum to be <= n2_new\n",
    "\n",
    "#for widget in nocvr_widgets:\n",
    "#    widget.observe(lambda change:myfct(change,nocvr_widgets),names='value',type='change')\n",
    "\n",
    "# group the widgets into a FlexBox\n",
    "nocvr_audit_inputs = widgets.VBox(children=nocvr_widgets)\n",
    "\n",
    "# display the widgets\n",
    "display(nocvr_audit_inputs)"
   ]
  },
  {
   "cell_type": "code",
   "execution_count": 53,
   "metadata": {},
   "outputs": [
    {
     "name": "stdout",
     "output_type": "stream",
     "text": [
      "{'candidate 1': 1, 'candidate 2': 6, 'candidate 3': 5, 'candidate 4': 0}\n"
     ]
    }
   ],
   "source": [
    "# no-CVR sample is stored in a dict with name, votes in the sample\n",
    "\n",
    "observed_poll = {}\n",
    "for widget in nocvr_widgets:\n",
    "    observed_poll[widget.description] = widget.value\n",
    "\n",
    "assert np.sum(list(observed_poll.values())) <= n2_new, \"Too many ballots input\"\n",
    "pprint.pprint(observed_poll)\n"
   ]
  },
  {
   "cell_type": "markdown",
   "metadata": {},
   "source": [
    "# What's the risk for this sample?\n",
    "\n",
    "The audit looks at every (winner, loser) pair in each contest. Auditing continues until there is strong evidence that every winner in a contest got more votes than every loser in the contest. It does this by considering (winner, loser) pairs. The SUITE risk for every pair will appear beneath the cell below after it is run. The audit continues until all the numbers are not larger than the risk limit. E.g., if the risk limit is 10%, the audit stops when the numbers in the table are all less than 0.1."
   ]
  },
  {
   "cell_type": "code",
   "execution_count": 54,
   "metadata": {},
   "outputs": [
    {
     "name": "stdout",
     "output_type": "stream",
     "text": [
      "{('candidate 3', 'candidate 1'): 2.097265210165844e-06,\n",
      " ('candidate 3', 'candidate 4'): 3.117617275449902e-12}\n"
     ]
    }
   ],
   "source": [
    "# Find audit p-values across (winner, loser) pairs\n",
    "\n",
    "audit_pvalues = audit_contest(candidates, winners_not_yet_confirmed, \\\n",
    "                              losers_not_yet_confirmed, stratum_sizes, \\\n",
    "                              n1_new, n2_new, o1, o2, u1, u2, observed_poll, \\\n",
    "                              risk_limit=risk_limit, gamma=gamma, stepsize=lambda_step)\n",
    "pprint.pprint(audit_pvalues)"
   ]
  },
  {
   "cell_type": "code",
   "execution_count": 55,
   "metadata": {},
   "outputs": [
    {
     "name": "stdout",
     "output_type": "stream",
     "text": [
      "Pairs not yet confirmed:\n",
      " []\n"
     ]
    }
   ],
   "source": [
    "# Track contests not yet confirmed\n",
    "\n",
    "contests_not_yet_confirmed = [i[0] for i in audit_pvalues.items() \\\n",
    "                              if i[1]>risk_limit]\n",
    "print(\"Pairs not yet confirmed:\\n\", contests_not_yet_confirmed)"
   ]
  },
  {
   "cell_type": "code",
   "execution_count": 56,
   "metadata": {},
   "outputs": [
    {
     "ename": "TypeError",
     "evalue": "write_audit_results() takes 11 positional arguments but 12 were given",
     "output_type": "error",
     "traceback": [
      "\u001b[0;31m---------------------------------------------------------------------------\u001b[0m",
      "\u001b[0;31mTypeError\u001b[0m                                 Traceback (most recent call last)",
      "\u001b[0;32m<ipython-input-56-4d0c0badea57>\u001b[0m in \u001b[0;36m<module>\u001b[0;34m()\u001b[0m\n\u001b[1;32m      2\u001b[0m \u001b[0;34m\u001b[0m\u001b[0m\n\u001b[1;32m      3\u001b[0m \u001b[0;34m\u001b[0m\u001b[0m\n\u001b[0;32m----> 4\u001b[0;31m \u001b[0mwrite_audit_results\u001b[0m\u001b[0;34m(\u001b[0m\u001b[0;34m\"audit_results2.json\"\u001b[0m\u001b[0;34m,\u001b[0m                         \u001b[0mn1_new\u001b[0m\u001b[0;34m,\u001b[0m \u001b[0mn2_new\u001b[0m\u001b[0;34m,\u001b[0m \u001b[0msample1\u001b[0m\u001b[0;34m,\u001b[0m \u001b[0msample2\u001b[0m\u001b[0;34m,\u001b[0m                         \u001b[0mo1\u001b[0m\u001b[0;34m,\u001b[0m \u001b[0mo2\u001b[0m\u001b[0;34m,\u001b[0m \u001b[0mu1\u001b[0m\u001b[0;34m,\u001b[0m \u001b[0mu2\u001b[0m\u001b[0;34m,\u001b[0m \u001b[0mobserved_poll\u001b[0m\u001b[0;34m,\u001b[0m                         \u001b[0maudit_pvalues\u001b[0m\u001b[0;34m,\u001b[0m \u001b[0mprng\u001b[0m\u001b[0;34m.\u001b[0m\u001b[0mgetstate\u001b[0m\u001b[0;34m(\u001b[0m\u001b[0;34m)\u001b[0m\u001b[0;34m)\u001b[0m\u001b[0;34m\u001b[0m\u001b[0m\n\u001b[0m",
      "\u001b[0;31mTypeError\u001b[0m: write_audit_results() takes 11 positional arguments but 12 were given"
     ]
    }
   ],
   "source": [
    "# Save everything to file\n",
    "\n",
    "\n",
    "write_audit_results(\"audit_results2.json\", \\\n",
    "                        n1_new, n2_new, sample1, sample2, \\\n",
    "                        o1, o2, u1, u2, observed_poll, \\\n",
    "                        audit_pvalues, prng.getstate())"
   ]
  }
 ],
 "metadata": {
  "kernelspec": {
   "display_name": "Python 3",
   "language": "python",
   "name": "python3"
  },
  "language_info": {
   "codemirror_mode": {
    "name": "ipython",
    "version": 2
   },
   "file_extension": ".py",
   "mimetype": "text/x-python",
   "name": "python",
   "nbconvert_exporter": "python",
   "pygments_lexer": "ipython2",
   "version": "2.7.14"
  },
  "widgets": {
   "state": {
    "92f4e93b25f24a8b9707f8a8ab51a617": {
     "views": [
      {
       "cell_index": 42
      }
     ]
    },
    "934c99cf79ff43c9b43ff625feed0ebf": {
     "views": [
      {
       "cell_index": 73
      }
     ]
    },
    "ada046a8a1bc4c5ca5a8806b7c2a18dc": {
     "views": [
      {
       "cell_index": 69
      }
     ]
    },
    "bf29869f851c418890b6d8c02f822706": {
     "views": [
      {
       "cell_index": 38
      }
     ]
    }
   },
   "version": "1.2.0"
  }
 },
 "nbformat": 4,
 "nbformat_minor": 2
}
