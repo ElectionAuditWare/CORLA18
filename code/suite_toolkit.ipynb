{
 "cells": [
  {
   "cell_type": "markdown",
   "metadata": {},
   "source": [
    "# Tools for SUITE Risk-Limiting Election Audits\n",
    "\n"
   ]
  },
  {
   "cell_type": "code",
   "execution_count": 1,
   "metadata": {},
   "outputs": [],
   "source": [
    "from __future__ import print_function\n",
    "\n",
    "from ipywidgets import interact, interactive, fixed, interact_manual\n",
    "import ipywidgets as widgets\n",
    "from IPython.display import display\n",
    "\n",
    "from collections import OrderedDict\n",
    "from itertools import product\n",
    "import math\n",
    "\n",
    "import numpy as np\n",
    "from ballot_comparison import ballot_comparison_pvalue\n",
    "from fishers_combination import fisher_combined_pvalue, maximize_fisher_combined_pvalue, \\\n",
    "     bound_fisher_fun, calculate_lambda_range    \n",
    "from sprt import ballot_polling_sprt\n",
    "\n",
    "from cryptorandom.cryptorandom import SHA256\n",
    "from cryptorandom.sample import sample_by_index"
   ]
  },
  {
   "cell_type": "code",
   "execution_count": 2,
   "metadata": {},
   "outputs": [],
   "source": [
    "# global audit parameters\n",
    "\n",
    "seed = 12345678901234567890  # use, e.g., 20 rolls of a 10-sided die\n",
    "risk_limit = 0.05    # risk limit\n",
    "\n",
    "gamma=1.03905         # gamma from Lindeman and Stark (2012)\n",
    "\n",
    "lambda_step = 0.05    # stepsize for the discrete bounds on Fisher's combining function\n",
    "\n",
    "# assumptions for finding initial sample sizes\n",
    "\n",
    "o1_rate = 0.002       # expect 2 1-vote overstatements per 1000 ballots in the CVR stratum\n",
    "o2_rate = 0           # expect 0 2-vote overstatements\n",
    "u1_rate = 0           # expect 0 1-vote understatements\n",
    "u2_rate = 0           # expect 0 2-vote understatements\n",
    "\n",
    "sample_increment = 10 # step size (in ballots) for estimating initial sample sizes.\n",
    "                      # The sample is increased in increments of sample_increment until\n",
    "                      # the maximum combined p-value is expected to be below the risk limit,\n",
    "                      # on the assumption that the results are correct in the no-CVR stratum\n",
    "                      # and subject to assumptions about the expected rate of overstatement\n",
    "                      # and understatement errors in the CVR stratum\n",
    "\n",
    "stratum_sizes = [100000, 5000]  # total ballots in the two strata, CVR, no-CVR\n",
    "\n",
    "n_ratio = stratum_sizes[0]/np.sum(stratum_sizes) \n",
    "                     # allocate sample in proportion to ballots cast in each stratum\n",
    "\n",
    "# contest-specific parameters\n",
    "num_winners = 2       # maximum number of winners, per social choice function"
   ]
  },
  {
   "cell_type": "markdown",
   "metadata": {},
   "source": [
    "# Initial sample size\n",
    "\n",
    "Reported Votes"
   ]
  },
  {
   "cell_type": "code",
   "execution_count": 3,
   "metadata": {},
   "outputs": [],
   "source": [
    "# input number of winners\n",
    "# input names as well as reported votes in each stratum\n",
    "\n",
    "# candidates are a dict with name, [votes_in_stratum_1, votes_in_stratum_2]\n",
    "candidates = { \"candidate 3\": [30000, 500],\n",
    "               \"candidate 2\": [50000, 1000],\n",
    "               \"candidate 1\": [10000, 500],\n",
    "               \"candidate 4\": [500, 10]}\n",
    "\n",
    "cvr_votes = poll_votes = 0\n",
    "\n",
    "for name, votes in candidates.items():\n",
    "    cvr_votes += votes[0]\n",
    "    poll_votes += votes[1]\n",
    "    votes.append(votes[0]+votes[1])"
   ]
  },
  {
   "cell_type": "code",
   "execution_count": 4,
   "metadata": {},
   "outputs": [],
   "source": [
    "assert cvr_votes <= stratum_sizes[0]\n",
    "assert poll_votes <= stratum_sizes[1]\n",
    "assert (n_ratio >= 0) and (n_ratio <= 1)"
   ]
  },
  {
   "cell_type": "code",
   "execution_count": 5,
   "metadata": {},
   "outputs": [
    {
     "name": "stdout",
     "output_type": "stream",
     "text": [
      "\n",
      "Total reported votes:\n",
      "\t\t\tCVR\tno-CVR\ttotal\n",
      "\t candidate 2 : 50000 \t 1000 \t 51000\n",
      "\t candidate 3 : 30000 \t 500 \t 30500\n",
      "\t candidate 1 : 10000 \t 500 \t 10500\n",
      "\t candidate 4 : 500 \t 10 \t 510\n",
      "\n",
      "\t total votes:\t 90500 \t 2010 \t 92510\n",
      "\n",
      "\t non-votes:\t 9500 \t 2990 \t 12490\n",
      "\n",
      "winners:\n",
      "\t candidate 2\n",
      "\t candidate 3\n",
      "\n",
      "losers:\n",
      "\t candidate 1\n",
      "\t candidate 4\n",
      "\n",
      "\n",
      "margins:\n",
      "\t candidate 2 beat candidate 4 by 50490 votes\n",
      "\t candidate 2 beat candidate 1 by 40500 votes\n",
      "\t candidate 3 beat candidate 4 by 29990 votes\n",
      "\t candidate 3 beat candidate 1 by 20000 votes\n",
      "\n",
      "smallest margin: 20000 \n",
      "diluted margin: 0.19047619047619047\n"
     ]
    }
   ],
   "source": [
    "# find reported winners, losers, and pairwise margins\n",
    "\n",
    "candidates = OrderedDict(sorted(candidates.items(), key=(lambda t: t[1][2]), reverse=True))\n",
    "                        \n",
    "winners = list(candidates.keys())[0:num_winners]\n",
    "losers = list(candidates.keys())[num_winners:]\n",
    "\n",
    "votes = np.zeros(3)\n",
    "\n",
    "margins = {}  # will hold the (winner, loser) pairwise margins indexed by pairs\n",
    "\n",
    "for x in product(winners, losers):\n",
    "    margins[x] = candidates[x[0]][2] - candidates[x[1]][2]\n",
    "\n",
    "margins = OrderedDict(sorted(margins.items(), key=(lambda t: t[1]), reverse=True))\n",
    "\n",
    "min_margin = np.amin(list(margins.values()))\n",
    "\n",
    "print('\\nTotal reported votes:\\n\\t\\t\\tCVR\\tno-CVR\\ttotal')\n",
    "for k, v in candidates.items():\n",
    "    print('\\t', k, ':', v[0], '\\t', v[1], '\\t', v[2])\n",
    "print('\\n\\t total votes:\\t', cvr_votes, '\\t', poll_votes, '\\t', cvr_votes + poll_votes)\n",
    "print('\\n\\t non-votes:\\t',\\\n",
    "      stratum_sizes[0] - cvr_votes,'\\t',\\\n",
    "      stratum_sizes[1] - poll_votes,'\\t',\\\n",
    "      stratum_sizes[0] + stratum_sizes[1] - cvr_votes - poll_votes\\\n",
    "     )\n",
    "\n",
    "\n",
    "\n",
    "print('\\nwinners:')\n",
    "for w in winners:\n",
    "    print('\\t',w)\n",
    "\n",
    "print('\\nlosers:')\n",
    "for ell in losers:\n",
    "    print('\\t',ell)\n",
    "\n",
    "print('\\n\\nmargins:')\n",
    "for k, v in margins.items():\n",
    "    dum = k[0] + ' beat ' + k[1] + ' by'\n",
    "    print('\\t', dum , v, 'votes')\n",
    "\n",
    "print('\\nsmallest margin:', min_margin, '\\ndiluted margin:', min_margin/np.sum(stratum_sizes))"
   ]
  },
  {
   "cell_type": "markdown",
   "metadata": {},
   "source": [
    "Expected sample sizes"
   ]
  },
  {
   "cell_type": "code",
   "execution_count": 6,
   "metadata": {},
   "outputs": [],
   "source": [
    "def estimate_n(Nw1, Nw2, Nl1, Nl2, N1, N2, o1_rate=0, o2_rate=0, u1_rate=0, u2_rate=0,\n",
    "               n_ratio=None,\n",
    "               risk_limit=0.05,\\\n",
    "               gamma=1.03905,\\\n",
    "               sample_increment=10, stepsize=0.05):\n",
    "    '''\n",
    "    Estimate the initial sample sizes for the audit.\n",
    "    \n",
    "    TO DO: Document this!\n",
    "    \n",
    "    '''\n",
    "    n_ratio = n_ratio if n_ratio else N1/(N1+N2)\n",
    "    n = 0\n",
    "    reported_margin = (Nw1+Nw2)-(Nl1+Nl2)\n",
    "    expected_pvalue = 1\n",
    "    while (expected_pvalue > risk_limit) or (expected_pvalue is np.nan):\n",
    "    # TO DO: Replace linear search with bisection search. First, increase n by doubling\n",
    "    #  until it's large enough; then use bisection between the last size that failed \n",
    "    # and the first size that succeeded to find the (integer) solution. Be sure to limit\n",
    "    # trial values of n to integers, using ceil or floor\n",
    "        n = n + sample_increment\n",
    "        n1 = math.ceil(n_ratio * n)\n",
    "        n2 = n - n1\n",
    "        o1 = math.ceil(o1_rate*n1)\n",
    "        o2 = math.ceil(o2_rate*n1)\n",
    "        u1 = math.floor(u1_rate*n1)\n",
    "        u2 = math.floor(u2_rate*n1)\n",
    "\n",
    "        cvr_pvalue = lambda alloc: ballot_comparison_pvalue(n=n1, gamma=1.03905, o1=o1, \n",
    "                                                    u1=u1, o2=o2, u2=u2, \n",
    "                                                    reported_margin=reported_margin, N=N1, \n",
    "                                                    null_lambda=alloc)\n",
    "\n",
    "        nocvr_pvalue = lambda alloc: ballot_polling_sprt(sample= np.array([0]*int(n2*Nl2/N2)+\\\n",
    "                                             [1]*int(n2*Nw2/N2)+\\\n",
    "                                             [np.nan]*int(n2*(N2-Nl2-Nw2)/N2)), \\\n",
    "                            popsize=N2, \\\n",
    "                            alpha=risk_limit,\\\n",
    "                            Vw=Nw2, Vl=Nl2, null_margin=(Nw2-Nl2) - alloc*reported_margin)['pvalue']\n",
    "        # Crude maximizer for now \n",
    "        # TO DO: this isn't rigorous yet--needs to be fixed\n",
    "        res = bound_fisher_fun(Nw1, Nl1, N1, Nw2, Nl2, N2,\n",
    "                       pvalue_funs=(cvr_pvalue, nocvr_pvalue),\\\n",
    "                       stepsize=stepsize, feasible_lambda_range=None)\n",
    "        expected_pvalue = np.amax(res['upper_bounds'])\n",
    "        if (n % 10000)==0:\n",
    "            print('...trying...', n, expected_pvalue)    \n",
    "    return (n1, n2)"
   ]
  },
  {
   "cell_type": "code",
   "execution_count": 7,
   "metadata": {},
   "outputs": [],
   "source": [
    "# Find largest expected sample size across (winner, loser) pairs\n",
    "\n",
    "sample_sizes = {}\n",
    "\n",
    "for k in product(winners, losers):\n",
    "    sample_sizes[k] = estimate_n(candidates[k[0]][0],\\\n",
    "                                 candidates[k[0]][1],\\\n",
    "                                 candidates[k[1]][0],\\\n",
    "                                 candidates[k[1]][1],\\\n",
    "                                 stratum_sizes[0],\\\n",
    "                                 stratum_sizes[1],\\\n",
    "                                 o1_rate = o1_rate,\\\n",
    "                                 o2_rate = o2_rate,\\\n",
    "                                 u1_rate = u1_rate,\\\n",
    "                                 u2_rate = u2_rate,\\\n",
    "                                 n_ratio = n_ratio,\\\n",
    "                                 risk_limit = risk_limit,\\\n",
    "                                 gamma = gamma,\\\n",
    "                                 sample_increment = sample_increment,\\\n",
    "                                 stepsize = lambda_step)"
   ]
  },
  {
   "cell_type": "code",
   "execution_count": 8,
   "metadata": {},
   "outputs": [
    {
     "name": "stdout",
     "output_type": "stream",
     "text": [
      "{('candidate 2', 'candidate 1'): (39, 1), ('candidate 2', 'candidate 4'): (29, 1), ('candidate 3', 'candidate 1'): (67, 3), ('candidate 3', 'candidate 4'): (48, 2)} \n",
      "expected minimum sample size: 70\n"
     ]
    }
   ],
   "source": [
    "sample_size = np.amax([v[0]+v[1] for v in sample_sizes.values()])\n",
    "\n",
    "print(sample_sizes, '\\nexpected minimum sample size:', sample_size)"
   ]
  },
  {
   "cell_type": "markdown",
   "metadata": {},
   "source": [
    "# Random sampling"
   ]
  },
  {
   "cell_type": "code",
   "execution_count": 9,
   "metadata": {},
   "outputs": [],
   "source": [
    "prng = SHA256(seed)   # initialize the PRNG"
   ]
  },
  {
   "cell_type": "code",
   "execution_count": 10,
   "metadata": {},
   "outputs": [],
   "source": [
    "n1 = math.ceil(sample_size*n_ratio)    # stratum 1 initial sample size\n",
    "\n",
    "sample1 = sample_by_index(stratum_sizes[0], n1, prng)\n",
    "sample2 = sample_by_index(stratum_sizes[1], sample_size-n1, prng)"
   ]
  },
  {
   "cell_type": "markdown",
   "metadata": {},
   "source": [
    "Stratum 1 sample"
   ]
  },
  {
   "cell_type": "code",
   "execution_count": 11,
   "metadata": {},
   "outputs": [
    {
     "name": "stdout",
     "output_type": "stream",
     "text": [
      "CVR stratum sample:\n",
      " {29184, 20483, 93197, 11301, 28716, 57905, 73787, 50747, 27199, 62020, 81480, 34387, 48726, 91743, 94318, 56943, 45174, 84601, 43658, 84619, 60569, 95386, 72874, 24761, 9425, 85218, 3313, 79101, 82699, 49937, 90405, 27949, 39218, 92466, 32579, 22855, 25425, 95578, 16228, 6505, 29561, 85882, 19322, 99715, 40326, 95623, 15242, 79258, 55196, 64414, 4000, 16292, 41396, 27574, 61370, 43463, 57810, 21458, 41938, 94685, 50669, 26094, 94703, 67570, 48627, 54775, 52732}\n"
     ]
    }
   ],
   "source": [
    "print(\"CVR stratum sample:\\n\", sample1)"
   ]
  },
  {
   "cell_type": "code",
   "execution_count": 12,
   "metadata": {
    "scrolled": true
   },
   "outputs": [
    {
     "ename": "AxisError",
     "evalue": "axis -1 is out of bounds for array of dimension 0",
     "output_type": "error",
     "traceback": [
      "\u001b[0;31m---------------------------------------------------------------------------\u001b[0m",
      "\u001b[0;31mAxisError\u001b[0m                                 Traceback (most recent call last)",
      "\u001b[0;32m<ipython-input-12-7e933325b927>\u001b[0m in \u001b[0;36m<module>\u001b[0;34m()\u001b[0m\n\u001b[0;32m----> 1\u001b[0;31m \u001b[0mprint\u001b[0m\u001b[0;34m(\u001b[0m\u001b[0;34m\"CVR stratum sample, sorted:\\n\"\u001b[0m\u001b[0;34m,\u001b[0m \u001b[0mnp\u001b[0m\u001b[0;34m.\u001b[0m\u001b[0msort\u001b[0m\u001b[0;34m(\u001b[0m\u001b[0msample1\u001b[0m\u001b[0;34m)\u001b[0m\u001b[0;34m)\u001b[0m\u001b[0;34m\u001b[0m\u001b[0m\n\u001b[0m",
      "\u001b[0;32m/anaconda/lib/python3.6/site-packages/numpy/core/fromnumeric.py\u001b[0m in \u001b[0;36msort\u001b[0;34m(a, axis, kind, order)\u001b[0m\n\u001b[1;32m    845\u001b[0m     \u001b[0;32melse\u001b[0m\u001b[0;34m:\u001b[0m\u001b[0;34m\u001b[0m\u001b[0m\n\u001b[1;32m    846\u001b[0m         \u001b[0ma\u001b[0m \u001b[0;34m=\u001b[0m \u001b[0masanyarray\u001b[0m\u001b[0;34m(\u001b[0m\u001b[0ma\u001b[0m\u001b[0;34m)\u001b[0m\u001b[0;34m.\u001b[0m\u001b[0mcopy\u001b[0m\u001b[0;34m(\u001b[0m\u001b[0morder\u001b[0m\u001b[0;34m=\u001b[0m\u001b[0;34m\"K\"\u001b[0m\u001b[0;34m)\u001b[0m\u001b[0;34m\u001b[0m\u001b[0m\n\u001b[0;32m--> 847\u001b[0;31m     \u001b[0ma\u001b[0m\u001b[0;34m.\u001b[0m\u001b[0msort\u001b[0m\u001b[0;34m(\u001b[0m\u001b[0maxis\u001b[0m\u001b[0;34m=\u001b[0m\u001b[0maxis\u001b[0m\u001b[0;34m,\u001b[0m \u001b[0mkind\u001b[0m\u001b[0;34m=\u001b[0m\u001b[0mkind\u001b[0m\u001b[0;34m,\u001b[0m \u001b[0morder\u001b[0m\u001b[0;34m=\u001b[0m\u001b[0morder\u001b[0m\u001b[0;34m)\u001b[0m\u001b[0;34m\u001b[0m\u001b[0m\n\u001b[0m\u001b[1;32m    848\u001b[0m     \u001b[0;32mreturn\u001b[0m \u001b[0ma\u001b[0m\u001b[0;34m\u001b[0m\u001b[0m\n\u001b[1;32m    849\u001b[0m \u001b[0;34m\u001b[0m\u001b[0m\n",
      "\u001b[0;31mAxisError\u001b[0m: axis -1 is out of bounds for array of dimension 0"
     ]
    }
   ],
   "source": [
    "print(\"CVR stratum sample, sorted:\\n\", np.sort(sample1))"
   ]
  },
  {
   "cell_type": "code",
   "execution_count": null,
   "metadata": {},
   "outputs": [],
   "source": [
    "## TO DO: either sample with replacment, or replace the math\n",
    "print(\"CVR stratum sample, sorted, duplicates removed:\\n\", np.unique(np.sort(sample1)))"
   ]
  },
  {
   "cell_type": "code",
   "execution_count": null,
   "metadata": {},
   "outputs": [],
   "source": [
    "m = np.zeros_like(sample1, dtype=bool)\n",
    "m[np.unique(sample1, return_index=True)[1]] = True\n",
    "print(\"Stratum 1 repeated ballots:\\n\", sample1[~m])"
   ]
  },
  {
   "cell_type": "markdown",
   "metadata": {},
   "source": [
    "Stratum 2 sample"
   ]
  },
  {
   "cell_type": "code",
   "execution_count": null,
   "metadata": {},
   "outputs": [],
   "source": [
    "print(\"No-CVR stratum sample:\\n\", sample2)"
   ]
  },
  {
   "cell_type": "code",
   "execution_count": null,
   "metadata": {
    "scrolled": true
   },
   "outputs": [],
   "source": [
    "print(\"No-CVR stratum sample, sorted:\\n\", np.sort(sample2))\n",
    "\n",
    "## TO DO: double check that ballot polling SPRT test is without replacement"
   ]
  },
  {
   "cell_type": "code",
   "execution_count": null,
   "metadata": {},
   "outputs": [],
   "source": [
    "m2 = np.zeros_like(sample2, dtype=bool)\n",
    "m2[np.unique(sample2, return_index=True)[1]] = True\n",
    "print(\"Stratum 2 repeated ballots:\\n\", sample2[~m2])"
   ]
  },
  {
   "cell_type": "markdown",
   "metadata": {},
   "source": [
    "# Find ballots using ballot manifest\n",
    "\n",
    "Ballot manifest: Each line must have a batch label, a comma, and one of the following:\n",
    "  1. the number of ballots in the batch \n",
    "  1. a range specified with a colon (e.g., 131:302), or \n",
    "  1. a list of ballot identifiers within parentheses, separated by spaces (e.g., (996 998 1000)).\n",
    "  \n",
    "Each line should have exactly one comma."
   ]
  },
  {
   "cell_type": "code",
   "execution_count": null,
   "metadata": {},
   "outputs": [],
   "source": [
    "# I'm imagining this is is a list for now\n",
    "ballot_manifest_cvr = ['1, 100', '2, 101:200', '3, (205 210)']\n",
    "ballot_manifest_poll = ['1, 100', '2, 101:200', '3, (205 210)']"
   ]
  },
  {
   "cell_type": "code",
   "execution_count": null,
   "metadata": {},
   "outputs": [],
   "source": [
    "# step 1: expand the ballot manifest into a dict. keys are batches, values are ballot numbers.\n",
    "\n",
    "def parse_manifest(manifest):\n",
    "    '''\n",
    "    Parses a ballot manifest to put the batches in a canonical ordering and be able\n",
    "    to look up specific ballots.\n",
    "    \n",
    "    Input: \n",
    "      a ballot manifest in the syntax described above\n",
    "    \n",
    "    Returns:\n",
    "      an ordered dict containing\n",
    "         batch ID (key)\n",
    "         ballot identifiers within the batch, either from sequential enumeration or from\n",
    "             the given labels\n",
    "    '''\n",
    "    ballots = 0\n",
    "    ballot_manifest_dict = OrderedDict()\n",
    "    for i in manifest:\n",
    "        # assert that the entry is a string with a comma in it\n",
    "        # pull out batch label\n",
    "        (batch, val) = i.split(\",\")\n",
    "        batch = batch.strip()\n",
    "        val = val.strip()    \n",
    "        if (batch in ballot_manifest_dict.keys()):\n",
    "             raise ValueError('batch is listed more than once')\n",
    "        else:\n",
    "            ballot_manifest_dict[batch] = []\n",
    "    \n",
    "        # parse what comes after the batch label\n",
    "        if '(' in val:     # list of identifiers\n",
    "            val = val[1:-1] # strip out the parentheses  TO DO: use regex to remove )(\n",
    "            ballot_manifest_dict[batch] += [int(num) for num in val.split()]\n",
    "            \n",
    "        elif ':' in val:   # range of identifiers\n",
    "            limits = val.split(':')\n",
    "            ballot_manifest_dict[batch] += list(range(int(limits[0]), int(limits[1])+1))  \n",
    "            \n",
    "        else:  # this should be an integer number of ballots\n",
    "            try:\n",
    "                ballot_manifest_dict[batch] += list(range(1, int(val)+1))\n",
    "            except:\n",
    "                print('malformed row in ballot manifest:\\n\\t', i)\n",
    "    return(ballot_manifest_dict)"
   ]
  },
  {
   "cell_type": "code",
   "execution_count": null,
   "metadata": {},
   "outputs": [],
   "source": [
    "cvr_manifest_parsed = parse_manifest(ballot_manifest_cvr)\n",
    "poll_manifest_parsed = parse_manifest(ballot_manifest_poll)\n",
    "\n",
    "listed_cvr = np.sum([len(v) for v in cvr_manifest_parsed.values()])\n",
    "listed_poll = np.sum([len(v) for v in poll_manifest_parsed.values()])"
   ]
  },
  {
   "cell_type": "code",
   "execution_count": null,
   "metadata": {},
   "outputs": [],
   "source": [
    "# test that manifest matches reported ballot totals\n",
    "\n",
    "assert listed_cvr == stratum_sizes[0]\n",
    "assert listed_poll == stratum_sizes[1]"
   ]
  },
  {
   "cell_type": "code",
   "execution_count": null,
   "metadata": {},
   "outputs": [],
   "source": [
    "# step 2: look up sample values\n",
    "\n",
    "def find_ballot(ballot_num):\n",
    "    for batch, ballots in ballot_manifest_dict.items():\n",
    "        if ballot_num in ballots:\n",
    "            position = ballots.index(ballot_num)\n",
    "            return batch, position\n",
    "    print(\"Ballot %i not found\" % ballot_num)\n",
    "    return None\n",
    "\n",
    "print(\"sorted number, ballot, batch_label, which_ballot_in_batch\")\n",
    "i = 0\n",
    "for s in sample1:\n",
    "    i += 1\n",
    "    batch_label, which_ballot = find_ballot(s)\n",
    "    print(i, s, batch_label, which_ballot) # This uses 0-indexing still. Should we change it be 1,...,n?"
   ]
  },
  {
   "cell_type": "markdown",
   "metadata": {},
   "source": [
    "# Should more ballots be audited?"
   ]
  },
  {
   "cell_type": "markdown",
   "metadata": {},
   "source": [
    "Sample statistics for the CVR stratum (stratum 1)"
   ]
  },
  {
   "cell_type": "code",
   "execution_count": null,
   "metadata": {},
   "outputs": [],
   "source": [
    "# Simple version, fill in the blanks\n",
    "\n",
    "o1 = \n",
    "u1 = \n",
    "o2 = \n",
    "u2 = "
   ]
  },
  {
   "cell_type": "code",
   "execution_count": null,
   "metadata": {},
   "outputs": [],
   "source": [
    "# Tricky version, input using sliders\n",
    "\n",
    "def stratum1_inputs(o1, u1, o2, u2):\n",
    "    return (o1, u1, o2, u2)\n",
    "\n",
    "stratum1_stats = interactive(stratum1_inputs, \n",
    "                             o1 = widgets.IntSlider(min=0,max=n1,value=0),\n",
    "                             u1 = widgets.IntSlider(min=0,max=n1,value=0),\n",
    "                             o2 = widgets.IntSlider(min=0,max=n1,value=0),\n",
    "                             u2 = widgets.IntSlider(min=0,max=n1,value=0))\n",
    "display(stratum1_stats)"
   ]
  },
  {
   "cell_type": "code",
   "execution_count": null,
   "metadata": {},
   "outputs": [],
   "source": [
    "(o1, u1, o2, u2) = [stratum1_stats.children[i].value for i in range(4)]"
   ]
  },
  {
   "cell_type": "markdown",
   "metadata": {},
   "source": [
    "Sample statistics for the no-CVR stratum (stratum 2)"
   ]
  },
  {
   "cell_type": "code",
   "execution_count": null,
   "metadata": {},
   "outputs": [],
   "source": [
    "# Simple version, fill in the blanks\n",
    "\n",
    "\n",
    "n2l =\n",
    "n2w = "
   ]
  },
  {
   "cell_type": "code",
   "execution_count": null,
   "metadata": {},
   "outputs": [],
   "source": [
    "# Tricky version, input using sliders\n",
    "\n",
    "def stratum2_inputs(ballots_for_loser, ballots_for_winner):\n",
    "    return (ballots_for_loser, ballots_for_winner)\n",
    "\n",
    "stratum2_stats = interactive(stratum2_inputs, \n",
    "                             ballots_for_loser = widgets.IntSlider(min=0,max=n2,value=0),\n",
    "                             ballots_for_winner = widgets.IntSlider(min=0,max=n2,value=0))\n",
    "display(stratum2_stats)"
   ]
  },
  {
   "cell_type": "code",
   "execution_count": null,
   "metadata": {},
   "outputs": [],
   "source": [
    "(n2l, n2w) = [stratum2_stats.children[i].value for i in range(2)]"
   ]
  },
  {
   "cell_type": "code",
   "execution_count": null,
   "metadata": {},
   "outputs": [],
   "source": [
    "cvr_pvalue = lambda alloc: ballot_comparison_pvalue(n=n1, gamma=1.03905, o1=o1, \n",
    "                                                    u1=u1, o2=o2, u2=u2, \n",
    "                                                    reported_margin=reported_margin, N=N1, \n",
    "                                                    null_lambda=alloc)\n",
    "nocvr_pvalue = lambda alloc: ballot_polling_sprt(sample= np.array([0]*n2l+[1]*n2w+[np.nan]*(n2-n2w-n2l)), \\\n",
    "                            popsize=N2, \\\n",
    "                            alpha=0.05,  # set this param but we don't need to use it\n",
    "                            Vw=Nw2, Vl=Nl2, null_margin=(Nw2-Nl2) - alloc*reported_margin)['pvalue']\n",
    "# Crude maximizer for now\n",
    "res = bound_fisher_fun(Nw1, Nl1, N1, Nw2, Nl2, N2,\n",
    "                       pvalue_funs=(cvr_pvalue, nocvr_pvalue), stepsize=lambda_step,\\\n",
    "                       feasible_lambda_range=None\n",
    "expected_pvalue = np.max(res['upper_bounds'])\n",
    "if expected_pvalue <= alpha:\n",
    "    print(\"Stop the audit\")\n",
    "else:\n",
    "    print(\"Escalate the audit\")"
   ]
  }
 ],
 "metadata": {
  "kernelspec": {
   "display_name": "Python 3",
   "language": "python",
   "name": "python3"
  },
  "language_info": {
   "codemirror_mode": {
    "name": "ipython",
    "version": 3
   },
   "file_extension": ".py",
   "mimetype": "text/x-python",
   "name": "python",
   "nbconvert_exporter": "python",
   "pygments_lexer": "ipython3",
   "version": "3.6.1"
  },
  "widgets": {
   "state": {
    "7874b05cf5b84aa199d0182400809ca0": {
     "views": [
      {
       "cell_index": 26
      }
     ]
    },
    "7d22d325d5cd4e4da3e57907066838dd": {
     "views": [
      {
       "cell_index": 30
      }
     ]
    }
   },
   "version": "1.2.0"
  }
 },
 "nbformat": 4,
 "nbformat_minor": 2
}
