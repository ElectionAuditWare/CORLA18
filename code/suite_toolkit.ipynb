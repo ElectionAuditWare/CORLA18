{
 "cells": [
  {
   "cell_type": "markdown",
   "metadata": {},
   "source": [
    "# Tools for SUITE Risk-Limiting Election Audits\n",
    "\n"
   ]
  },
  {
   "cell_type": "code",
   "execution_count": 45,
   "metadata": {
    "collapsed": false
   },
   "outputs": [],
   "source": [
    "from __future__ import print_function\n",
    "from ipywidgets import interact, interactive, fixed, interact_manual\n",
    "import ipywidgets as widgets\n",
    "import numpy as np\n",
    "from ballot_comparison import ballot_comparison_pvalue\n",
    "from fishers_combination import fisher_combined_pvalue, maximize_fisher_combined_pvalue, \\\n",
    "     bound_fisher_fun, calculate_lambda_range    \n",
    "from sprt import ballot_polling_sprt\n",
    "\n",
    "from cryptorandom.cryptorandom import SHA256\n",
    "from cryptorandom.sample import sample_by_index"
   ]
  },
  {
   "cell_type": "markdown",
   "metadata": {},
   "source": [
    "# Initial sample size\n",
    "\n",
    "Reported Votes"
   ]
  },
  {
   "cell_type": "code",
   "execution_count": 15,
   "metadata": {
    "collapsed": false
   },
   "outputs": [
    {
     "name": "stdout",
     "output_type": "stream",
     "text": [
      "Smallest margin (in votes): 1100\n",
      "Diluted margin: 0.02564102564102564\n"
     ]
    }
   ],
   "source": [
    "Nw1 = 2000\n",
    "Nl1 = 1900\n",
    "Nw2 = 20000\n",
    "Nl2 = 19000\n",
    "\n",
    "N1 = Nw1 + Nl1\n",
    "N2 = Nw2 + Nl2\n",
    "Nw = Nw1 + Nw2\n",
    "Nl = Nl1 + Nl2\n",
    "N = N1 + N2\n",
    "reported_margin = Nw - Nl\n",
    "\n",
    "print(\"Smallest margin (in votes):\", reported_margin)\n",
    "print(\"Diluted margin:\", (Nw - Nl)/N)"
   ]
  },
  {
   "cell_type": "markdown",
   "metadata": {},
   "source": [
    "Audit parameters"
   ]
  },
  {
   "cell_type": "code",
   "execution_count": 16,
   "metadata": {
    "collapsed": false
   },
   "outputs": [],
   "source": [
    "alpha = 0.1\n",
    "n_ratio = N1/N # proportion of initial sample allocated to stratum 1\n"
   ]
  },
  {
   "cell_type": "markdown",
   "metadata": {},
   "source": [
    "Expected sample sizes"
   ]
  },
  {
   "cell_type": "code",
   "execution_count": 41,
   "metadata": {
    "collapsed": false
   },
   "outputs": [
    {
     "name": "stdout",
     "output_type": "stream",
     "text": [
      "10000 0.4850348339626901\n"
     ]
    },
    {
     "data": {
      "text/plain": [
       "(1727, 17273)"
      ]
     },
     "metadata": {},
     "output_type": "display_data"
    },
    {
     "data": {
      "text/plain": [
       "<function __main__.estimate_n>"
      ]
     },
     "execution_count": 41,
     "metadata": {},
     "output_type": "execute_result"
    }
   ],
   "source": [
    "def estimate_n(risk_limit, n_ratio):\n",
    "    n = 0\n",
    "    expected_pvalue = 1\n",
    "    while (expected_pvalue > risk_limit) or (expected_pvalue is np.nan):\n",
    "        n = n + 1000\n",
    "        n1 = int(n_ratio * n)\n",
    "        n2 = n - n1\n",
    "        cvr_pvalue = lambda alloc: ballot_comparison_pvalue(n=n1, gamma=1.03905, o1=0, \n",
    "                                                    u1=0, o2=0, u2=0, \n",
    "                                                    reported_margin=reported_margin, N=N1, \n",
    "                                                    null_lambda=alloc)\n",
    "        nocvr_pvalue = lambda alloc: ballot_polling_sprt(sample= np.array([0]*int(n2*Nl2/N2)+\\\n",
    "                                             [1]*int(n2*Nw2/N2)+\\\n",
    "                                             [np.nan]*int(n2*(N2-Nl2-Nw2)/N2)), \\\n",
    "                            popsize=N2, \\\n",
    "                            alpha=0.05,  # set this param but we don't need to use it\n",
    "                            Vw=Nw2, Vl=Nl2, null_margin=(Nw2-Nl2) - alloc*reported_margin)['pvalue']\n",
    "        # Crude maximizer for now\n",
    "        res = bound_fisher_fun(Nw1, Nl1, N1, Nw2, Nl2, N2,\n",
    "                       pvalue_funs=(cvr_pvalue, nocvr_pvalue), stepsize=0.5, plausible_lambda_range=(-3, 3))\n",
    "        expected_pvalue = np.max(res['upper_bounds'])\n",
    "        if (n % 10000)==0:\n",
    "            print(n, expected_pvalue)\n",
    "    \n",
    "    return (n1, n2)\n",
    "\n",
    "interact(estimate_n,\n",
    "          risk_limit=widgets.FloatSlider(min=0,max=0.5,step=0.005,value=alpha), \n",
    "          n_ratio=widgets.FloatSlider(min=0,max=1,step=0.01,value=n_ratio)\n",
    "        )"
   ]
  },
  {
   "cell_type": "markdown",
   "metadata": {},
   "source": [
    "# Random sampling"
   ]
  },
  {
   "cell_type": "code",
   "execution_count": 43,
   "metadata": {
    "collapsed": true
   },
   "outputs": [],
   "source": [
    "seed = 12345\n",
    "n1 = 1000\n",
    "n2 = 15000"
   ]
  },
  {
   "cell_type": "code",
   "execution_count": 46,
   "metadata": {
    "collapsed": false
   },
   "outputs": [],
   "source": [
    "prng = SHA256(seed)\n",
    "sample1 = sample_by_index(N1, n1, prng)\n",
    "sample2 = sample_by_index(N2, n2, prng)"
   ]
  },
  {
   "cell_type": "code",
   "execution_count": 48,
   "metadata": {
    "collapsed": false
   },
   "outputs": [
    {
     "name": "stdout",
     "output_type": "stream",
     "text": [
      "Stratum 1 sample: {2, 3, 2051, 7, 2056, 2055, 9, 2059, 2061, 2062, 16, 2064, 2067, 2068, 21, 2070, 23, 25, 28, 2076, 2086, 39, 2087, 41, 2090, 2092, 2093, 46, 2096, 52, 53, 2100, 2101, 57, 58, 2106, 2107, 61, 62, 63, 2112, 66, 78, 79, 80, 83, 85, 2136, 89, 2138, 93, 2143, 2144, 96, 2145, 2146, 102, 103, 105, 107, 2155, 110, 112, 113, 114, 2163, 2160, 122, 2173, 127, 2175, 2177, 130, 2184, 136, 2186, 137, 2185, 2189, 138, 2192, 2193, 146, 148, 2197, 150, 2200, 152, 153, 2205, 165, 166, 168, 2217, 2219, 2220, 173, 183, 184, 185, 2231, 188, 190, 2239, 2240, 2241, 194, 196, 2249, 2251, 206, 2254, 2255, 2257, 2265, 2266, 2267, 218, 222, 223, 2272, 2273, 2275, 2276, 2277, 2278, 231, 227, 2282, 2285, 241, 242, 243, 246, 248, 2298, 2299, 250, 255, 2303, 256, 2309, 261, 265, 2314, 2313, 270, 2318, 272, 273, 2322, 2324, 277, 2330, 2331, 2338, 290, 291, 293, 2346, 2348, 301, 2352, 304, 306, 2355, 310, 2359, 2358, 313, 2362, 315, 314, 2365, 317, 2366, 2364, 2363, 316, 323, 2374, 329, 2378, 333, 335, 2384, 338, 2386, 2388, 2391, 345, 2394, 351, 353, 356, 2406, 360, 361, 363, 2412, 367, 369, 2421, 2423, 376, 377, 2427, 380, 382, 2440, 394, 2443, 398, 2447, 2452, 406, 2454, 2457, 2459, 2460, 2461, 2464, 416, 2467, 2469, 424, 427, 2476, 432, 433, 2482, 435, 436, 2486, 441, 442, 2489, 2492, 445, 2496, 2501, 454, 453, 2506, 465, 471, 472, 2525, 478, 479, 481, 2532, 2533, 2535, 2540, 493, 2544, 497, 2547, 2549, 2550, 504, 2553, 2557, 2558, 515, 2564, 2566, 519, 522, 2571, 2572, 524, 2574, 526, 523, 2581, 533, 538, 2587, 2588, 541, 2591, 2592, 2593, 544, 2596, 552, 2601, 553, 2605, 2610, 562, 569, 2617, 2620, 2621, 2622, 2625, 2626, 2628, 2631, 2633, 2635, 589, 2638, 592, 2641, 2645, 2647, 2649, 2651, 2654, 607, 2656, 2657, 2658, 611, 610, 2662, 615, 616, 2666, 2669, 622, 626, 2675, 2679, 2682, 2684, 2685, 637, 639, 640, 642, 2691, 2695, 648, 647, 650, 654, 656, 2707, 659, 2711, 2712, 2713, 667, 2716, 670, 2719, 673, 674, 2724, 2727, 2730, 2733, 687, 2736, 689, 2740, 700, 2748, 702, 703, 2753, 709, 711, 2761, 2762, 713, 2765, 2766, 2780, 2782, 735, 2783, 2787, 740, 741, 743, 2798, 2800, 752, 754, 2803, 757, 2805, 760, 762, 2812, 2814, 769, 2819, 2820, 774, 775, 778, 779, 2828, 781, 782, 783, 2832, 2833, 788, 791, 793, 794, 2844, 2845, 798, 805, 806, 2854, 808, 809, 2858, 2859, 2856, 816, 817, 2866, 819, 2868, 2869, 821, 2872, 2875, 828, 2879, 834, 2888, 841, 840, 2894, 848, 2897, 850, 852, 2901, 2902, 2903, 2906, 858, 2908, 2909, 2907, 863, 2914, 866, 869, 2918, 2921, 873, 2931, 887, 2937, 891, 2941, 895, 2946, 900, 2948, 2950, 2951, 905, 2958, 2963, 916, 917, 923, 2971, 924, 2975, 929, 935, 938, 939, 2991, 944, 2993, 947, 2998, 950, 953, 3003, 957, 958, 3011, 3015, 3021, 974, 3024, 3027, 3028, 3029, 983, 3036, 3038, 991, 994, 995, 3044, 3045, 998, 3047, 1000, 3053, 3054, 3055, 3056, 3059, 1012, 1014, 1016, 3067, 3069, 1022, 1023, 1024, 1025, 1026, 3075, 3076, 1027, 1031, 3081, 3082, 3085, 3087, 1040, 3099, 1057, 3106, 1060, 1061, 3116, 3119, 3120, 1073, 1074, 3127, 1082, 1083, 1084, 1085, 3134, 1089, 1091, 3141, 3144, 1101, 1102, 1103, 1104, 3152, 1107, 1111, 1113, 3162, 3163, 3161, 3166, 3169, 1121, 1123, 3174, 1126, 3175, 1130, 3178, 1132, 1133, 3179, 1135, 3186, 3187, 1141, 1143, 3192, 3191, 3194, 3196, 3197, 3198, 1148, 1152, 3201, 1157, 1158, 1162, 1163, 3211, 3214, 3215, 3217, 3220, 3221, 1174, 1175, 3225, 3229, 3230, 1182, 1184, 3232, 1186, 1192, 3241, 3242, 1193, 1194, 1200, 1204, 3253, 3254, 3255, 1207, 3257, 1209, 1216, 3270, 1224, 3274, 3275, 3276, 1229, 1230, 1232, 1237, 3287, 3290, 1245, 3294, 3298, 3300, 3301, 1254, 3304, 3305, 1259, 1260, 3309, 3311, 1264, 1268, 1271, 1277, 3325, 1279, 1280, 1283, 3333, 1289, 1291, 1297, 1299, 3347, 1300, 1302, 1307, 3355, 3357, 3356, 1312, 1314, 3363, 3362, 1317, 3366, 1323, 1324, 3373, 1331, 1332, 1334, 1335, 1339, 3387, 3389, 3390, 1342, 3394, 1347, 1349, 3399, 1353, 3401, 1355, 3407, 3409, 3413, 1367, 1368, 3418, 1371, 1372, 1373, 3421, 3420, 3424, 3426, 1381, 3429, 3431, 1384, 3432, 3433, 1387, 1389, 3439, 1392, 3441, 3445, 1401, 1405, 1407, 3457, 1412, 1414, 3462, 3465, 3475, 3477, 3479, 3483, 1438, 3486, 1443, 3494, 3498, 3502, 3503, 1458, 3506, 1462, 1463, 1466, 1467, 3515, 3518, 1470, 1475, 1480, 1481, 3529, 1484, 3533, 3534, 3536, 3537, 1489, 3544, 3545, 3546, 1500, 3550, 1505, 1506, 3555, 3556, 1509, 1513, 1514, 3563, 1516, 1515, 3565, 3567, 1520, 3569, 1523, 1526, 3574, 1527, 3575, 1535, 1536, 3585, 3583, 3588, 1542, 1544, 1547, 3596, 1549, 3598, 1552, 1553, 3602, 1557, 1561, 1562, 3614, 3616, 3618, 3619, 1570, 3628, 1581, 3630, 3633, 3638, 1592, 3641, 3642, 3650, 3653, 1606, 1612, 3663, 1616, 1617, 1628, 1629, 3677, 1632, 1634, 1635, 1637, 1641, 3691, 1645, 1646, 3694, 3695, 3697, 1649, 1651, 3700, 1650, 1654, 1648, 3704, 1656, 3702, 3710, 3711, 3714, 1667, 3717, 3718, 1669, 3720, 1674, 1676, 3724, 3726, 1679, 3728, 3735, 3736, 1689, 1690, 1691, 1692, 3742, 3744, 3746, 1698, 3748, 3749, 1701, 1703, 3751, 1704, 3755, 1709, 1710, 3758, 1712, 3761, 3764, 3768, 3770, 1725, 1731, 1733, 3782, 3784, 1736, 3786, 1740, 1741, 3790, 3791, 1744, 1745, 3795, 3796, 3797, 1748, 3799, 1752, 1749, 3798, 1755, 3804, 1758, 3807, 3808, 3815, 1767, 3820, 1773, 1772, 1776, 1777, 1778, 1779, 3827, 3829, 3825, 3831, 3834, 1786, 1789, 1790, 3841, 1794, 1793, 3845, 1799, 3848, 1802, 3851, 1804, 3855, 3856, 1810, 3862, 1818, 3869, 3870, 1823, 1826, 1827, 3876, 1828, 3878, 1832, 1833, 1834, 3880, 3883, 3886, 3889, 1843, 1845, 3895, 3897, 3900, 1856, 1859, 1864, 1866, 1867, 1871, 1874, 1880, 1884, 1888, 1897, 1899, 1908, 1914, 1923, 1937, 1939, 1942, 1947, 1951, 1953, 1954, 1955, 1956, 1957, 1967, 1971, 1972, 1983, 1987, 1989, 1990, 1995, 1997, 2001, 2004, 2008, 2009, 2013, 2023, 2028, 2033, 2034, 2035, 2037, 2043, 2047}\n"
     ]
    }
   ],
   "source": [
    "print(\"Stratum 1 sample:\", sample1)"
   ]
  },
  {
   "cell_type": "markdown",
   "metadata": {},
   "source": [
    "# Find ballots using ballot manifest"
   ]
  },
  {
   "cell_type": "markdown",
   "metadata": {},
   "source": [
    "# Should more ballots be audited?"
   ]
  },
  {
   "cell_type": "code",
   "execution_count": 2,
   "metadata": {
    "collapsed": false
   },
   "outputs": [
    {
     "data": {
      "text/plain": [
       "30"
      ]
     },
     "metadata": {},
     "output_type": "display_data"
    }
   ],
   "source": [
    "def f(x):\n",
    "    return x\n",
    "\n",
    "interact(f, x=10);"
   ]
  }
 ],
 "metadata": {
  "kernelspec": {
   "display_name": "Python 3",
   "language": "python",
   "name": "python3"
  },
  "language_info": {
   "codemirror_mode": {
    "name": "ipython",
    "version": 3
   },
   "file_extension": ".py",
   "mimetype": "text/x-python",
   "name": "python",
   "nbconvert_exporter": "python",
   "pygments_lexer": "ipython3",
   "version": "3.4.3"
  },
  "widgets": {
   "state": {
    "7a845178c7394ecaa72de979036a032c": {
     "views": [
      {
       "cell_index": 3
      }
     ]
    },
    "8d019dc0d8cb4394bd4b9d120679136f": {
     "views": [
      {
       "cell_index": 7
      }
     ]
    }
   },
   "version": "1.2.0"
  }
 },
 "nbformat": 4,
 "nbformat_minor": 2
}
