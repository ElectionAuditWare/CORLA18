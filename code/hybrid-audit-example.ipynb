{
 "cells": [
  {
   "cell_type": "code",
   "execution_count": 12,
   "metadata": {
    "collapsed": true
   },
   "outputs": [],
   "source": [
    "from __future__ import division\n",
    "import math\n",
    "import numpy as np\n",
    "import numpy.random\n",
    "import scipy as sp\n",
    "import scipy.stats\n",
    "from scipy.optimize import minimize_scalar"
   ]
  },
  {
   "cell_type": "markdown",
   "metadata": {},
   "source": [
    "# Example of a hybrid audit\n",
    "\n",
    "Suppose we have two strata, CVR counties and non-CVR counties.\n",
    "There were 10,000 ballots cast in the election, 90% (9000) in the CVR stratum and 10% (1000) in the non-CVR stratum.\n",
    "\n",
    "We're interested in a contest between winner $w$ and loser $l$ that appears on 50% of ballots (5000). Suppose the contest was reported exactly correctly: $w$ received 2,600 votes and $\\ell$ received 2,400. This is a diluted margin of $2\\%$ and a raw margin of 200 ballots.\n",
    "\n",
    "For $\\lambda \\in [0,1]$, the outcome of the election was called correctly if the overstatement of the margin in the CVR stratum is less than $200\\lambda$ votes and if the overstatement of the margin in the non-CVR stratum is less than $200(1-\\lambda)$ votes. For this example, we'll set $\\lambda = 0.9$ to reflect the sizes of the two strata.\n",
    "\n",
    "We'd like to limit the audit risk to $\\alpha=10\\%$. We divide risk unequally between the two strata: $\\alpha_1 = 3\\%$ in the CVR stratum and $\\alpha_2 = 7\\%$ in the non-CVR stratum.\n",
    "\n",
    "We do this by testing the following null hypotheses:\n",
    "* in the CVR stratum, test the null that the overstatment is less than $200\\lambda$ at risk level $\\alpha_1$ using a ballot comparison test\n",
    "* in the non-CVR stratum, test the null that the overstatment is less than $200(1-\\lambda)$ at risk level $\\alpha_2$ using a ballot polling test\n",
    "\n"
   ]
  },
  {
   "cell_type": "code",
   "execution_count": 2,
   "metadata": {
    "collapsed": true
   },
   "outputs": [],
   "source": [
    "lambda1 = 0.9\n",
    "lambda2 = 1-lambda1\n",
    "alpha1 = 0.03\n",
    "alpha2 = 0.07\n",
    "margin = 200\n",
    "N1 = 9000\n",
    "N2 = 1000"
   ]
  },
  {
   "cell_type": "markdown",
   "metadata": {},
   "source": [
    "# CVR stratum\n",
    "\n",
    "Below, we compute the sample size needed to confirm the election outcome, for varying rates of errors in the population of ballots.\n",
    "\n",
    "We take the chosen $\\lambda$ from above and plug it in as the parameter `null_lambda` in the function below.\n",
    "\n",
    "We set $\\gamma = 1.03905$ as in \"A Gentle Introduction to Risk-limiting Audits\"."
   ]
  },
  {
   "cell_type": "code",
   "execution_count": 5,
   "metadata": {
    "collapsed": true
   },
   "outputs": [],
   "source": [
    "def findNmin_ballot_comparison_rates(alpha, gamma, r1, s1, r2, s2,\n",
    "                                reported_margin, N, null_lambda=1):\n",
    "\n",
    "    \"\"\"\n",
    "    Compute the smallest sample size for which a ballot comparison \n",
    "    audit with the given statistics could stop\n",
    "    \n",
    "    Parameters\n",
    "    ----------\n",
    "    alpha : float\n",
    "        risk limit\n",
    "    gamma : float\n",
    "        value > 1 to inflate the allowable error\n",
    "    r1 : int\n",
    "        rate of ballots that overstate any \n",
    "        margin by one vote but no margin by two votes\n",
    "    s1 : int\n",
    "        rate of ballots that understate any margin by \n",
    "        exactly one vote, and every margin by at least one vote\n",
    "    r2 : int\n",
    "        rate of ballots that overstate any margin by two votes\n",
    "    s2 : int\n",
    "        rate of ballots that understate every margin by two votes\n",
    "    reported_margin : float\n",
    "        the smallest reported margin *in votes* between a winning\n",
    "        and losing candidate\n",
    "    N : int\n",
    "        number of votes cast\n",
    "    null_lambda : float\n",
    "        value that describes the null difference between reported and actual votes\n",
    "        \n",
    "    Returns\n",
    "    -------\n",
    "    n\n",
    "    \"\"\"\n",
    "    m = (reported_margin/null_lambda)/N\n",
    "\n",
    "    denom = (np.log(1 - m/(2*gamma)) -\n",
    "                r1*np.log(1 - 1/(2*gamma))- \\\n",
    "                r2*np.log(1 - 1/gamma) - \\\n",
    "                s1*np.log(1 + 1/(2*gamma)) - \\\n",
    "                s2*np.log(1 + 1/gamma) )\n",
    "    if denom < 0:\n",
    "        n0 = np.log(alpha)/denom\n",
    "    else:\n",
    "        n0 = N\n",
    "    return int(n0)"
   ]
  },
  {
   "cell_type": "code",
   "execution_count": 6,
   "metadata": {
    "collapsed": false
   },
   "outputs": [
    {
     "data": {
      "text/plain": [
       "293"
      ]
     },
     "execution_count": 6,
     "metadata": {},
     "output_type": "execute_result"
    }
   ],
   "source": [
    "# Assuming that the audit will find no errors\n",
    "findNmin_ballot_comparison_rates(alpha=alpha1, gamma=1.03905, \n",
    "                                r1=0, s1=0, r2=0, s2=0,\n",
    "                                reported_margin=200, N=N1, null_lambda=lambda1)"
   ]
  },
  {
   "cell_type": "code",
   "execution_count": 8,
   "metadata": {
    "collapsed": false
   },
   "outputs": [
    {
     "data": {
      "text/plain": [
       "650"
      ]
     },
     "execution_count": 8,
     "metadata": {},
     "output_type": "execute_result"
    }
   ],
   "source": [
    "# Assuming that the audit will find 1-vote overstatements at rate 1%\n",
    "findNmin_ballot_comparison_rates(alpha=alpha1, gamma=1.03905, \n",
    "                                r1=0.01, s1=0, r2=0, s2=0,\n",
    "                                reported_margin=200, N=N1, null_lambda=lambda1)"
   ]
  },
  {
   "cell_type": "code",
   "execution_count": 9,
   "metadata": {
    "collapsed": false
   },
   "outputs": [
    {
     "data": {
      "text/plain": [
       "220"
      ]
     },
     "execution_count": 9,
     "metadata": {},
     "output_type": "execute_result"
    }
   ],
   "source": [
    "# Assuming that the audit will find 1-vote understatements at rate 1%\n",
    "findNmin_ballot_comparison_rates(alpha=alpha1, gamma=1.03905, \n",
    "                                r1=0, s1=0.01, r2=0, s2=0,\n",
    "                                reported_margin=200, N=N1, null_lambda=lambda1)"
   ]
  },
  {
   "cell_type": "markdown",
   "metadata": {},
   "source": [
    "# Non-CVR stratum\n",
    "\n",
    "Below, we compute the sample size needed to confirm the election outcome, for varying sample size $n$.\n",
    "\n",
    "Define\n",
    "$$\n",
    "    c = \\text{reported margin in the stratum } - \\lambda_2 \\text{overall reported margin}.\n",
    "$$\n",
    "\n",
    "The reported margin in the stratum could be large or small, but it is known. Below, we will vary it just to see the effect.\n",
    "\n",
    "$c$ defines the null hypothesis. We test the null that the actual margin in the stratum is less than or equal to $c$: $A_{w, 2} - A_{\\ell, 2} \\leq c$. Here, $A_{w, 2}$ is an unknown nuisance parameter.\n",
    "\n",
    "In practice, we will maximize the $p$-value over all possible values of $A_{w,2}$ and $A_{\\ell, 2}$ under the null."
   ]
  },
  {
   "cell_type": "code",
   "execution_count": 10,
   "metadata": {
    "collapsed": true
   },
   "outputs": [],
   "source": [
    "def diluted_margin_trihyper_conditional(w, l, n, N_w, N_l, N):\n",
    "    pvalue = 0\n",
    "    delta = w-l\n",
    "    n_wl = w+l\n",
    "    N_u = N-N_w-N_l\n",
    "    for ww in range(w, n+1):\n",
    "        if ww > N_w or (n_wl - ww) > N_l or (n_wl - ww) < 0:\n",
    "            continue\n",
    "        pvalue += sp.misc.comb(N_w, ww)*sp.misc.comb(N_l, n_wl - ww)\n",
    "    return pvalue*sp.misc.comb(N_u, n-n_wl)/sp.misc.comb(N, n)\n",
    "\n",
    "\n",
    "def trihypergeometric_optim(sample, popsize, null_margin, distr = \"conditional\"):\n",
    "    '''\n",
    "    Wrapper function for p-value calculations using the tri-hypergeometric distribution.\n",
    "    \n",
    "    distr = \"tri-hypergeometric\" or \"conditional\"\n",
    "    '''\n",
    "    \n",
    "    w = sum(sample==1)\n",
    "    l = sum(sample==0)\n",
    "    n = len(sample)\n",
    "    u = n-w-l    \n",
    "\n",
    "    # maximize p-value over N_wl\n",
    "    if distr == \"tri-hypergeometric\":\n",
    "        optim_fun = lambda N_w: -1*diluted_margin_trihypergeometric(w, l, n, N_w, N_w-null_margin, popsize)\n",
    "        upper_WL_limit = (popsize-u+null_margin)/2\n",
    "        lower_WL_limit = w\n",
    "    \n",
    "        res = minimize_scalar(optim_fun, \n",
    "                          bounds = [lower_WL_limit, upper_WL_limit], \n",
    "                          method = 'bounded')\n",
    "    elif distr == \"conditional\":\n",
    "        optim_fun = lambda N_w: -1*diluted_margin_trihyper_conditional(w, l, n, N_w, N_w-null_margin, popsize)\n",
    "        upper_WL_limit = (popsize-u+null_margin)/2\n",
    "        lower_WL_limit = w\n",
    "    \n",
    "        res = minimize_scalar(optim_fun, \n",
    "                          bounds = [lower_WL_limit, upper_WL_limit], \n",
    "                          method = 'bounded')\n",
    "    else:\n",
    "        raise ValueError(\"bad distr arg\")\n",
    "    pvalue = -1*res['fun']\n",
    "    return pvalue"
   ]
  },
  {
   "cell_type": "code",
   "execution_count": 13,
   "metadata": {
    "collapsed": false
   },
   "outputs": [
    {
     "data": {
      "text/plain": [
       "0.036982082644177891"
      ]
     },
     "execution_count": 13,
     "metadata": {},
     "output_type": "execute_result"
    }
   ],
   "source": [
    "# Assuming that the audit finds exactly the right vote proportions\n",
    "# and that the stratum reported margin (in percentages) equals the overall\n",
    "# sample size = 100, 10% of the stratum size.\n",
    "\n",
    "sample = np.array([0]*24 + [1]*26 + [np.nan]*50)\n",
    "c = 0.02*N2 - lambda2*margin\n",
    "trihypergeometric_optim(sample, popsize=N2, null_margin=c, distr=\"conditional\")"
   ]
  },
  {
   "cell_type": "code",
   "execution_count": 16,
   "metadata": {
    "collapsed": false
   },
   "outputs": [
    {
     "data": {
      "text/plain": [
       "0.032104460018494638"
      ]
     },
     "execution_count": 16,
     "metadata": {},
     "output_type": "execute_result"
    }
   ],
   "source": [
    "# Assuming that the audit finds exactly the right vote proportions\n",
    "# and that the stratum reported margin is 1% -- less than the overall\n",
    "# sample size = 100, 10% of the stratum size.\n",
    "\n",
    "sample = np.array([0]*24 + [1]*26 + [np.nan]*50)\n",
    "c = 0.01*N2 - lambda2*margin\n",
    "trihypergeometric_optim(sample, popsize=N2, null_margin=c, distr=\"conditional\")"
   ]
  },
  {
   "cell_type": "code",
   "execution_count": 17,
   "metadata": {
    "collapsed": false
   },
   "outputs": [
    {
     "data": {
      "text/plain": [
       "0.051873249394131002"
      ]
     },
     "execution_count": 17,
     "metadata": {},
     "output_type": "execute_result"
    }
   ],
   "source": [
    "# Assuming that the audit finds exactly the right vote proportions\n",
    "# and that the stratum reported margin is 5% -- greater than the overall\n",
    "# sample size = 100, 10% of the stratum size.\n",
    "\n",
    "sample = np.array([0]*24 + [1]*26 + [np.nan]*50)\n",
    "c = 0.05*N2 - lambda2*margin\n",
    "trihypergeometric_optim(sample, popsize=N2, null_margin=c, distr=\"conditional\")"
   ]
  }
 ],
 "metadata": {
  "kernelspec": {
   "display_name": "Python 3",
   "language": "python",
   "name": "python3"
  },
  "language_info": {
   "codemirror_mode": {
    "name": "ipython",
    "version": 3
   },
   "file_extension": ".py",
   "mimetype": "text/x-python",
   "name": "python",
   "nbconvert_exporter": "python",
   "pygments_lexer": "ipython3",
   "version": "3.4.3"
  }
 },
 "nbformat": 4,
 "nbformat_minor": 2
}
