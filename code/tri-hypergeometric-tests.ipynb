{
 "cells": [
  {
   "cell_type": "code",
   "execution_count": 1,
   "metadata": {
    "collapsed": true
   },
   "outputs": [],
   "source": [
    "from __future__ import division\n",
    "import math\n",
    "import numpy as np\n",
    "import numpy.random\n",
    "import scipy as sp\n",
    "import scipy.stats\n",
    "from scipy.optimize import minimize_scalar\n",
    "from permute.utils import hypergeom_conf_interval\n",
    "import itertools\n",
    "\n",
    "%matplotlib inline\n",
    "import matplotlib\n",
    "import matplotlib.pyplot as plt\n"
   ]
  },
  {
   "cell_type": "markdown",
   "metadata": {},
   "source": [
    "# Tri-hypergeometric test using the diluted margin as the test statistic\n",
    "\n",
    "We will sample individual ballots without replacement from a population of $N$ ballots, of which\n",
    "$N_w$ ballots have a vote for $w$ but not for $\\ell$, $N_\\ell$ ballots have a vote for $\\ell$ but not for $w$, and $N_u = N - N_w - N_\\ell$ ballots have votes for both $w$ and $\\ell$ or neither $w$ nor $\\ell$, including undervotes and invalid ballots.\n",
    "We might draw a simple random sample of $n$ ballots ($n$ fixed ahead of time), or we might draw \n",
    "sequentially, so the sample size $B$ could be random, including stopping rules that depend on the data.\n",
    "\n",
    "Regardless, we assume that, conditional on the attained sample size $n$, the ballots are a simple random sample\n",
    "of size $n$ from the $N$ ballots in the population.\n",
    "Then, conditional on $B=n$, the joint distribution of\n",
    "$(B_w, B_\\ell, B_u)$ is tri-hypergeometric.\n",
    "\n",
    "That is,\n",
    "\n",
    "\\begin{equation}\n",
    "    \\mathbb{P}_{N_w, N_\\ell, N} \\{ B_w = i, B_\\ell = j \\vert B=n \\} = \n",
    "     \\frac{ {N_w \\choose i}{N_\\ell \\choose j}{N - N_w - N_\\ell \\choose n-i-j}}{{N \\choose n}}.\n",
    "\\end{equation}\n",
    "\n",
    "To test, we will condition on the event $B=n$. (In contrast, the BRAVO ballot-polling\n",
    "method conditions on $B_w+B_\\ell = m$;\n",
    "we might instead consider conditioning on $B=n$ _and_ $B_w + B_\\ell = m$.)\n",
    "The test statistic will be the diluted sample margin, $D \\equiv (B_w - B_\\ell)/B$.\n",
    "This is the sample difference in the number of ballots for the winner and for the loser, divided by the \n",
    "total number of ballots in the sample.\n",
    "We want to test the compound hypothesis $N_w - N_\\ell \\le c$ against the compound alternative\n",
    "$N_w - N_\\ell > c$.\n",
    "(To use Wald's Sequential Probability Ratio Test, we might pick a simple alternative instead, e.g.,\n",
    "$N_w = V_w$ and $N_\\ell = V_\\ell$, the reported values, assuming $V_w - V_\\ell > c$.)\n",
    "Hence, we will reject for large values of $D$.\n",
    "Conditional on $B=n$, the event $D = (B_w - B_\\ell)/B = d$ is the event $B_w - B_\\ell = nd$.\n",
    "\n",
    "Suppose we observe $D=d$.\n",
    "The $p$-value of the simple hypothesis that there are $N_w$ ballots with\n",
    "a vote for $w$ but not for $\\ell$, $N_\\ell$ ballots with a vote for $\\ell$ but not for $w$, and $N - N_w - N_\\ell$ ballots with votes for both $w$ and $\\ell$ or neither $w$ nor $\\ell$ (including undervotes and\n",
    "invalid ballots) is\n",
    "\n",
    "\\begin{equation}\n",
    "   \\mathbb{P}_{N_w, N_\\ell, N} \\left \\{ D \\geq d \\vert B = n \\right \\} = \n",
    "   \\mathbb{P}_{N_w, N_\\ell, N}\\{ B_w - B_\\ell \\geq nd \\vert B = n \\} =\n",
    "   \\sum_{(i, j) : i - j \\geq nd; i+j \\leq n; i, j\\geq 0} \n",
    "         \\frac{ {N_w \\choose i}{N_\\ell \\choose j}{N - N_w - N_\\ell \\choose n-i-j}}{{N \\choose n}}.\n",
    "\\end{equation}\n",
    "Below we show empirically (but do not prove) that this tail probability is monotone increasing in $N_w$.\n",
    "\n",
    "This expression can be simplified for numerical stability:\n",
    "\n",
    "\\begin{equation}\n",
    "\\frac{ {N_w \\choose i}{N_\\ell \\choose j}{N - N_w - N_\\ell \\choose n-i-j}}{{N \\choose n}} =\n",
    "  \\frac{ N_w! N_\\ell! (N - N_w - N_\\ell)! n! (N-n)!}\n",
    "       {i! (N_w-i)! j! (N_\\ell - j)! (n-i-j)! (N - N_w - N_\\ell - n +i+j)! N!}\n",
    "\\end{equation}\n",
    "\n",
    "The composite null hypothesis does not specify $N_w$ or $N_\\ell$ separately, only that $N_w - N_\\ell \\le c$ for\n",
    "some fixed, known $c$.\n",
    "The (conditional) $p$-value of this composite hypothesis for $D=d$ is\n",
    "\\begin{equation}\n",
    "  \\max_{N_w, N_\\ell \\in \\{0, 1, \\ldots, N \\}: N_w - N_\\ell \\le c, N_w + N_\\ell \\le N}\n",
    "   \\sum_{(i, j) : i - j \\geq nd; i+j \\leq n; i, j\\geq 0} \n",
    "         \\frac{ {N_w \\choose i}{N_\\ell \\choose j}{N - N_w - N_\\ell \\choose n-i-j}}{{N \\choose n}},\n",
    "\\end{equation}\n",
    "wherever the summand is defined. \n",
    "(Equivalently, define ${N \\choose M} \\equiv 0$ if $M > N$, $M < 0$, or $N \\le 0$.)\n",
    "If the empirical result mentioned above is true, then finding the maximum is trivial; if not,\n",
    "it is still at most a one-dimensional optimization problem.\n",
    "\n",
    "\n",
    "## a mathematical digression\n",
    "<span style=\"color: red;\">We could condition on $B$ and $B_w + B_\\ell$, which would give us a binomial... Worth trying? Any intuitive argument for why it would be better or worse? Might make using SPRT easier. PBS</span>\n",
    "\n",
    "\n",
    "Suppose we condition on both $B$ and $B_w + B_\\ell$.\n",
    "Define $n_{w\\ell} \\equiv n_w + n_\\ell$.\n",
    "The $p$-value for the simple hypothesis stated above is now\n",
    "\\begin{align*}\n",
    "   \\mathbb{P}_{N_w, N_\\ell, N} \\left \\{ D \\geq d \\vert B = n, B_w+B_\\ell=n_{w\\ell} \\right \\} &= \n",
    "   \\mathbb{P}_{N_w, N_\\ell, N}\\{ B_w - B_\\ell \\geq nd \\vert B = n,  B_w+B_\\ell=n_{w\\ell} \\} \\\\\n",
    "   &=  \\sum_{ i \\geq \\frac{nd+n_{w\\ell}}{2}} \n",
    "         \\frac{ {N_w \\choose i}{N_\\ell \\choose n_{w\\ell}-i}{N - N_w - N_\\ell \\choose n-n_{w\\ell}}}{{N \\choose n}} \\\\\n",
    "   &=   \\frac{ {N - N_w - N_\\ell \\choose n-n_{w\\ell}}}{{N \\choose n}} \\sum_{ i \\geq \\frac{nd+n_{w\\ell}}{2}} \n",
    "         {N_w \\choose i}{N_\\ell \\choose n_{w\\ell}-i}.\n",
    "\\end{align*}"
   ]
  },
  {
   "cell_type": "code",
   "execution_count": 2,
   "metadata": {
    "collapsed": true
   },
   "outputs": [],
   "source": [
    "def diluted_margin_trihypergeometric(w, l, n, N_w, N_l, N):\n",
    "    pvalue = 0\n",
    "    N_u = N-N_w-N_l\n",
    "    for ww in range(w-l, n+1):\n",
    "        tmp = 0\n",
    "        for ll in range(0, ww-w+l+1):\n",
    "            if ww+ll > n:\n",
    "                break\n",
    "            else:\n",
    "                tmp += sp.misc.comb(N_l, ll)*sp.misc.comb(N_u, n-ww-ll)\n",
    "        pvalue += tmp * sp.misc.comb(N_w, ww)\n",
    "    return pvalue/sp.misc.comb(N, n)\n",
    "\n",
    "\n",
    "def diluted_margin_trihypergeometric2(w, l, n, N_w, N_l, N):\n",
    "    pairs = itertools.product(range(n+1), range(n+1))\n",
    "    pairs = itertools.filterfalse(lambda y: sum(y) > n, pairs)\n",
    "    pairs = itertools.filterfalse(lambda y: y[0] - y[1] < (w-l), pairs)\n",
    "    pvalue = 0\n",
    "    N_u = N-N_w-N_l\n",
    "    for p in pairs:\n",
    "        if p[0] > N_w or p[1] > N_l or n-p[0]-p[1]>N_u:\n",
    "            continue\n",
    "        pvalue += sp.misc.comb(N_w, p[0])*sp.misc.comb(N_l, p[1])*sp.misc.comb(N_u, n-p[0]-p[1])\n",
    "    return pvalue/sp.misc.comb(N, n)\n",
    "\n",
    "\n",
    "def diluted_margin_trihyper_conditional(w, l, n, N_w, N_l, N):\n",
    "    pvalue = 0\n",
    "    delta = w-l\n",
    "    n_wl = w+l\n",
    "    N_u = N-N_w-N_l\n",
    "    for ww in range(w, n+1):\n",
    "        if ww > N_w or (n_wl - ww) > N_l or (n_wl - ww) < 0:\n",
    "            continue\n",
    "        pvalue += sp.misc.comb(N_w, ww)*sp.misc.comb(N_l, n_wl - ww)\n",
    "    return pvalue*sp.misc.comb(N_u, n-n_wl)/sp.misc.comb(N, n)\n",
    "\n",
    "\n",
    "\n"
   ]
  },
  {
   "cell_type": "code",
   "execution_count": 3,
   "metadata": {
    "collapsed": false
   },
   "outputs": [],
   "source": [
    "# Unit tests\n",
    "\n",
    "def test_find_pairs():\n",
    "    # example: w=2, l=1, n=3\n",
    "    pairs = itertools.product(range(3+1), range(3+1))\n",
    "    pairs = itertools.filterfalse(lambda y: sum(y) > 3, pairs)\n",
    "    pairs = itertools.filterfalse(lambda y: y[0] - y[1] < (2-1), pairs)\n",
    "    expected_p = [(1, 0), (2, 0), (2, 1), (3, 0)]\n",
    "    assert list(pairs)==expected_p\n",
    "    \n",
    "    # example: w=4, l=1, n=5\n",
    "    pairs = itertools.product(range(5+1), range(5+1))\n",
    "    pairs = itertools.filterfalse(lambda y: sum(y) > 5, pairs)\n",
    "    pairs = itertools.filterfalse(lambda y: y[0] - y[1] < (4-1), pairs)\n",
    "    expected_p = [(3, 0), (4, 0), (4, 1), (5, 0)]\n",
    "    assert list(pairs)==expected_p\n",
    "    \n",
    "    \n",
    "def test_diluted_margin_pvalue():\n",
    "    # example 1: w=2, l=1, n=3, W=L=U=2\n",
    "    t1 = 2*1*1/sp.misc.comb(6, 3) # w=1, l=0, u=2\n",
    "    t2 = 1*1*2/sp.misc.comb(6, 3) # w=2, l=0, u=1\n",
    "    t3 = 1*2*1/sp.misc.comb(6, 3) # w=2, l=1, u=0\n",
    "    t4 = 0                        # w=3, l=0, u=0\n",
    "    np.testing.assert_almost_equal(diluted_margin_trihypergeometric(2, 1, 3, 2, 2, 6), t1+t2+t3+t4)\n",
    "    np.testing.assert_almost_equal(diluted_margin_trihypergeometric2(2, 1, 3, 2, 2, 6), t1+t2+t3+t4)\n",
    "    \n",
    "    # example 2: w=4, l=1, n=5, W=5, L=U=2\n",
    "    t1 = sp.misc.comb(5, 3)*1*1/sp.misc.comb(9, 5) # w=3, l=0, u=2\n",
    "    t2 = sp.misc.comb(5, 4)*1*2/sp.misc.comb(9, 5) # w=4, l=0, u=1\n",
    "    t3 = sp.misc.comb(5, 4)*2*1/sp.misc.comb(9, 5) # w=4, l=1, u=0\n",
    "    t4 = 1*1*1/sp.misc.comb(9, 5)                  # w=5, l=0, u=0\n",
    "    np.testing.assert_almost_equal(diluted_margin_trihypergeometric(4, 1, 5, 5, 2, 9), t1+t2+t3+t4)\n",
    "    np.testing.assert_almost_equal(diluted_margin_trihypergeometric2(4, 1, 5, 5, 2, 9), t1+t2+t3+t4)\n",
    "\n",
    "def test_diluted_margin_trihyper_conditional():\n",
    "    # example 1: w=2, l=1, n=3, W=L=U=2\n",
    "    t3 = 1*2*1/sp.misc.comb(6, 3) # w=2, l=1, u=0\n",
    "    t4 = 0                        # w=3, l=0, u=0\n",
    "    np.testing.assert_almost_equal(diluted_margin_trihyper_conditional(2, 1, 3, 2, 2, 6), t3+t4)\n",
    "    np.testing.assert_almost_equal(diluted_margin_trihyper_conditional(2, 1, 3, 2, 2, 6), t3+t4)\n",
    "\n",
    "    # example 1: w=2, l=1, n=3, W=L=U=2\n",
    "    hyper_prob = sp.stats.hypergeom.sf(2 - 1, 4, 2, 3) # decrement w by one to include the endpoint\n",
    "    factor = sp.misc.comb(4, 3)*sp.misc.comb(2, 0)/sp.misc.comb(6, 3)\n",
    "    np.testing.assert_almost_equal(diluted_margin_trihyper_conditional(2, 1, 3, 2, 2, 6), hyper_prob*factor)\n",
    "    \n",
    "    # example 2: w=4, l=1, n=5, W=5, L=U=2\n",
    "    t3 = sp.misc.comb(5, 4)*2*1/sp.misc.comb(9, 5) # w=4, l=1, u=0\n",
    "    t4 = 1*1*1/sp.misc.comb(9, 5)                  # w=5, l=0, u=0\n",
    "    np.testing.assert_almost_equal(diluted_margin_trihyper_conditional(4, 1, 5, 5, 2, 9), t3+t4)\n",
    "    np.testing.assert_almost_equal(diluted_margin_trihyper_conditional(4, 1, 5, 5, 2, 9), t3+t4)\n",
    "\n",
    "    # example 2.5: w=4, l=1, n=5, W=5, L=U=2\n",
    "    hyper_prob = sp.stats.hypergeom.sf(4 - 1, 7, 5, 5)\n",
    "    factor = sp.misc.comb(7, 5)*sp.misc.comb(2, 0)/sp.misc.comb(9, 5)\n",
    "    np.testing.assert_almost_equal(diluted_margin_trihyper_conditional(4, 1, 5, 5, 2, 9), hyper_prob*factor)\n",
    "    \n",
    "    # example 3: w=10, l=8, n=30, W=30, L=20, U=50\n",
    "    hyper_prob = sp.stats.hypergeom.sf(10 - 1, 30 + 20, 30, 18)\n",
    "    factor = sp.misc.comb(50, 18)*sp.misc.comb(50, 12)/sp.misc.comb(100, 30)\n",
    "    np.testing.assert_almost_equal(diluted_margin_trihyper_conditional(10, 8, 30, 30, 20, 100), hyper_prob*factor)\n",
    "    \n",
    "test_find_pairs()\n",
    "test_diluted_margin_pvalue()\n",
    "test_diluted_margin_trihyper_conditional()"
   ]
  },
  {
   "cell_type": "markdown",
   "metadata": {},
   "source": [
    "## Experiment 1 - few invalids\n",
    "\n",
    "Testing the hypothesis $\\pi_w - \\pi_\\ell \\leq 0$ -- the same as testing whether the winner and the loser got exactly the same vote share. This is in blue.\n",
    "Then we also test the hypotheses $N_w - N_\\ell \\leq 1$ (in green) and $N_w - N_\\ell \\leq 2$ (in red).\n",
    "\n",
    "Let $N = 100$, $n=30$, $n_w = 15$, $n_\\ell=10$, and $n_u = 5$.\n",
    "\n",
    "Below, we plot the $p$-values for varying values of $N_w$.\n",
    "\n",
    "The $p$-value is maximized for each contour at the largest possible value of $N_w$, and the contours have increasing $p$-values as the constant $N_w - N_\\ell$ decreases."
   ]
  },
  {
   "cell_type": "code",
   "execution_count": 4,
   "metadata": {
    "collapsed": false
   },
   "outputs": [
    {
     "data": {
      "text/plain": [
       "<matplotlib.text.Text at 0x1107d19e8>"
      ]
     },
     "execution_count": 4,
     "metadata": {},
     "output_type": "execute_result"
    },
    {
     "data": {
      "image/png": "[encoded data removed]",
      "text/plain": [
       "<matplotlib.figure.Figure at 0x1107b8be0>"
      ]
     },
     "metadata": {},
     "output_type": "display_data"
    }
   ],
   "source": [
    "pvalues = np.zeros(47)\n",
    "for B in range(47):\n",
    "    pvalues[B] = diluted_margin_trihypergeometric(w=15, l=10, n=30, N_w=B, N_l=B, N=100)\n",
    "\n",
    "pvalues2 = np.zeros(47)\n",
    "for B in range(47):\n",
    "    pvalues2[B] = diluted_margin_trihypergeometric(w=15, l=10, n=30, N_w=B+1, N_l=B, N=100)\n",
    "\n",
    "pvalues3 = np.zeros(47)\n",
    "for B in range(47):\n",
    "    pvalues3[B] = diluted_margin_trihypergeometric(w=15, l=10, n=30, N_w=B+2, N_l=B, N=100)\n",
    "    \n",
    "plt.plot(range(47), pvalues, 'blue', \n",
    "         range(1,48), pvalues2, 'green',\n",
    "         range(2,49), pvalues3, 'red')\n",
    "plt.xlabel(\"N_w\")\n",
    "plt.ylabel(\"p-value\")"
   ]
  },
  {
   "cell_type": "markdown",
   "metadata": {},
   "source": [
    "Run the same experiment using the tri-hypergeometric which conditions on $B = n$ and $B_w+B_\\ell = n_{w\\ell}$.\n",
    "This looks far more powerful but the $p$-value is no longer monotonic."
   ]
  },
  {
   "cell_type": "code",
   "execution_count": 5,
   "metadata": {
    "collapsed": false
   },
   "outputs": [
    {
     "data": {
      "text/plain": [
       "<matplotlib.text.Text at 0x1108f8cf8>"
      ]
     },
     "execution_count": 5,
     "metadata": {},
     "output_type": "execute_result"
    },
    {
     "data": {
      "image/png": "[encoded data removed]",
      "text/plain": [
       "<matplotlib.figure.Figure at 0x11080cac8>"
      ]
     },
     "metadata": {},
     "output_type": "display_data"
    }
   ],
   "source": [
    "pvalues = np.zeros(47)\n",
    "for B in range(47):\n",
    "    pvalues[B] = diluted_margin_trihyper_conditional(w=15, l=10, n=30, N_w=B, N_l=B, N=100)\n",
    "\n",
    "pvalues2 = np.zeros(47)\n",
    "for B in range(47):\n",
    "    pvalues2[B] = diluted_margin_trihyper_conditional(w=15, l=10, n=30, N_w=B+1, N_l=B, N=100)\n",
    "\n",
    "pvalues3 = np.zeros(47)\n",
    "for B in range(47):\n",
    "    pvalues3[B] = diluted_margin_trihyper_conditional(w=15, l=10, n=30, N_w=B+2, N_l=B, N=100)\n",
    "    \n",
    "plt.plot(range(47), pvalues, 'blue', \n",
    "         range(1,48), pvalues2, 'green',\n",
    "         range(2,49), pvalues3, 'red')\n",
    "plt.xlabel(\"N_w\")\n",
    "plt.ylabel(\"p-value\")"
   ]
  },
  {
   "cell_type": "markdown",
   "metadata": {},
   "source": [
    "## Experiment 2 - many invalids\n",
    "\n",
    "Testing the hypothesis $\\pi_w - \\pi_\\ell \\leq 0$ -- the same as testing whether the winner and the loser got exactly the same vote share. This is in blue.\n",
    "Then we also test the hypotheses $N_w - N_\\ell \\leq 1$ (in green) and $N_w - N_\\ell \\leq 2$ (in red).\n",
    "\n",
    "Let $N = 100$, $n=30$, $n_w = 8$, $n_\\ell=7$, and $n_u = 15$.\n",
    "\n",
    "Below, we plot the $p$-values for varying values of $N_w$.\n",
    "\n",
    "The $p$-value is maximized for each contour at the largest possible value of $N_w$, and the contours have increasing $p$-values as the constant $N_w - N_\\ell$ decreases."
   ]
  },
  {
   "cell_type": "code",
   "execution_count": 6,
   "metadata": {
    "collapsed": false
   },
   "outputs": [
    {
     "data": {
      "text/plain": [
       "<matplotlib.text.Text at 0x1108f3128>"
      ]
     },
     "execution_count": 6,
     "metadata": {},
     "output_type": "execute_result"
    },
    {
     "data": {
      "image/png": "[encoded data removed]",
      "text/plain": [
       "<matplotlib.figure.Figure at 0x110914470>"
      ]
     },
     "metadata": {},
     "output_type": "display_data"
    }
   ],
   "source": [
    "pvalues = np.zeros(47)\n",
    "for B in range(47):\n",
    "    pvalues[B] = diluted_margin_trihypergeometric(w=8, l=7, n=30, N_w=B, N_l=B, N=100)\n",
    "\n",
    "pvalues2 = np.zeros(47)\n",
    "for B in range(47):\n",
    "    pvalues2[B] = diluted_margin_trihypergeometric(w=8, l=7, n=30, N_w=B+1, N_l=B, N=100)\n",
    "\n",
    "pvalues3 = np.zeros(47)\n",
    "for B in range(47):\n",
    "    pvalues3[B] = diluted_margin_trihypergeometric(w=8, l=7, n=30, N_w=B+2, N_l=B, N=100)\n",
    "    \n",
    "plt.plot(range(47), pvalues, 'blue', \n",
    "         range(47), pvalues2, 'green',\n",
    "         range(47), pvalues3, 'red')\n",
    "plt.xlabel(\"N_w\")\n",
    "plt.ylabel(\"p-value\")"
   ]
  },
  {
   "cell_type": "markdown",
   "metadata": {},
   "source": [
    "Run the same experiment using the tri-hypergeometric which conditions on $B = n$ and $B_w+B_\\ell = n_{w\\ell}$.\n",
    "This looks far more powerful but the $p$-value is no longer monotonic."
   ]
  },
  {
   "cell_type": "code",
   "execution_count": 7,
   "metadata": {
    "collapsed": false
   },
   "outputs": [
    {
     "data": {
      "text/plain": [
       "<matplotlib.text.Text at 0x1109be080>"
      ]
     },
     "execution_count": 7,
     "metadata": {},
     "output_type": "execute_result"
    },
    {
     "data": {
      "image/png": "[encoded data removed]",
      "text/plain": [
       "<matplotlib.figure.Figure at 0x110a1ff60>"
      ]
     },
     "metadata": {},
     "output_type": "display_data"
    }
   ],
   "source": [
    "pvalues = np.zeros(47)\n",
    "for B in range(47):\n",
    "    pvalues[B] = diluted_margin_trihyper_conditional(w=8, l=7, n=30, N_w=B, N_l=B, N=100)\n",
    "\n",
    "pvalues2 = np.zeros(47)\n",
    "for B in range(47):\n",
    "    pvalues2[B] = diluted_margin_trihyper_conditional(w=8, l=7, n=30, N_w=B+1, N_l=B, N=100)\n",
    "\n",
    "pvalues3 = np.zeros(47)\n",
    "for B in range(47):\n",
    "    pvalues3[B] = diluted_margin_trihyper_conditional(w=8, l=7, n=30, N_w=B+2, N_l=B, N=100)\n",
    "    \n",
    "plt.plot(range(47), pvalues, 'blue', \n",
    "         range(47), pvalues2, 'green',\n",
    "         range(47), pvalues3, 'red')\n",
    "plt.xlabel(\"N_w\")\n",
    "plt.ylabel(\"p-value\")"
   ]
  },
  {
   "cell_type": "markdown",
   "metadata": {},
   "source": [
    "## Experiment 3\n",
    "\n",
    "Testing the hypothesis $\\pi_w - \\pi_\\ell = 0.1$ -- the same as $N_w - N_\\ell = 0.1N$.\n",
    "\n",
    "Let $N = 100$, $n=30$, $n_w = 15$, $n_\\ell=10$, and $n_u = 5$.\n",
    "\n",
    "Plot both diluted margin tri-hypergeometric $p$-values on the same grid. Clearly, the extra conditioning provides more power."
   ]
  },
  {
   "cell_type": "code",
   "execution_count": 8,
   "metadata": {
    "collapsed": false
   },
   "outputs": [
    {
     "data": {
      "text/plain": [
       "<matplotlib.text.Text at 0x110ba4e10>"
      ]
     },
     "execution_count": 8,
     "metadata": {},
     "output_type": "execute_result"
    },
    {
     "data": {
      "image/png": "[encoded data removed]",
      "text/plain": [
       "<matplotlib.figure.Figure at 0x1107cd898>"
      ]
     },
     "metadata": {},
     "output_type": "display_data"
    }
   ],
   "source": [
    "pvalues = np.zeros(42)\n",
    "for B in range(42):\n",
    "    pvalues[B] = diluted_margin_trihypergeometric(w=15, l=10, n=30, N_w=0.1*100 + B, N_l=B, N=100)\n",
    "    \n",
    "pvalues2 = np.zeros(42)\n",
    "for B in range(42):\n",
    "    pvalues2[B] = diluted_margin_trihyper_conditional(w=15, l=10, n=30, N_w=0.1*100 + B, N_l=B, N=100)\n",
    "    \n",
    "    \n",
    "plt.plot(range(42), pvalues, 'blue', \n",
    "         range(42), pvalues2, 'green')\n",
    "plt.xlabel(\"N_w\")\n",
    "plt.ylabel(\"p-value\")"
   ]
  },
  {
   "cell_type": "markdown",
   "metadata": {},
   "source": [
    "# Hypergeometric test\n",
    "\n",
    "Conditional on $B_{w\\ell} = n_w+n_\\ell$, the $p$-value is\n",
    "\n",
    "\\begin{equation}\n",
    "\\mathbb{P} \\{ d \\geq \\frac{n_w - n_\\ell}{n} | B_{w\\ell} = n_w+n_\\ell \\} = \\mathbb{P}\\{ B_w - B_\\ell \\geq n_w - n_\\ell | B_{w\\ell} = n_w+n_\\ell \\} \n",
    "   = \\sum_{(i, j) : i - j \\geq n_w-n_\\ell; i+j = n_w+n_\\ell; i, j\\geq 0} \\frac{ {N_w \\choose i}{N_\\ell \\choose j}}{{N_{w\\ell} \\choose n_w+n_\\ell}}.\n",
    "\\end{equation}\n",
    "\n",
    "Under the null hypothesis, $N_w - N_\\ell \\leq c$ for specified $c$, but neither parameter value is known.\n",
    "\n",
    "We show empirically, but not analytically, below that the tail probability is monotone increasing in $N_w$.\n",
    "\n",
    "Actually compute the $p$-value as\n",
    "\n",
    "\\begin{equation}\n",
    "\\mathbb{P} \\{ d \\geq \\frac{n_w - n_\\ell}{n} | B_{w\\ell} = n_w+n_\\ell \\} = \\mathbb{P}\\{ B_w - B_\\ell \\geq n_w - n_\\ell | B_{w\\ell} = n_w+n_\\ell \\} \n",
    "   = \\sum_{(i, j) : i - j \\geq n_w-n_\\ell; i+j = n_w+n_\\ell; i, j\\geq 0} \\frac{ {N_\\ell+c \\choose i}{N_\\ell \\choose j}}{{2N_\\ell+c \\choose n_w+n_\\ell}}.\n",
    "\\end{equation}"
   ]
  },
  {
   "cell_type": "code",
   "execution_count": 9,
   "metadata": {
    "collapsed": true
   },
   "outputs": [],
   "source": [
    "def diluted_margin_hypergeometric(w, l, N_w, N_l):\n",
    "    \"\"\"\n",
    "    Conduct hypergeometric test\n",
    "    \n",
    "    H_0: N_w - N_l <= c\n",
    "    H_1: N_w - N_l > c\n",
    "    \n",
    "    Parameters\n",
    "    ----------\n",
    "    w : int\n",
    "        number of votes for w in sample\n",
    "    l : int\n",
    "        number of votes for l in sample\n",
    "    N_w : int\n",
    "        total number of votes for w in the population *under the null*\n",
    "    N_l : int\n",
    "        total number of votes for l in the population *under the null*\n",
    "    Returns\n",
    "    -------\n",
    "    int\n",
    "        probability, under the null, of observing a number of votes for w \n",
    "        greater than or equal to input w in the sample\n",
    "    \"\"\"\n",
    "    delta = w-l\n",
    "    n = w+l\n",
    "    pairs = itertools.product(range(n+1), range(n+1))\n",
    "    pairs = itertools.filterfalse(lambda y: sum(y) != n, pairs)\n",
    "    pairs = itertools.filterfalse(lambda y: y[0] - y[1] < delta, pairs)\n",
    "    \n",
    "    pvalue = 0\n",
    "    for p in pairs:\n",
    "        pvalue += sp.stats.hypergeom.pmf(p[0], N_w + N_l, N_w, p[0]+p[1])\n",
    "    return pvalue\n",
    "\n",
    "\n",
    "def diluted_margin_hypergeometric2(w, l, N_w, N_l):\n",
    "    pvalue = 0\n",
    "    delta = w-l\n",
    "    n = w+l\n",
    "    for ww in range(int((delta+n) / 2), n+1):\n",
    "        pvalue += sp.stats.hypergeom.pmf(ww, N_w + N_l, N_w, n)\n",
    "    return pvalue"
   ]
  },
  {
   "cell_type": "code",
   "execution_count": 10,
   "metadata": {
    "collapsed": true
   },
   "outputs": [],
   "source": [
    "# Unit tests\n",
    "\n",
    "def test_find_pairs_hyper():\n",
    "    # example: w=2, l=1, n=3\n",
    "    pairs = itertools.product(range(3+1), range(3+1))\n",
    "    pairs = itertools.filterfalse(lambda y: sum(y) != 3, pairs)\n",
    "    pairs = itertools.filterfalse(lambda y: y[0] - y[1] < (2-1), pairs)\n",
    "    expected_p = [(2, 1), (3, 0)]\n",
    "    assert list(pairs)==expected_p\n",
    "    \n",
    "    # example: w=4, l=1, n=5\n",
    "    pairs = itertools.product(range(5+1), range(5+1))\n",
    "    pairs = itertools.filterfalse(lambda y: sum(y) != 5, pairs)\n",
    "    pairs = itertools.filterfalse(lambda y: y[0] - y[1] < (4-1), pairs)\n",
    "    expected_p = [(4, 1), (5, 0)]\n",
    "    assert list(pairs)==expected_p\n",
    "    \n",
    "    \n",
    "def test_diluted_margin_pvalue_hyper():\n",
    "    # example 1: w=2, l=1, n=3, W=L=U=2\n",
    "    t3 = 1*2/sp.misc.comb(4, 3)   # w=2, l=1, u=0\n",
    "    t4 = 0                        # w=3, l=0, u=0\n",
    "    np.testing.assert_almost_equal(diluted_margin_hypergeometric(2, 1, 2, 2), t3+t4)\n",
    "    np.testing.assert_almost_equal(diluted_margin_hypergeometric2(2, 1, 2, 2), t3+t4)\n",
    "    \n",
    "    # example 1: w=4, l=1, n=5, W=5, L=U=2\n",
    "    t3 = sp.misc.comb(5, 4)*2/sp.misc.comb(7, 5)   # w=4, l=1, u=0\n",
    "    t4 = 1*1/sp.misc.comb(7, 5)                    # w=5, l=0, u=0\n",
    "    np.testing.assert_almost_equal(diluted_margin_hypergeometric(4, 1, 5, 2), t3+t4)\n",
    "    np.testing.assert_almost_equal(diluted_margin_hypergeometric2(4, 1, 5, 2), t3+t4)\n",
    "    \n",
    "test_find_pairs_hyper()\n",
    "test_diluted_margin_pvalue_hyper()"
   ]
  },
  {
   "cell_type": "markdown",
   "metadata": {},
   "source": [
    "## Experiment 1 - few invalids\n",
    "\n",
    "Testing the hypothesis $\\pi_w - \\pi_\\ell \\leq 0$ -- the same as testing whether the winner and the loser got exactly the same vote share. This is in blue.\n",
    "Then we also test the hypotheses $N_w - N_\\ell \\leq 1$ (in green) and $N_w - N_\\ell \\leq 2$ (in red).\n",
    "\n",
    "Let $N = 100$, $n=30$, $n_w = 15$, $n_\\ell=10$, and $n_u = 5$.\n",
    "\n",
    "Below, we plot the $p$-values for varying values of $N_w$.\n",
    "\n",
    "The $p$-value is maximized for each contour at the largest possible value of $N_w$, and the contours have increasing $p$-values as the constant $N_w - N_\\ell$ decreases."
   ]
  },
  {
   "cell_type": "code",
   "execution_count": 11,
   "metadata": {
    "collapsed": false
   },
   "outputs": [
    {
     "data": {
      "text/plain": [
       "<matplotlib.text.Text at 0x110bb58d0>"
      ]
     },
     "execution_count": 11,
     "metadata": {},
     "output_type": "execute_result"
    },
    {
     "data": {
      "image/png": "[encoded data removed]",
      "text/plain": [
       "<matplotlib.figure.Figure at 0x110bfa860>"
      ]
     },
     "metadata": {},
     "output_type": "display_data"
    }
   ],
   "source": [
    "pvalues = np.zeros(47)\n",
    "for B in range(1,47):\n",
    "    pvalues[B] = diluted_margin_hypergeometric(w=15, l=10, N_w=B, N_l=B)\n",
    "\n",
    "pvalues2 = np.zeros(47)\n",
    "for B in range(1,47):\n",
    "    pvalues2[B] = diluted_margin_hypergeometric(w=15, l=10, N_w=B+1, N_l=B)\n",
    "\n",
    "pvalues3 = np.zeros(47)\n",
    "for B in range(1,47):\n",
    "    pvalues3[B] = diluted_margin_hypergeometric(w=15, l=10, N_w=B+2, N_l=B)\n",
    "    \n",
    "plt.plot(range(47), pvalues, 'blue', \n",
    "         range(1, 47+1), pvalues2, 'green',\n",
    "         range(2, 47+2), pvalues3, 'red')\n",
    "plt.xlabel(\"N_w\")\n",
    "plt.ylabel(\"p-value\")"
   ]
  },
  {
   "cell_type": "markdown",
   "metadata": {},
   "source": [
    "# Comparing tri-hypergeometric and plain hypergeometric\n",
    "\n",
    "## Experiment 1\n",
    "\n",
    "Testing the hypothesis $\\pi_w - \\pi_\\ell \\leq 2/N$.\n",
    "The tri-hypergeometric $p$-values are in blue and the hypergeometric $p$-values are in green, for increasing values of the parameter $N_w$.\n",
    "\n",
    "Let $N = 100$, $n=30$, $n_w = 15$, $n_\\ell=10$, and $n_u = 15$.\n",
    "\n",
    "The $p$-value is maximized for each contour at the largest possible value of $N_w$, and the contours have increasing $p$-values as the constant $N_w - N_\\ell$ decreases."
   ]
  },
  {
   "cell_type": "code",
   "execution_count": 12,
   "metadata": {
    "collapsed": false
   },
   "outputs": [
    {
     "data": {
      "text/plain": [
       "<matplotlib.text.Text at 0x110d34860>"
      ]
     },
     "execution_count": 12,
     "metadata": {},
     "output_type": "execute_result"
    },
    {
     "data": {
      "image/png": "[encoded data removed]",
      "text/plain": [
       "<matplotlib.figure.Figure at 0x110ac7b00>"
      ]
     },
     "metadata": {},
     "output_type": "display_data"
    }
   ],
   "source": [
    "pvalues = np.zeros(42)\n",
    "for B in range(42):\n",
    "    pvalues[B] = diluted_margin_trihypergeometric(w=15, l=10, n=30, N_w=B+2, N_l=B, N=100)\n",
    "    \n",
    "pvalues2 = np.zeros(42)\n",
    "for B in range(42):\n",
    "    pvalues2[B] = diluted_margin_hypergeometric(w=15, l=10, N_w=B+2, N_l=B)\n",
    "    \n",
    "pvalues3 = np.zeros(42)\n",
    "for B in range(42):\n",
    "    pvalues3[B] = diluted_margin_trihyper_conditional(w=15, l=10, n=30, N_w=B+2, N_l=B, N=100)\n",
    "    \n",
    "plt.plot(range(2, 42+2), pvalues, 'blue', \n",
    "         range(2, 42+2), pvalues2, 'green',\n",
    "         range(2, 42+2), pvalues3, 'red')\n",
    "plt.xlabel(\"N_w\")\n",
    "plt.ylabel(\"p-value\")"
   ]
  },
  {
   "cell_type": "markdown",
   "metadata": {},
   "source": [
    "# Comparing tri-hypergeometric and plain hypergeometric\n",
    "\n",
    "## Experiment 2\n",
    "\n",
    "Testing the hypothesis $N_w - N_\\ell \\leq 2$.\n",
    "The tri-hypergeometric $p$-values are in blue and the hypergeometric $p$-values are in green, for increasing values of the parameter $N_w$.\n",
    "\n",
    "Let $N = 100$, $n=30$, $n_w = 8$, $n_\\ell=7$, and $n_u = 15$."
   ]
  },
  {
   "cell_type": "code",
   "execution_count": 13,
   "metadata": {
    "collapsed": false
   },
   "outputs": [
    {
     "data": {
      "text/plain": [
       "<matplotlib.text.Text at 0x110e108d0>"
      ]
     },
     "execution_count": 13,
     "metadata": {},
     "output_type": "execute_result"
    },
    {
     "data": {
      "image/png": "[encoded data removed]",
      "text/plain": [
       "<matplotlib.figure.Figure at 0x110e186d8>"
      ]
     },
     "metadata": {},
     "output_type": "display_data"
    }
   ],
   "source": [
    "pvalues = np.zeros(42)\n",
    "for B in range(42):\n",
    "    pvalues[B] = diluted_margin_trihypergeometric(w=8, l=7, n=30, N_w=B+2, N_l=B, N=100)\n",
    "    \n",
    "pvalues2 = np.zeros(42)\n",
    "for B in range(42):\n",
    "    pvalues2[B] = diluted_margin_hypergeometric(w=8, l=7, N_w=B+2, N_l=B)\n",
    "\n",
    "pvalues3 = np.zeros(42)\n",
    "for B in range(42):\n",
    "    pvalues3[B] = diluted_margin_trihyper_conditional(w=8, l=7, n=30, N_w=B+2, N_l=B, N=100)\n",
    "    \n",
    "plt.plot(range(2, 42+2), pvalues, 'blue', \n",
    "         range(2, 42+2), pvalues2, 'green',\n",
    "         range(2, 42+2), pvalues3, 'red')\n",
    "plt.xlabel(\"N_w\")\n",
    "plt.ylabel(\"p-value\")"
   ]
  },
  {
   "cell_type": "markdown",
   "metadata": {},
   "source": [
    "## Takeaways\n",
    "\n",
    "* Not consistent whether the hypergeometric or tri-hypergeometric has more power. Perhaps hypergeometric actually is better!\n",
    "* The $p$-value of each test is maximized at the largest value of $N_w$. Thus, to construct a conservative test, take $N_w + N_\\ell = N - n_u$, where $n_u$ is the number of invalid ballots or ballots for other candidates *in the sample*. This gives a crude upper bound on how many valid ballots for the winner or loser exist in the population.\n",
    "* The p-values seem to be **increasing in c, the null hypothesis margin**. Thus, when testing a null hypothesis, the most conservative test lies on the boundary $N_w - N_\\ell = c$, with $N_w$ as large as possible."
   ]
  }
 ],
 "metadata": {
  "kernelspec": {
   "display_name": "Python 3",
   "language": "python",
   "name": "python3"
  },
  "language_info": {
   "codemirror_mode": {
    "name": "ipython",
    "version": 3
   },
   "file_extension": ".py",
   "mimetype": "text/x-python",
   "name": "python",
   "nbconvert_exporter": "python",
   "pygments_lexer": "ipython3",
   "version": "3.4.3"
  }
 },
 "nbformat": 4,
 "nbformat_minor": 2
}
