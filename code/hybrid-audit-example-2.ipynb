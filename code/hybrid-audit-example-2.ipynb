{
 "cells": [
  {
   "cell_type": "code",
   "execution_count": 10,
   "metadata": {
    "collapsed": true
   },
   "outputs": [],
   "source": [
    "from __future__ import division, print_function\n",
    "%matplotlib inline\n",
    "import matplotlib\n",
    "import matplotlib.pyplot as plt\n",
    "\n",
    "import math\n",
    "import numpy as np\n",
    "import numpy.random\n",
    "import scipy as sp\n",
    "import scipy.stats\n",
    "\n",
    "from ballot_comparison import findNmin_ballot_comparison_rates, ballot_comparison_pvalue\n",
    "from hypergeometric import trihypergeometric_optim, simulate_ballot_polling_power\n",
    "from fishers_combination import plot_fisher_pvalues"
   ]
  },
  {
   "cell_type": "markdown",
   "metadata": {},
   "source": [
    "# Example of a hybrid audit in a large election with an exact tie\n",
    "\n",
    "The numbers in this example may not be realistic, but serve as an example of what would happen in a tie election.\n",
    "\n",
    "There are two strata. One contains every CVR county and the other contains every no-CVR county.\n",
    "There were 2 million ballots cast in the election, 1.9 million in the CVR stratum and 100,000 in the no-CVR stratum.\n",
    "\n",
    "The reported vote margin between A and B is 22,000 votes, a \"diluted margin\" of just over $1\\%$.\n",
    "\n",
    "\n",
    "Candidate | Reported Stratum 1 |  Reported Stratum 2 | Reported total \n",
    "---|---|---|---\n",
    "A | 960,000 | 51,000 | 1,011,000\n",
    "B | 940,000 | 49,000 | 989,000\n",
    "Ballots | 1,900,000 | 100,000 | 2,000,000\n",
    "Diluted margin | 1.05% | 2% | 1.1%\n",
    "\n",
    "Assume there are only ballots for A and B.\n",
    "In each stratum, the A reportedly received more votes than B, but they *actually* received exactly the same number.\n",
    "In the CVR stratum, there were 960,000 votes reported for A and 940,000 votes reported for candidate B, a margin of 20,000 votes.\n",
    "In the no-CVR stratum, there were 51,000 votes reported for A and 49,000 votes for B, a margin of 2,000 votes.\n",
    "\n",
    "For any $\\lambda$, the reported outcome of the election is correct if the overstatement of the margin in the CVR stratum is less than $22000\\lambda$ votes and if the overstatement of the margin in the no-CVR stratum is less than $22000(1-\\lambda)$ votes. \n",
    "For this example, we set $\\lambda = 0.1$, which allocates most overstatement error to the no-CVR stratum.\n",
    "\n",
    "We want to limit the risk of certifying an incorrect outcome to at most $\\alpha=5\\%$. \n",
    "We allocate risk unequally between the two strata.\n",
    "The total risk is at most $1 - (1-\\alpha_1)(1-\\alpha_2)$.\n",
    "One choice is to set $\\alpha_1 = 1\\%$ and to solve for the value of $\\alpha_2$\n",
    "which makes $1 - (1-\\alpha_1)(1-\\alpha_2) = \\alpha$.\n",
    "In this case, $\\alpha_1=1\\%$ and $\\alpha_2 = 4.04\\%$ achieve the desired risk limit.\n",
    "\n",
    "We test the following pair of null hypotheses, using independent samples from the two strata:\n",
    "\n",
    "* the overstatement in the CVR stratum is less than $22000\\lambda$. We test at significance level\n",
    "(risk limit) $\\alpha_1$ using a ballot-level comparison audit\n",
    "\n",
    "* the overstatement in the no-CVR stratum is less than $22000(1-\\lambda)$. We test this at significance level (risk limit) $\\alpha_2$ using a ballot-polling audit\n",
    "\n",
    "If either null is not rejected, we hand count the corresponding stratum completely, adjust the null\n",
    "in the other stratum to reflect the known tally in the other stratum, and then determine whether there needs to be\n",
    "more auditing in the stratum that was not fully hand counted.\n",
    "\n",
    "\n",
    "## Two scenarios\n",
    "\n",
    "The audit will escalate to a full hand count in either of two scenarios:\n",
    "1) the CVR stratum leads to a full hand count and the allowable margin in the no-CVR stratum is adjusted\n",
    "2) the no-CVR stratum leads to a full hand count and the allowable margin in the CVR stratum is adjusted\n",
    "\n",
    "We illustrate both below.\n"
   ]
  },
  {
   "cell_type": "code",
   "execution_count": 2,
   "metadata": {
    "collapsed": true
   },
   "outputs": [],
   "source": [
    "lambda1 = 0.1\n",
    "lambda2 = 1-lambda1\n",
    "alpha1 = 0.01\n",
    "alpha2 = 0.0404\n",
    "alpha = 0.05\n",
    "reported_margin = 22000\n",
    "actual_margin = 0\n",
    "N1 = 1900000\n",
    "N2 = 100000"
   ]
  },
  {
   "cell_type": "markdown",
   "metadata": {},
   "source": [
    "# Scenario 1"
   ]
  },
  {
   "cell_type": "markdown",
   "metadata": {},
   "source": [
    "# CVR stratum\n",
    "\n",
    "We compute the sample size needed to confirm the election outcome, for a number of assumed rates of error in the population of ballots.\n",
    "\n",
    "We take the chosen $\\lambda$ from above and plug it in as the parameter `null_lambda` in the function below.\n",
    "\n",
    "We set $\\gamma = 1.03905$ as in \"A Gentle Introduction to Risk-limiting Audits.\"\n",
    "\n",
    "The reported margin in the stratum is just over $1\\%$; this indicates that $1\\%$ of ballots had some type of error.\n",
    "We explore some possibilities below and find that no matter the case, the audit would escalate to a full hand count."
   ]
  },
  {
   "cell_type": "code",
   "execution_count": 3,
   "metadata": {
    "collapsed": false
   },
   "outputs": [
    {
     "data": {
      "text/plain": [
       "nan"
      ]
     },
     "execution_count": 3,
     "metadata": {},
     "output_type": "execute_result"
    }
   ],
   "source": [
    "# Assuming that the audit will find 2-vote overstatements at 1%\n",
    "findNmin_ballot_comparison_rates(alpha=alpha1, gamma=1.03905, \n",
    "                                r1=0, s1=0, r2=0.01, s2=0,\n",
    "                                reported_margin=reported_margin, N=N1, null_lambda=lambda1)"
   ]
  },
  {
   "cell_type": "code",
   "execution_count": 4,
   "metadata": {
    "collapsed": false
   },
   "outputs": [
    {
     "data": {
      "text/plain": [
       "nan"
      ]
     },
     "execution_count": 4,
     "metadata": {},
     "output_type": "execute_result"
    }
   ],
   "source": [
    "# Assuming that the audit will find 1-vote overstatements at rate 0.5% \n",
    "# and 1-vote understatements at rate 0.5%\n",
    "findNmin_ballot_comparison_rates(alpha=alpha1, gamma=1.03905, \n",
    "                                r1=0.005, s1=0.005, r2=0, s2=0,\n",
    "                                reported_margin=reported_margin, N=N1, null_lambda=lambda1)"
   ]
  },
  {
   "cell_type": "markdown",
   "metadata": {},
   "source": [
    "The CVR county audit would procede to a full hand count; no sample size would be large enough to confirm that the reported results were correct.\n",
    "\n",
    "The full hand count would find that the margin in the CVR counties is actually 0 ballots.\n",
    "We use this to adjust the allowable overstatement in the no-CVR stratum.\n",
    "This result tells us that if the reported results are correct, then **all** of the reported margin occurs in the no-CVR stratum."
   ]
  },
  {
   "cell_type": "markdown",
   "metadata": {},
   "source": [
    "# No-CVR stratum\n",
    "\n",
    "Below, we compute the sample size $n$ needed to confirm the election outcome.\n",
    "\n",
    "Instead of the usual way of calculating the allowable overstatement, \n",
    "$$\n",
    "    c = \\text{reported margin in the stratum } - \\lambda_2 \\text{overall reported margin},\n",
    "$$\n",
    "\n",
    "the allowable overstatement is determiend based on subtracting the margin found by the CVR stratum hand count from the reported margin:\n",
    "\n",
    "$$\n",
    "    c = \\text{overall reported margin} - \\text{actual margin in the other stratum}.\n",
    "$$\n",
    "\n",
    "In this case, $c = 22,000$.\n",
    "\n",
    "$c$ defines the null hypothesis. We test the null that the actual margin in the stratum is less than or equal to $c$: $A_{w, 2} - A_{\\ell, 2} \\leq c$. Here, $A_{w, 2}+A_{\\ell,2}$ is an unknown nuisance parameter.\n",
    "\n",
    "In practice, we will maximize the $p$-value over all possible pairs $(A_{w,2}, A_{\\ell, 2})$ in the null."
   ]
  },
  {
   "cell_type": "code",
   "execution_count": 5,
   "metadata": {
    "collapsed": false
   },
   "outputs": [
    {
     "name": "stdout",
     "output_type": "stream",
     "text": [
      "margin that must be exceeded given the allowable overstatement is  22000\n",
      "threshold margin is  149\n"
     ]
    },
    {
     "data": {
      "text/plain": [
       "0.0"
      ]
     },
     "execution_count": 5,
     "metadata": {},
     "output_type": "execute_result"
    }
   ],
   "source": [
    "# We don't know N_w, N_\\ell so maximize the p-value over all possibilities.\n",
    "c = 22000\n",
    "print(\"margin that must be exceeded given the allowable overstatement is \", c)\n",
    "simulate_ballot_polling_power(N_w=50000, N_l=50000, N=N2,\n",
    "                             null_margin=c, n=500, alpha=alpha2,\n",
    "                             reps=10000, verbose=False, stepsize=20)"
   ]
  },
  {
   "cell_type": "markdown",
   "metadata": {},
   "source": [
    "A sample size of $n=500$ *never* allows us to stop the audit. We find the same result below using sample sizes of $n=1000$ and $n=5000$."
   ]
  },
  {
   "cell_type": "code",
   "execution_count": 6,
   "metadata": {
    "collapsed": false
   },
   "outputs": [
    {
     "name": "stdout",
     "output_type": "stream",
     "text": [
      "Allowable overstatement is  22000\n",
      "threshold margin is  275\n"
     ]
    },
    {
     "data": {
      "text/plain": [
       "0.0"
      ]
     },
     "execution_count": 6,
     "metadata": {},
     "output_type": "execute_result"
    }
   ],
   "source": [
    "c = 22000\n",
    "print(\"Allowable overstatement is \", c)\n",
    "simulate_ballot_polling_power(N_w=50000, N_l=50000, N=N2,\n",
    "                             null_margin=c, n=1000, alpha=alpha2,\n",
    "                             reps=10000, verbose=False, stepsize=50)"
   ]
  },
  {
   "cell_type": "code",
   "execution_count": 7,
   "metadata": {
    "collapsed": false
   },
   "outputs": [
    {
     "name": "stdout",
     "output_type": "stream",
     "text": [
      "Allowable overstatement is  22000\n",
      "threshold margin is  1219\n"
     ]
    },
    {
     "data": {
      "text/plain": [
       "0.0"
      ]
     },
     "execution_count": 7,
     "metadata": {},
     "output_type": "execute_result"
    }
   ],
   "source": [
    "c = 22000\n",
    "print(\"Allowable overstatement is \", c)\n",
    "simulate_ballot_polling_power(N_w=50000, N_l=50000, N=N2,\n",
    "                             null_margin=c, n=5000, alpha=alpha2,\n",
    "                             reps=10000, verbose=False, stepsize=50)"
   ]
  },
  {
   "cell_type": "markdown",
   "metadata": {},
   "source": [
    "# Scenario 2\n",
    "\n",
    "# No-CVR stratum"
   ]
  },
  {
   "cell_type": "code",
   "execution_count": 9,
   "metadata": {
    "collapsed": false
   },
   "outputs": [
    {
     "name": "stdout",
     "output_type": "stream",
     "text": [
      "Allowable overstatement is  -17800.0\n",
      "threshold margin is  -49\n"
     ]
    },
    {
     "data": {
      "text/plain": [
       "0.9845"
      ]
     },
     "execution_count": 9,
     "metadata": {},
     "output_type": "execute_result"
    }
   ],
   "source": [
    "# Assuming that the stratum reported margin is accurate\n",
    "\n",
    "# We don't know N_w, N_\\ell so maximize the p-value over all possibilities.\n",
    "c = (51000 - 49000) - lambda2*reported_margin\n",
    "print(\"Allowable overstatement is \", c)\n",
    "simulate_ballot_polling_power(N_w=50000, N_l=50000, N=N2,\n",
    "                             null_margin=c, n=500, alpha=alpha2,\n",
    "                             reps=10000, verbose=False, stepsize=100)"
   ]
  },
  {
   "cell_type": "markdown",
   "metadata": {},
   "source": [
    "In $98.45\\%$ of 10,000 simulations, sample size of 500 was sufficient to confirm the reported result in the no-CVR stratum is consistent with the overall reported margin. \n",
    "\n",
    "However, the CVR stratum would fail to confirm the outcome (as shown in Scenario 1). This would lead to adjusting the allowable overstatement in the no-CVR stratum and running the test again with $c=22,000$. \n",
    "\n",
    "Therefore, whether the CVR audit or the no-CVR audit finishes first, Scenario 1 will happen and all ballots will be recounted.\n"
   ]
  },
  {
   "cell_type": "markdown",
   "metadata": {},
   "source": [
    "# Scenario 3: Using Fisher's method to combine audits\n",
    "\n",
    "Even if we use large sample sizes in each stratum, the conclusion of Fisher's method will be to escalate the audit. In this case, we use sample sizes of $500$ in the CVR stratum and $1000$ in the no-CVR stratum. The Fisher's combined $p$-values are plotted for various values of $\\lambda$. The maximum is around $0.22$, so we cannot confirm the reported results at risk limit $5\\%$."
   ]
  },
  {
   "cell_type": "code",
   "execution_count": 12,
   "metadata": {
    "collapsed": false
   },
   "outputs": [
    {
     "data": {
      "image/png": "[encoded data removed]",
      "text/plain": [
       "<matplotlib.figure.Figure at 0x110a01550>"
      ]
     },
     "metadata": {},
     "output_type": "display_data"
    }
   ],
   "source": [
    "n1 = 500\n",
    "n2 = 1000\n",
    "\n",
    "N_w1 = int(N1/2)\n",
    "N_l1 = int(N1/2)\n",
    "N_w2 = int(N2/2)\n",
    "N_l2 = int(N2/2)\n",
    "\n",
    "cvr_pvalue = lambda alloc: ballot_comparison_pvalue(n=n1, gamma=1.03905, o1=int(0.005*n1), \n",
    "                                                    u1=int(0.005*n1), o2=0, u2=0, \n",
    "                                                    reported_margin=reported_margin, N=N1, \n",
    "                                                    null_lambda=alloc)\n",
    "\n",
    "\n",
    "nocvr_pvalue = lambda alloc: trihypergeometric_optim(sample= np.array([0]*int(n2*N_l2/N2)+\\\n",
    "                                                                      [1]*int(n2*N_w2/N2)+\\\n",
    "                                                                [np.nan]*int(n2*(N2-N_l2-N_w2)/N2)), \n",
    "                                                     popsize=N2, \n",
    "                                                     null_margin=(N_w2-N_l2) - alloc*reported_margin)\n",
    "\n",
    "plot_fisher_pvalues(N=(N1, N2), overall_margin=reported_margin, \n",
    "                    pvalue_funs=[cvr_pvalue, nocvr_pvalue], alpha=alpha)"
   ]
  }
 ],
 "metadata": {
  "kernelspec": {
   "display_name": "Python 3",
   "language": "python",
   "name": "python3"
  },
  "language_info": {
   "codemirror_mode": {
    "name": "ipython",
    "version": 3
   },
   "file_extension": ".py",
   "mimetype": "text/x-python",
   "name": "python",
   "nbconvert_exporter": "python",
   "pygments_lexer": "ipython3",
   "version": "3.4.3"
  }
 },
 "nbformat": 4,
 "nbformat_minor": 2
}
