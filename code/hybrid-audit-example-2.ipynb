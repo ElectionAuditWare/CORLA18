{
 "cells": [
  {
   "cell_type": "code",
   "execution_count": 1,
   "metadata": {
    "collapsed": true
   },
   "outputs": [],
   "source": [
    "from __future__ import division, print_function\n",
    "%matplotlib inline\n",
    "import matplotlib\n",
    "import matplotlib.pyplot as plt\n",
    "\n",
    "import math\n",
    "import numpy as np\n",
    "import numpy.random\n",
    "import scipy as sp\n",
    "import scipy.stats\n",
    "\n",
    "from ballot_comparison import findNmin_ballot_comparison_rates\n",
    "from hypergeometric import trihypergeometric_optim, simulate_ballot_polling_power"
   ]
  },
  {
   "cell_type": "markdown",
   "metadata": {},
   "source": [
    "# Example of a hybrid audit in a large election\n",
    "\n",
    "There are two strata. One contains every CVR county and the other contains every no-CVR county.\n",
    "There were 2 million ballots cast in the election, 1.9 million in the CVR stratum and 100,000 in the no-CVR stratum.\n",
    "\n",
    "In the CVR stratum, the diluted margin was $20\\%$: there were 1,102,000 votes reported for A, 703,000 votes reported for candidate B, and 76,000 invalid ballots.\n",
    "In the no-CVR stratum, the diluted margin was $-10\\%$: there were 42,500 votes reported for A, 52,500 votes for B, and 5,000 invalid ballots.\n",
    "A won overall, with 1,144,500 votes to B's 755,500, but not in the CVR stratum.\n",
    "\n",
    "Candidate | Stratum 1 | Stratum 2 | total \n",
    "---|---|---|---\n",
    "A | 1,102,000 | 42,500 | 1,144,500\n",
    "B | 703,000 |  52,500 | 755,500\n",
    "Ballots | 1,900,000 | 100,000 | 2,000,000\n",
    "\n",
    "\n",
    "The reported vote margin between A and B is 389,000 votes, a \"diluted margin\" of $389,000/2,000,000 = 19.45\\%$.\n",
    "\n",
    "For any $\\lambda$, the reported outcome of the election is correct if the overstatement of the margin in the CVR stratum is less than $389000\\lambda$ votes and if the overstatement of the margin in the no-CVR stratum is less than $389000(1-\\lambda)$ votes. \n",
    "For this example, we set $\\lambda = 0.1$, which allocates most overstatement error to the no-CVR stratum.\n",
    "\n",
    "We want to limit the risk of certifying an incorrect outcome to at most $\\alpha=5\\%$. \n",
    "We allocate risk unequally between the two strata.\n",
    "The total risk is at most $1 - (1-\\alpha_1)(1-\\alpha_2)$.\n",
    "One choice is to set $\\alpha_1 = 1\\%$ and to solve for the value of $\\alpha_2$\n",
    "which makes $1 - (1-\\alpha_1)(1-\\alpha_2) = \\alpha$.\n",
    "In this case, $\\alpha_1=1\\%$ and $\\alpha_2 = 4.04\\%$ achieve the desired risk limit.\n",
    "\n",
    "We test the following pair of null hypotheses, using independent samples from the two strata:\n",
    "\n",
    "* the overstatment in the CVR stratum is less than $389000\\lambda$. We test at significance level\n",
    "(risk limit) $\\alpha_1$ using a ballot-level comparison audit\n",
    "\n",
    "* the overstatment in the no-CVR stratum is less than $389000(1-\\lambda)$. We test this at significance level (risk limit) $\\alpha_2$ using a ballot-polling audit\n",
    "\n",
    "If either null is not rejected, we hand count the corresponding stratum completely, adjust the null\n",
    "in the other stratum to reflect the known tally in the other stratum, and then determine whether there needs to be\n",
    "more auditing in the stratum that was not fully hand counted.\n",
    "\n"
   ]
  },
  {
   "cell_type": "code",
   "execution_count": 2,
   "metadata": {
    "collapsed": true
   },
   "outputs": [],
   "source": [
    "lambda1 = 0.9\n",
    "lambda2 = 1-lambda1\n",
    "alpha1 = 0.01\n",
    "alpha2 = 0.0404\n",
    "margin = 389000\n",
    "N1 = 1900000\n",
    "N2 = 100000"
   ]
  },
  {
   "cell_type": "markdown",
   "metadata": {},
   "source": [
    "# CVR stratum\n",
    "\n",
    "We compute the sample size needed to confirm the election outcome, for a number of assumed rates of error in the population of ballots.\n",
    "\n",
    "We take the chosen $\\lambda$ from above and plug it in as the parameter `null_lambda` in the function below.\n",
    "\n",
    "We set $\\gamma = 1.03905$ as in \"A Gentle Introduction to Risk-limiting Audits.\""
   ]
  },
  {
   "cell_type": "code",
   "execution_count": 3,
   "metadata": {},
   "outputs": [
    {
     "data": {
      "text/plain": [
       "50.0"
      ]
     },
     "execution_count": 3,
     "metadata": {},
     "output_type": "execute_result"
    }
   ],
   "source": [
    "# Assuming that the audit will find no errors\n",
    "findNmin_ballot_comparison_rates(alpha=alpha1, gamma=1.03905, \n",
    "                                r1=0, s1=0, r2=0, s2=0,\n",
    "                                reported_margin=margin, N=N1, null_lambda=lambda1)"
   ]
  },
  {
   "cell_type": "code",
   "execution_count": 4,
   "metadata": {},
   "outputs": [
    {
     "data": {
      "text/plain": [
       "50.0"
      ]
     },
     "execution_count": 4,
     "metadata": {},
     "output_type": "execute_result"
    }
   ],
   "source": [
    "# Assuming that the audit will find 1-vote overstatements at rate 0.1%\n",
    "findNmin_ballot_comparison_rates(alpha=alpha1, gamma=1.03905, \n",
    "                                r1=0.001, s1=0, r2=0, s2=0,\n",
    "                                reported_margin=margin, N=N1, null_lambda=lambda1)"
   ]
  },
  {
   "cell_type": "markdown",
   "metadata": {},
   "source": [
    "# No-CVR stratum\n",
    "\n",
    "Below, we compute the sample size $n$ needed to confirm the election outcome.\n",
    "\n",
    "Define\n",
    "$$\n",
    "    c = \\text{reported margin in the stratum } - \\lambda_2 \\text{overall reported margin}.\n",
    "$$\n",
    "\n",
    "The reported margin in the stratum could be large or small, but it is known. \n",
    "\n",
    "$c$ defines the null hypothesis. We test the null that the actual margin in the stratum is less than or equal to $c$: $A_{w, 2} - A_{\\ell, 2} \\leq c$. Here, $A_{w, 2}+A_{\\ell,2}$ is an unknown nuisance parameter.\n",
    "\n",
    "In practice, we will maximize the $p$-value over all possible pairs $(A_{w,2}, A_{\\ell, 2})$ in the null."
   ]
  },
  {
   "cell_type": "code",
   "execution_count": 5,
   "metadata": {},
   "outputs": [
    {
     "name": "stdout",
     "output_type": "stream",
     "text": [
      "margin that must be exceeded given the allowable overstatement  is  -48899\n",
      "threshold margin is  -15\n"
     ]
    },
    {
     "data": {
      "text/plain": [
       "0.9163"
      ]
     },
     "execution_count": 5,
     "metadata": {},
     "output_type": "execute_result"
    }
   ],
   "source": [
    "# Assuming that the stratum reported margin is accurate\n",
    "\n",
    "# We don't know N_w, N_\\ell so maximize the p-value over all possibilities.\n",
    "c = int((42500-52500) - lambda2*margin)\n",
    "print(\"margin that must be exceeded given the allowable overstatement  is \", c)\n",
    "simulate_ballot_polling_power(N_w=42500, N_l=52500, N=N2, \n",
    "                              null_margin=c, n=56, alpha=alpha2,\n",
    "                              reps=10000, verbose=False)"
   ]
  },
  {
   "cell_type": "code",
   "execution_count": 6,
   "metadata": {},
   "outputs": [
    {
     "name": "stdout",
     "output_type": "stream",
     "text": [
      "Allowable overstatement is  -48899\n",
      "threshold margin is  -20\n"
     ]
    },
    {
     "data": {
      "text/plain": [
       "0.9538"
      ]
     },
     "execution_count": 6,
     "metadata": {},
     "output_type": "execute_result"
    }
   ],
   "source": [
    "c = int((42500-52500) - lambda2*margin)\n",
    "print(\"Allowable overstatement is \", c)\n",
    "simulate_ballot_polling_power(N_w=42500, N_l=52500, N=N2, \n",
    "                              null_margin=c, n=70, alpha=alpha2,\n",
    "                              reps=10000, verbose=False)"
   ]
  }
 ],
 "metadata": {
  "kernelspec": {
   "display_name": "Python 3",
   "language": "python",
   "name": "python3"
  },
  "language_info": {
   "codemirror_mode": {
    "name": "ipython",
    "version": 3
   },
   "file_extension": ".py",
   "mimetype": "text/x-python",
   "name": "python",
   "nbconvert_exporter": "python",
   "pygments_lexer": "ipython3",
   "version": "3.6.1"
  }
 },
 "nbformat": 4,
 "nbformat_minor": 2
}
